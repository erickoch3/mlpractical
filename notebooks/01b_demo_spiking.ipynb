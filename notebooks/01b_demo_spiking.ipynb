{
 "cells": [
  {
   "cell_type": "markdown",
   "metadata": {},
   "source": [
    "# 01b: Single-Layer Spiking NN (MNIST)\n",
    "\n",
    "This notebook demonstrates a minimal single-layer spiking neural network (SNN) trained from scratch using only NumPy and the repo's `MNISTDataProvider`.\n",
    "\n",
    "- Encoding: Poisson spike trains from pixel intensities.\n",
    "- Neuron: Simple LIF-like integration with soft reset.\n",
    "- Learning: Perceptron-style rule on input spike rates.\n",
    "- Evaluation: Argmax of output spike counts.\n",
    "\n",
    "This is a didactic example focused on clarity, not performance."
   ]
  },
  {
   "cell_type": "code",
   "execution_count": 2,
   "metadata": {},
   "outputs": [
    {
     "name": "stdout",
     "output_type": "stream",
     "text": [
      "Using data dir: /Users/ewkoch/repos/mlpractical/data\n"
     ]
    }
   ],
   "source": [
    "import os\n",
    "from pathlib import Path\n",
    "import numpy as np\n",
    "import matplotlib.pyplot as plt\n",
    "\n",
    "# Local package\n",
    "import mlp.data_providers as data_providers\n",
    "\n",
    "# Ensure MLP_DATA_DIR is set by walking up to find the repo's data/ folder\n",
    "def ensure_mlp_data_dir():\n",
    "    if os.environ.get('MLP_DATA_DIR'):\n",
    "        return Path(os.environ['MLP_DATA_DIR'])\n",
    "    here = Path.cwd().resolve()\n",
    "    for p in [here] + list(here.parents):\n",
    "        candidate = p / 'data'\n",
    "        if (candidate / 'mnist-train.npz').exists():\n",
    "            os.environ['MLP_DATA_DIR'] = str(candidate)\n",
    "            return candidate\n",
    "    raise RuntimeError('Could not locate data directory with mnist-*.npz')\n",
    "\n",
    "data_dir = ensure_mlp_data_dir()\n",
    "print('Using data dir:', data_dir)"
   ]
  },
  {
   "cell_type": "code",
   "execution_count": 3,
   "metadata": {},
   "outputs": [
    {
     "name": "stdout",
     "output_type": "stream",
     "text": [
      "Batches per epoch (train, valid): 100 50\n"
     ]
    }
   ],
   "source": [
    "# Create training/validation providers\n",
    "train_dp = data_providers.MNISTDataProvider('train', batch_size=64, max_num_batches=100, shuffle_order=True)\n",
    "valid_dp = data_providers.MNISTDataProvider('valid', batch_size=64, max_num_batches=50, shuffle_order=False)\n",
    "print('Batches per epoch (train, valid):', train_dp.len(), valid_dp.len())"
   ]
  },
  {
   "cell_type": "code",
   "execution_count": 4,
   "metadata": {},
   "outputs": [
    {
     "name": "stdout",
     "output_type": "stream",
     "text": [
      "Example spikes shape: (2, 10, 784) spike fraction: 0.023086734\n"
     ]
    }
   ],
   "source": [
    "# Utilities: scaling and Poisson encoding\n",
    "def scale01(x: np.ndarray) -> np.ndarray:\n",
    "    # MNIST may already be in [0,1], but guard just in case\n",
    "    xmax = np.max(x)\n",
    "    if xmax > 1.5:\n",
    "        return (x / 255.0).astype(np.float32)\n",
    "    return x.astype(np.float32)\n",
    "\n",
    "def poisson_encode(inputs: np.ndarray, T: int, rate_hz: float = 30.0, dt: float = 0.005, rng: np.random.RandomState | None = None) -> np.ndarray:\n",
    "    \"\"\"Encode inputs in [0,1] into Poisson spikes over T steps.\n",
    "    inputs: (B, D) in [0,1]\n",
    "    returns: spikes (B, T, D) with 0/1 values\n",
    "    \"\"\"\n",
    "    if rng is None:\n",
    "        rng = np.random.RandomState(0)\n",
    "    B, D = inputs.shape\n",
    "    lam = np.clip(inputs, 0.0, 1.0) * rate_hz * dt  # probability per bin\n",
    "    # Sample T independent Bernoulli trials per feature\n",
    "    spikes = rng.rand(B, T, D) < lam[:, None, :]\n",
    "    return spikes.astype(np.float32)\n",
    "\n",
    "# Quick sanity on encoder\n",
    "xb, yb = next(iter(train_dp))\n",
    "xb = scale01(xb)\n",
    "sp = poisson_encode(xb[:2], T=10)\n",
    "print('Example spikes shape:', sp.shape, 'spike fraction:', sp.mean())"
   ]
  },
  {
   "cell_type": "code",
   "execution_count": 5,
   "metadata": {},
   "outputs": [],
   "source": [
    "# Single-layer SNN with LIF-like integration and soft reset\n",
    "class SingleLayerSNN:\n",
    "    def __init__(self, input_dim: int, num_classes: int, dt: float = 0.005, tau: float = 0.02, vth: float = 1.0, seed: int = 0):\n",
    "        self.input_dim = input_dim\n",
    "        self.num_classes = num_classes\n",
    "        self.dt = dt\n",
    "        self.tau = tau\n",
    "        self.vth = vth\n",
    "        self.alpha = float(np.exp(-dt / tau))\n",
    "        rng = np.random.RandomState(seed)\n",
    "        # Small random weights\n",
    "        self.W = 0.01 * rng.randn(input_dim, num_classes).astype(np.float32)\n",
    "\n",
    "    def forward_counts(self, spikes: np.ndarray) -> np.ndarray:\n",
    "        \"\"\"spikes: (B, T, D) -> counts: (B, C)\n",
    "        Integrate inputs, emit spikes when v >= vth, soft reset.\n",
    "        \"\"\"\n",
    "        B, T, D = spikes.shape\n",
    "        assert D == self.input_dim\n",
    "        v = np.zeros((B, self.num_classes), dtype=np.float32)\n",
    "        counts = np.zeros_like(v)\n",
    "        for t in range(T):\n",
    "            xt = spikes[:, t, :]  # (B, D)\n",
    "            I = xt @ self.W       # (B, C)\n",
    "            v = self.alpha * v + I\n",
    "            fired = v >= self.vth\n",
    "            counts += fired.astype(np.float32)\n",
    "            # soft reset: subtract threshold where fired\n",
    "            v = np.where(fired, v - self.vth, v)\n",
    "        return counts\n",
    "\n",
    "    def predict(self, spikes: np.ndarray) -> np.ndarray:\n",
    "        counts = self.forward_counts(spikes)\n",
    "        return counts.argmax(axis=1)\n",
    "\n",
    "    def train_step(self, spikes: np.ndarray, y_int: np.ndarray, lr: float = 0.05) -> int:\n",
    "        \"\"\"Perceptron-like update on input spike rates.\n",
    "        Only misclassified samples contribute: +x_rate to true class, -x_rate to predicted.\n",
    "        \"\"\"\n",
    "        B = spikes.shape[0]\n",
    "        preds = self.predict(spikes)\n",
    "        mis = preds != y_int\n",
    "        if not np.any(mis):\n",
    "            return 0\n",
    "        # Use average input spike rate as a proxy feature\n",
    "        x_rate = spikes.mean(axis=1)  # (B, D)\n",
    "        E = np.zeros((B, self.num_classes), dtype=np.float32)\n",
    "        # For misclassified, increment true class, decrement predicted\n",
    "        E[np.arange(B)[mis], y_int[mis]] += 1.0\n",
    "        E[np.arange(B)[mis], preds[mis]] -= 1.0\n",
    "        dW = x_rate.T @ E  # (D, C)\n",
    "        self.W += (lr / B) * dW\n",
    "        return int(mis.sum())\n"
   ]
  },
  {
   "cell_type": "code",
   "execution_count": 8,
   "metadata": {},
   "outputs": [
    {
     "name": "stdout",
     "output_type": "stream",
     "text": [
      "Epoch 1: train_acc=0.298 valid_acc=0.524\n",
      "Epoch 2: train_acc=0.551 valid_acc=0.618\n",
      "Epoch 3: train_acc=0.634 valid_acc=0.669\n",
      "Epoch 4: train_acc=0.663 valid_acc=0.695\n",
      "Epoch 5: train_acc=0.699 valid_acc=0.721\n",
      "Epoch 6: train_acc=0.707 valid_acc=0.729\n",
      "Epoch 7: train_acc=0.723 valid_acc=0.734\n",
      "Epoch 8: train_acc=0.739 valid_acc=0.743\n",
      "Epoch 9: train_acc=0.742 valid_acc=0.759\n",
      "Epoch 10: train_acc=0.743 valid_acc=0.756\n",
      "Epoch 11: train_acc=0.756 valid_acc=0.754\n",
      "Epoch 12: train_acc=0.762 valid_acc=0.767\n",
      "Epoch 13: train_acc=0.767 valid_acc=0.774\n",
      "Epoch 14: train_acc=0.778 valid_acc=0.784\n",
      "Epoch 15: train_acc=0.775 valid_acc=0.785\n",
      "Epoch 16: train_acc=0.770 valid_acc=0.781\n",
      "Epoch 17: train_acc=0.778 valid_acc=0.796\n",
      "Epoch 18: train_acc=0.790 valid_acc=0.782\n",
      "Epoch 19: train_acc=0.791 valid_acc=0.786\n",
      "Epoch 20: train_acc=0.783 valid_acc=0.793\n",
      "Epoch 21: train_acc=0.795 valid_acc=0.783\n",
      "Epoch 22: train_acc=0.791 valid_acc=0.797\n",
      "Epoch 23: train_acc=0.792 valid_acc=0.802\n",
      "Epoch 24: train_acc=0.800 valid_acc=0.793\n",
      "Epoch 25: train_acc=0.790 valid_acc=0.794\n",
      "Epoch 26: train_acc=0.789 valid_acc=0.794\n",
      "Epoch 27: train_acc=0.794 valid_acc=0.803\n",
      "Epoch 28: train_acc=0.798 valid_acc=0.808\n",
      "Epoch 29: train_acc=0.808 valid_acc=0.807\n",
      "Epoch 30: train_acc=0.804 valid_acc=0.803\n",
      "Epoch 31: train_acc=0.808 valid_acc=0.807\n",
      "Epoch 32: train_acc=0.802 valid_acc=0.802\n",
      "Epoch 33: train_acc=0.802 valid_acc=0.801\n",
      "Epoch 34: train_acc=0.804 valid_acc=0.801\n",
      "Epoch 35: train_acc=0.802 valid_acc=0.797\n",
      "Epoch 36: train_acc=0.806 valid_acc=0.815\n",
      "Epoch 37: train_acc=0.808 valid_acc=0.803\n",
      "Epoch 38: train_acc=0.812 valid_acc=0.807\n",
      "Epoch 39: train_acc=0.810 valid_acc=0.808\n",
      "Epoch 40: train_acc=0.808 valid_acc=0.816\n",
      "Epoch 41: train_acc=0.808 valid_acc=0.811\n",
      "Epoch 42: train_acc=0.818 valid_acc=0.807\n",
      "Epoch 43: train_acc=0.811 valid_acc=0.809\n",
      "Epoch 44: train_acc=0.807 valid_acc=0.812\n",
      "Epoch 45: train_acc=0.811 valid_acc=0.821\n",
      "Epoch 46: train_acc=0.807 valid_acc=0.817\n",
      "Epoch 47: train_acc=0.816 valid_acc=0.817\n",
      "Epoch 48: train_acc=0.820 valid_acc=0.811\n",
      "Epoch 49: train_acc=0.810 valid_acc=0.812\n",
      "Epoch 50: train_acc=0.810 valid_acc=0.821\n"
     ]
    }
   ],
   "source": [
    "# Train the SNN on a subset for speed\n",
    "input_dim = 28*28\n",
    "num_classes = 10\n",
    "snn = SingleLayerSNN(input_dim, num_classes, dt=0.005, tau=0.02, vth=1.0, seed=1)\n",
    "\n",
    "epochs = 50\n",
    "T = 20\n",
    "lr = 0.05\n",
    "rng = np.random.RandomState(123)\n",
    "\n",
    "for ep in range(1, epochs+1):\n",
    "    total, wrong = 0, 0\n",
    "    for xb, yb in train_dp:\n",
    "        xb = scale01(xb)\n",
    "        y_int = yb.argmax(axis=1).astype(int)\n",
    "        spikes = poisson_encode(xb, T=T, rate_hz=30.0, dt=snn.dt, rng=rng)\n",
    "        wrong += snn.train_step(spikes, y_int, lr=lr)\n",
    "        total += xb.shape[0]\n",
    "    train_acc = 1.0 - wrong / max(1, total)\n",
    "    # Evaluate\n",
    "    correct_v, total_v = 0, 0\n",
    "    for xb, yb in valid_dp:\n",
    "        xb = scale01(xb)\n",
    "        y_int = yb.argmax(axis=1).astype(int)\n",
    "        spikes = poisson_encode(xb, T=T, rate_hz=30.0, dt=snn.dt, rng=rng)\n",
    "        preds = snn.predict(spikes)\n",
    "        correct_v += int((preds == y_int).sum())\n",
    "        total_v += xb.shape[0]\n",
    "    valid_acc = correct_v / max(1, total_v)\n",
    "    print(f'Epoch {ep}: train_acc={train_acc:.3f} valid_acc={valid_acc:.3f}')"
   ]
  },
  {
   "cell_type": "code",
   "execution_count": 9,
   "metadata": {},
   "outputs": [
    {
     "name": "stdout",
     "output_type": "stream",
     "text": [
      "True label: 3 Predicted: 3\n"
     ]
    },
    {
     "data": {
      "image/png": "[encoded data removed]",
      "text/plain": [
       "<Figure size 600x300 with 1 Axes>"
      ]
     },
     "metadata": {},
     "output_type": "display_data"
    }
   ],
   "source": [
    "# Visualize spikes for a single example\n",
    "xb, yb = next(iter(valid_dp))\n",
    "xb = scale01(xb)\n",
    "label = int(yb[0].argmax())\n",
    "sp = poisson_encode(xb[:1], T=30, rate_hz=30.0, dt=snn.dt, rng=np.random.RandomState(0))  # (1, T, D)\n",
    "pred = int(snn.predict(sp)[0])\n",
    "print('True label:', label, 'Predicted:', pred)\n",
    "\n",
    "plt.figure(figsize=(6, 3))\n",
    "# Raster: plot spikes for first 200 input channels to keep it readable\n",
    "subset = 200\n",
    "sp_idx, t_idx = np.where(sp[0, :, :subset].T > 0)  # (neuron, time) pairs\n",
    "plt.scatter(t_idx, sp_idx, s=3, c='black')\n",
    "plt.xlabel('Time step')\n",
    "plt.ylabel('Input neuron (subset)')\n",
    "plt.title(f'Input spikes (subset) | true={label} pred={pred}')\n",
    "plt.tight_layout()\n",
    "plt.show()"
   ]
  },
  {
   "cell_type": "code",
   "execution_count": null,
   "id": "e73aa455",
   "metadata": {},
   "outputs": [],
   "source": []
  }
 ],
 "metadata": {
  "kernelspec": {
   "display_name": "mlp",
   "language": "python",
   "name": "python3"
  },
  "language_info": {
   "codemirror_mode": {
    "name": "ipython",
    "version": 3
   },
   "file_extension": ".py",
   "mimetype": "text/x-python",
   "name": "python",
   "nbconvert_exporter": "python",
   "pygments_lexer": "ipython3",
   "version": "3.12.11"
  }
 },
 "nbformat": 4,
 "nbformat_minor": 5
}
