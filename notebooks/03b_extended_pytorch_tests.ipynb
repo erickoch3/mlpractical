{
 "cells": [
  {
   "cell_type": "markdown",
   "id": "7487b97b",
   "metadata": {},
   "source": [
    "# Extended PyTorch Experiments for MNIST\n",
    "\n",
    "This notebook builds on the earlier feed-forward MNIST models and layers in a handful of modern training tricks. The goal is to push past the ~97–98% accuracy plateau by combining better regularisation, smarter optimisation schedules, light data augmentation, and systematic experiment tracking with Weights & Biases (W&B)."
   ]
  },
  {
   "cell_type": "markdown",
   "id": "ed37f805",
   "metadata": {},
   "source": [
    "## What You Will Do\n",
    "- Reuse the earlier data preparation but add optional augmentation that still preserves digit legibility.\n",
    "- Experiment with deeper fully-connected networks that use GELU activations, batch normalisation, and dropout.\n",
    "- Train with label smoothing, gradient clipping, and the One-Cycle learning rate policy.\n",
    "- Log every run (hyperparameters, metrics, and sample failures) to W&B so you can compare experiments later.\n",
    "- Surface misclassified examples directly in the notebook and in the W&B UI for qualitative inspection."
   ]
  },
  {
   "cell_type": "markdown",
   "id": "f5750410",
   "metadata": {},
   "source": [
    "## Weights & Biases Setup\n",
    "1. (Once per machine) Create or log into a [Weights & Biases](https://wandb.ai) account.\n",
    "2. In a terminal (with the `mlp` Conda env active) run `wandb login` and paste your API key. The key is stored in `~/.netrc` so subsequent notebooks can authenticate automatically.\n",
    "3. If you prefer offline logging (e.g., while travelling), set `WANDB_MODE=offline` before launching Jupyter. You can later sync runs with `wandb sync run-directory`.\n",
    "4. Fill in the `wandb_project` (and optionally `wandb_entity`) in the config cell below so runs land in the desired project."
   ]
  },
  {
   "cell_type": "code",
   "execution_count": 1,
   "id": "144b11f6",
   "metadata": {},
   "outputs": [
    {
     "name": "stderr",
     "output_type": "stream",
     "text": [
      "/usr/local/anaconda3/envs/mlp/lib/python3.12/site-packages/pydantic/_internal/_generate_schema.py:2249: UnsupportedFieldAttributeWarning: The 'repr' attribute with value False was provided to the `Field()` function, which has no effect in the context it was used. 'repr' is field-specific metadata, and can only be attached to a model field using `Annotated` metadata or by assignment. This may have happened because an `Annotated` type alias using the `type` statement was used, or if the `Field()` function was attached to a single member of a union type.\n",
      "  warnings.warn(\n",
      "/usr/local/anaconda3/envs/mlp/lib/python3.12/site-packages/pydantic/_internal/_generate_schema.py:2249: UnsupportedFieldAttributeWarning: The 'frozen' attribute with value True was provided to the `Field()` function, which has no effect in the context it was used. 'frozen' is field-specific metadata, and can only be attached to a model field using `Annotated` metadata or by assignment. This may have happened because an `Annotated` type alias using the `type` statement was used, or if the `Field()` function was attached to a single member of a union type.\n",
      "  warnings.warn(\n"
     ]
    }
   ],
   "source": [
    "import wandb"
   ]
  },
  {
   "cell_type": "code",
   "execution_count": 2,
   "id": "e67b9212",
   "metadata": {},
   "outputs": [
    {
     "name": "stdout",
     "output_type": "stream",
     "text": [
      "Running on: mps\n"
     ]
    }
   ],
   "source": [
    "import math\n",
    "import os\n",
    "from pathlib import Path\n",
    "from typing import Dict, Iterable, List, Optional, Tuple\n",
    "\n",
    "import matplotlib.pyplot as plt\n",
    "import numpy as np\n",
    "import torch\n",
    "from torch import nn\n",
    "from torch.utils.data import DataLoader, random_split\n",
    "from torchvision import datasets, transforms\n",
    "\n",
    "# Make sure wandb is available after optional install\n",
    "import wandb\n",
    "\n",
    "DEVICE = torch.device(\"cuda\" if torch.cuda.is_available() else \"mps\" if torch.backends.mps.is_available() else \"cpu\")\n",
    "print(f\"Running on: {DEVICE}\")\n",
    "\n",
    "MNIST_MEAN = 0.1307\n",
    "MNIST_STD = 0.3081\n"
   ]
  },
  {
   "cell_type": "code",
   "execution_count": 3,
   "id": "c102da49",
   "metadata": {},
   "outputs": [],
   "source": [
    "def set_seed(seed: int = 42) -> None:\n",
    "    torch.manual_seed(seed)\n",
    "    np.random.seed(seed)\n",
    "    if torch.cuda.is_available():\n",
    "        torch.cuda.manual_seed_all(seed)\n",
    "\n",
    "set_seed(42)\n",
    "\n",
    "def to_display_image(tensor: torch.Tensor) -> np.ndarray:\n",
    "    \"\"\"Convert a normalised tensor to a clipped 2D numpy array for visualization.\"\"\"\n",
    "    arr = tensor.detach().cpu() * MNIST_STD + MNIST_MEAN\n",
    "    arr = arr.clamp(0.0, 1.0)\n",
    "    return arr.squeeze().numpy()\n"
   ]
  },
  {
   "cell_type": "code",
   "execution_count": 4,
   "id": "842ee83e",
   "metadata": {},
   "outputs": [],
   "source": [
    "def build_transforms(augment: bool = True) -> Tuple[transforms.Compose, transforms.Compose]:\n",
    "    \"\"\"Return training and evaluation transforms.\"\"\"\n",
    "    normalize = transforms.Normalize((0.1307,), (0.3081,))\n",
    "    if augment:\n",
    "        train_tfms = transforms.Compose([\n",
    "            transforms.RandomApply([transforms.RandomRotation(10)], p=0.5),\n",
    "            transforms.RandomApply([transforms.RandomAffine(degrees=0, translate=(0.08, 0.08))], p=0.5),\n",
    "            transforms.ToTensor(),\n",
    "            transforms.RandomErasing(p=0.1, scale=(0.02, 0.1), ratio=(0.3, 3.3), value=0.0),\n",
    "            normalize,\n",
    "        ])\n",
    "    else:\n",
    "        train_tfms = transforms.Compose([\n",
    "            transforms.ToTensor(),\n",
    "            normalize,\n",
    "        ])\n",
    "\n",
    "    eval_tfms = transforms.Compose([\n",
    "        transforms.ToTensor(),\n",
    "        normalize,\n",
    "    ])\n",
    "    return train_tfms, eval_tfms"
   ]
  },
  {
   "cell_type": "code",
   "execution_count": 5,
   "id": "d544d2bd",
   "metadata": {},
   "outputs": [],
   "source": [
    "def build_dataloaders(data_dir: Optional[str], batch_size: int, valid_split: int = 10_000, augment: bool = True) -> Tuple[DataLoader, DataLoader, DataLoader]:\n",
    "    data_root = Path(data_dir) if data_dir else Path(os.environ.get(\"MLP_DATA_DIR\", Path.cwd() / \"data\"))\n",
    "    data_root.mkdir(parents=True, exist_ok=True)\n",
    "\n",
    "    train_tfms, eval_tfms = build_transforms(augment=augment)\n",
    "\n",
    "    train_full = datasets.MNIST(root=data_root, train=True, download=True, transform=train_tfms)\n",
    "    test_dataset = datasets.MNIST(root=data_root, train=False, download=True, transform=eval_tfms)\n",
    "\n",
    "    if valid_split >= len(train_full):\n",
    "        raise ValueError(\"valid_split must be smaller than the size of the training set\")\n",
    "\n",
    "    train_size = len(train_full) - valid_split\n",
    "    train_dataset, valid_dataset = random_split(train_full, [train_size, valid_split], generator=torch.Generator().manual_seed(42))\n",
    "    valid_dataset.dataset.transform = eval_tfms  # disable augmentation for validation\n",
    "\n",
    "    train_loader = DataLoader(train_dataset, batch_size=batch_size, shuffle=True, num_workers=4, pin_memory=True)\n",
    "    valid_loader = DataLoader(valid_dataset, batch_size=batch_size, shuffle=False, num_workers=4, pin_memory=True)\n",
    "    test_loader = DataLoader(test_dataset, batch_size=batch_size, shuffle=False, num_workers=4, pin_memory=True)\n",
    "\n",
    "    return train_loader, valid_loader, test_loader"
   ]
  },
  {
   "cell_type": "code",
   "execution_count": 6,
   "id": "6290175f",
   "metadata": {},
   "outputs": [],
   "source": [
    "class FeedForwardNet(nn.Module):\n",
    "    def __init__(self, hidden_units: Iterable[int], dropout: float) -> None:\n",
    "        super().__init__()\n",
    "        dims = [28 * 28, *hidden_units, 10]\n",
    "        layers: List[nn.Module] = []\n",
    "        for in_dim, out_dim in zip(dims[:-1], dims[1:]):\n",
    "            layers.append(nn.Linear(in_dim, out_dim))\n",
    "            if out_dim != 10:\n",
    "                layers.extend([nn.BatchNorm1d(out_dim), nn.GELU(), nn.Dropout(dropout)])\n",
    "        self.net = nn.Sequential(nn.Flatten(), *layers)\n",
    "\n",
    "    def forward(self, x: torch.Tensor) -> torch.Tensor:\n",
    "        return self.net(x)"
   ]
  },
  {
   "cell_type": "code",
   "execution_count": 7,
   "id": "a81661a7",
   "metadata": {},
   "outputs": [],
   "source": [
    "class LabelSmoothingCrossEntropy(nn.Module):\n",
    "    def __init__(self, smoothing: float = 0.0) -> None:\n",
    "        super().__init__()\n",
    "        if not 0.0 <= smoothing < 1.0:\n",
    "            raise ValueError(\"smoothing must be in [0, 1)\")\n",
    "        self.smoothing = smoothing\n",
    "        self.log_softmax = nn.LogSoftmax(dim=-1)\n",
    "\n",
    "    def forward(self, logits: torch.Tensor, target: torch.Tensor) -> torch.Tensor:\n",
    "        n_classes = logits.size(-1)\n",
    "        log_probs = self.log_softmax(logits)\n",
    "        with torch.no_grad():\n",
    "            true_dist = torch.zeros_like(log_probs)\n",
    "            true_dist.fill_(self.smoothing / (n_classes - 1))\n",
    "            true_dist.scatter_(1, target.unsqueeze(1), 1.0 - self.smoothing)\n",
    "        loss = torch.sum(-true_dist * log_probs, dim=-1)\n",
    "        return loss.mean()"
   ]
  },
  {
   "cell_type": "code",
   "execution_count": 8,
   "id": "48b1112b",
   "metadata": {},
   "outputs": [],
   "source": [
    "def mixup_batch(x: torch.Tensor, y: torch.Tensor, alpha: float = 0.0):\n",
    "    if alpha <= 0.0:\n",
    "        return x, y, y, 1.0\n",
    "    lam = np.random.beta(alpha, alpha)\n",
    "    batch_size = x.size(0)\n",
    "    index = torch.randperm(batch_size, device=x.device)\n",
    "    mixed_x = lam * x + (1 - lam) * x[index]\n",
    "    targets_a, targets_b = y, y[index]\n",
    "    return mixed_x, targets_a, targets_b, lam"
   ]
  },
  {
   "cell_type": "code",
   "execution_count": 9,
   "id": "92b22cc7",
   "metadata": {},
   "outputs": [],
   "source": [
    "def accuracy_from_logits(logits: torch.Tensor, target: torch.Tensor) -> float:\n",
    "    preds = torch.argmax(logits, dim=1)\n",
    "    return (preds == target).float().mean().item()"
   ]
  },
  {
   "cell_type": "code",
   "execution_count": 10,
   "id": "5df8133b",
   "metadata": {},
   "outputs": [],
   "source": [
    "def evaluate(model: nn.Module, data_loader: DataLoader, criterion: nn.Module) -> Tuple[float, float]:\n",
    "    model.eval()\n",
    "    losses, accs = [], []\n",
    "    with torch.no_grad():\n",
    "        for x, y in data_loader:\n",
    "            x = x.to(DEVICE)\n",
    "            y = y.to(DEVICE)\n",
    "            logits = model(x)\n",
    "            loss = criterion(logits, y)\n",
    "            losses.append(loss.item())\n",
    "            accs.append(accuracy_from_logits(logits, y))\n",
    "    return float(np.mean(losses)), float(np.mean(accs))"
   ]
  },
  {
   "cell_type": "code",
   "execution_count": 11,
   "id": "76efa952",
   "metadata": {},
   "outputs": [],
   "source": [
    "def collect_predictions(\n",
    "    model: nn.Module,\n",
    "    data_loader: DataLoader,\n",
    "    limit_misclassified: int = 16,\n",
    ") -> Tuple[np.ndarray, np.ndarray, np.ndarray, List[Dict]]:\n",
    "    \"\"\"Return predictions, targets, probabilities, and a sample of mistakes.\"\"\"\n",
    "    model.eval()\n",
    "    all_preds: List[torch.Tensor] = []\n",
    "    all_targets: List[torch.Tensor] = []\n",
    "    all_probs: List[torch.Tensor] = []\n",
    "    misclassified: List[Dict] = []\n",
    "\n",
    "    with torch.no_grad():\n",
    "        for x, y in data_loader:\n",
    "            x = x.to(DEVICE)\n",
    "            y = y.to(DEVICE)\n",
    "            logits = model(x)\n",
    "            probs = torch.softmax(logits, dim=1)\n",
    "            preds = probs.argmax(dim=1)\n",
    "\n",
    "            all_preds.append(preds.cpu())\n",
    "            all_targets.append(y.cpu())\n",
    "            all_probs.append(probs.cpu())\n",
    "\n",
    "            if len(misclassified) < limit_misclassified:\n",
    "                mis_mask = preds != y\n",
    "                if mis_mask.any():\n",
    "                    for img, true_label, pred_label, prob_vec in zip(\n",
    "                        x[mis_mask],\n",
    "                        y[mis_mask],\n",
    "                        preds[mis_mask],\n",
    "                        probs[mis_mask],\n",
    "                    ):\n",
    "                        misclassified.append(\n",
    "                            {\n",
    "                                \"image\": img.detach().cpu(),\n",
    "                                \"true\": int(true_label),\n",
    "                                \"pred\": int(pred_label),\n",
    "                                \"confidence\": float(prob_vec[pred_label].item()),\n",
    "                                \"probabilities\": prob_vec.detach().cpu().numpy(),\n",
    "                            }\n",
    "                        )\n",
    "                        if len(misclassified) >= limit_misclassified:\n",
    "                            break\n",
    "\n",
    "    preds_array = torch.cat(all_preds).numpy()\n",
    "    targets_array = torch.cat(all_targets).numpy()\n",
    "    probs_array = torch.cat(all_probs).numpy()\n",
    "    return preds_array, targets_array, probs_array, misclassified\n"
   ]
  },
  {
   "cell_type": "code",
   "execution_count": 12,
   "id": "14d871e9",
   "metadata": {},
   "outputs": [],
   "source": [
    "def train_epoch(\n",
    "    model: nn.Module,\n",
    "    data_loader: DataLoader,\n",
    "    optimizer: torch.optim.Optimizer,\n",
    "    criterion: nn.Module,\n",
    "    scheduler: Optional[torch.optim.lr_scheduler._LRScheduler],\n",
    "    gradient_clip: Optional[float],\n",
    "    mixup_alpha: float,\n",
    ") -> Tuple[float, float, Optional[float]]:\n",
    "    model.train()\n",
    "    losses, accs, grad_norms = [], [], []\n",
    "    for x, y in data_loader:\n",
    "        x = x.to(DEVICE)\n",
    "        y = y.to(DEVICE)\n",
    "\n",
    "        mixed_x, targets_a, targets_b, lam = mixup_batch(x, y, alpha=mixup_alpha)\n",
    "        logits = model(mixed_x)\n",
    "        if lam == 1.0:\n",
    "            loss = criterion(logits, targets_a)\n",
    "            acc = accuracy_from_logits(logits, targets_a)\n",
    "        else:\n",
    "            loss = lam * criterion(logits, targets_a) + (1 - lam) * criterion(logits, targets_b)\n",
    "            acc = lam * accuracy_from_logits(logits, targets_a) + (1 - lam) * accuracy_from_logits(logits, targets_b)\n",
    "\n",
    "        optimizer.zero_grad(set_to_none=True)\n",
    "        loss.backward()\n",
    "        grad_norm = None\n",
    "        if gradient_clip:\n",
    "            grad_norm = torch.nn.utils.clip_grad_norm_(model.parameters(), gradient_clip).item()\n",
    "        else:\n",
    "            # Compute gradient norm without clipping for logging purposes.\n",
    "            grad_sq = 0.0\n",
    "            for param in model.parameters():\n",
    "                if param.grad is not None:\n",
    "                    grad_sq += param.grad.detach().pow(2).sum().item()\n",
    "            grad_norm = float(math.sqrt(grad_sq)) if grad_sq > 0 else 0.0\n",
    "        optimizer.step()\n",
    "        if scheduler:\n",
    "            scheduler.step()\n",
    "\n",
    "        losses.append(loss.item())\n",
    "        accs.append(acc)\n",
    "        if grad_norm is not None:\n",
    "            grad_norms.append(grad_norm)\n",
    "\n",
    "    avg_grad = float(np.mean(grad_norms)) if grad_norms else None\n",
    "    return float(np.mean(losses)), float(np.mean(accs)), avg_grad\n"
   ]
  },
  {
   "cell_type": "code",
   "execution_count": 13,
   "id": "fa9f8c98",
   "metadata": {},
   "outputs": [],
   "source": [
    "def log_misclassified_to_wandb(misclassified: List[Dict]) -> None:\n",
    "    \"\"\"Log misclassified samples as both images and a table in W&B.\"\"\"\n",
    "    if not misclassified:\n",
    "        wandb.log({\"misclassified_examples\": []})\n",
    "        return\n",
    "\n",
    "    images = []\n",
    "    table = wandb.Table(columns=[\n",
    "        \"image\",\n",
    "        \"true_label\",\n",
    "        \"pred_label\",\n",
    "        \"confidence\",\n",
    "        \"probabilities\",\n",
    "    ])\n",
    "\n",
    "    for sample in misclassified:\n",
    "        img_arr = to_display_image(sample[\"image\"])\n",
    "        caption = f\"true={sample['true']} | pred={sample['pred']} | conf={sample['confidence']:.2f}\"\n",
    "        wb_image = wandb.Image(img_arr, caption=caption)\n",
    "        images.append(wb_image)\n",
    "        table.add_data(\n",
    "            wb_image,\n",
    "            sample[\"true\"],\n",
    "            sample[\"pred\"],\n",
    "            sample[\"confidence\"],\n",
    "            sample[\"probabilities\"].tolist(),\n",
    "        )\n",
    "\n",
    "    wandb.log({\n",
    "        \"misclassified_examples\": images,\n",
    "        \"misclassified_table\": table,\n",
    "        \"misclassified_count\": len(misclassified),\n",
    "    })\n"
   ]
  },
  {
   "cell_type": "code",
   "execution_count": 14,
   "id": "b87f9b6f",
   "metadata": {},
   "outputs": [],
   "source": [
    "default_config = {\n",
    "    \"run_name\": \"gelu_bn_dropout\",\n",
    "    \"wandb_project\": \"mlp-mnist-extended\",\n",
    "    # \"wandb_entity\": \"your-entity\",  # uncomment if you use teams\n",
    "    \"batch_size\": 256,\n",
    "    \"epochs\": 20,\n",
    "    \"learning_rate\": 5e-3,\n",
    "    \"weight_decay\": 1e-4,\n",
    "    \"max_lr\": 0.03,\n",
    "    \"gradient_clip\": 1.0,\n",
    "    \"hidden_units\": [1024, 512, 256],\n",
    "    \"dropout\": 0.25,\n",
    "    \"label_smoothing\": 0.05,\n",
    "    \"mixup_alpha\": 0.1,\n",
    "    \"augment\": True,\n",
    "    \"valid_split\": 8_000,\n",
    "    \"data_dir\": None,\n",
    "}\n",
    "\n",
    "\n",
    "def run_experiment(config_updates: Optional[Dict] = None) -> Dict:\n",
    "    \"\"\"Train the model with optional config overrides or W&B sweep parameters.\"\"\"\n",
    "    cfg = default_config.copy()\n",
    "    if config_updates:\n",
    "        cfg.update(config_updates)\n",
    "\n",
    "    wandb_kwargs = {\"project\": cfg[\"wandb_project\"]}\n",
    "    if cfg.get(\"wandb_entity\"):\n",
    "        wandb_kwargs[\"entity\"] = cfg[\"wandb_entity\"]\n",
    "\n",
    "    base_run_name = cfg.get(\"run_name\")\n",
    "    excluded_keys = {\"wandb_project\", \"wandb_entity\", \"run_name\"}\n",
    "    logged_config = {k: v for k, v in cfg.items() if k not in excluded_keys}\n",
    "\n",
    "    with wandb.init(**wandb_kwargs, config=logged_config) as run:\n",
    "        sweep_cfg = dict(run.config)\n",
    "        cfg.update(sweep_cfg)\n",
    "\n",
    "        if base_run_name and not run.name:\n",
    "            run.name = f\"{base_run_name}-{run.id[:8]}\"\n",
    "\n",
    "        set_seed(cfg.get(\"seed\", 42))\n",
    "        train_loader, valid_loader, test_loader = build_dataloaders(\n",
    "            cfg.get(\"data_dir\"),\n",
    "            cfg[\"batch_size\"],\n",
    "            cfg[\"valid_split\"],\n",
    "            augment=cfg[\"augment\"],\n",
    "        )\n",
    "\n",
    "        model = FeedForwardNet(cfg[\"hidden_units\"], cfg[\"dropout\"]).to(DEVICE)\n",
    "        criterion = LabelSmoothingCrossEntropy(cfg[\"label_smoothing\"])\n",
    "        optimizer = torch.optim.AdamW(\n",
    "            model.parameters(),\n",
    "            lr=cfg[\"learning_rate\"],\n",
    "            weight_decay=cfg[\"weight_decay\"],\n",
    "        )\n",
    "        scheduler = torch.optim.lr_scheduler.OneCycleLR(\n",
    "            optimizer,\n",
    "            max_lr=cfg[\"max_lr\"],\n",
    "            steps_per_epoch=len(train_loader),\n",
    "            epochs=cfg[\"epochs\"],\n",
    "            pct_start=0.1,\n",
    "            anneal_strategy=\"cos\",\n",
    "        )\n",
    "\n",
    "        param_count = sum(p.numel() for p in model.parameters())\n",
    "        run.summary[\"param_count\"] = param_count\n",
    "\n",
    "        best_valid_acc = 0.0\n",
    "        best_state = None\n",
    "\n",
    "        for epoch in range(cfg[\"epochs\"]):\n",
    "            train_loss, train_acc, train_grad = train_epoch(\n",
    "                model,\n",
    "                train_loader,\n",
    "                optimizer,\n",
    "                criterion,\n",
    "                scheduler,\n",
    "                cfg.get(\"gradient_clip\"),\n",
    "                cfg.get(\"mixup_alpha\", 0.0),\n",
    "            )\n",
    "            valid_loss, valid_acc = evaluate(model, valid_loader, criterion)\n",
    "\n",
    "            if valid_acc > best_valid_acc:\n",
    "                best_valid_acc = valid_acc\n",
    "                best_state = model.state_dict()\n",
    "\n",
    "            log_payload = {\n",
    "                \"epoch\": epoch + 1,\n",
    "                \"train/loss\": train_loss,\n",
    "                \"train/acc\": train_acc,\n",
    "                \"valid/loss\": valid_loss,\n",
    "                \"valid/acc\": valid_acc,\n",
    "                \"lr\": scheduler.get_last_lr()[0],\n",
    "            }\n",
    "            if train_grad is not None:\n",
    "                log_payload[\"train/grad_norm\"] = train_grad\n",
    "            wandb.log(log_payload)\n",
    "\n",
    "        if best_state is not None:\n",
    "            model.load_state_dict(best_state)\n",
    "\n",
    "        test_loss, test_acc = evaluate(model, test_loader, criterion)\n",
    "        preds, targets, probs, misclassified = collect_predictions(model, test_loader, limit_misclassified=16)\n",
    "\n",
    "        top3_hits = 0\n",
    "        top3 = np.argsort(probs, axis=1)[:, -3:]\n",
    "        for idx, true_label in enumerate(targets):\n",
    "            if true_label in top3[idx]:\n",
    "                top3_hits += 1\n",
    "        top3_acc = float(top3_hits / len(targets)) if len(targets) else 0.0\n",
    "\n",
    "        class_names = [str(i) for i in range(10)]\n",
    "        class_logs = {}\n",
    "        for cls_idx, cls_name in enumerate(class_names):\n",
    "            mask = targets == cls_idx\n",
    "            if mask.any():\n",
    "                class_logs[f\"test/class_acc/{cls_name}\"] = float((preds[mask] == targets[mask]).mean())\n",
    "\n",
    "        wandb.log({\n",
    "            \"test/loss\": test_loss,\n",
    "            \"test/acc\": test_acc,\n",
    "            \"test/top3_acc\": top3_acc,\n",
    "            \"test/confusion\": wandb.plot.confusion_matrix(y_true=targets, preds=preds, class_names=class_names),\n",
    "            **class_logs,\n",
    "        })\n",
    "\n",
    "        run.summary[\"best_valid_acc\"] = best_valid_acc\n",
    "        run.summary[\"test_acc\"] = test_acc\n",
    "        run.summary[\"top3_acc\"] = top3_acc\n",
    "        run.summary[\"misclassified_count\"] = len(misclassified)\n",
    "\n",
    "        print(f\"Test accuracy: {test_acc:.4f}\")\n",
    "\n",
    "        log_misclassified_to_wandb(misclassified)\n",
    "\n",
    "        return {\n",
    "            \"best_valid_acc\": best_valid_acc,\n",
    "            \"test_acc\": test_acc,\n",
    "            \"top3_acc\": top3_acc,\n",
    "            \"misclassified\": misclassified,\n",
    "            \"predictions\": preds,\n",
    "            \"targets\": targets,\n",
    "            \"probabilities\": probs,\n",
    "            \"config\": cfg,\n",
    "        }\n"
   ]
  },
  {
   "cell_type": "code",
   "execution_count": 15,
   "id": "ffb3c05c",
   "metadata": {},
   "outputs": [
    {
     "name": "stderr",
     "output_type": "stream",
     "text": [
      "\u001b[34m\u001b[1mwandb\u001b[0m: Currently logged in as: \u001b[33mericwkoch\u001b[0m to \u001b[32mhttps://api.wandb.ai\u001b[0m. Use \u001b[1m`wandb login --relogin`\u001b[0m to force relogin\n"
     ]
    },
    {
     "data": {
      "text/html": [],
      "text/plain": [
       "<IPython.core.display.HTML object>"
      ]
     },
     "metadata": {},
     "output_type": "display_data"
    },
    {
     "data": {
      "text/html": [
       "Tracking run with wandb version 0.22.2"
      ],
      "text/plain": [
       "<IPython.core.display.HTML object>"
      ]
     },
     "metadata": {},
     "output_type": "display_data"
    },
    {
     "data": {
      "text/html": [
       "Run data is saved locally in <code>/Users/ewkoch/repos/mlp/notebooks/wandb/run-20251010_163905-a41d0p56</code>"
      ],
      "text/plain": [
       "<IPython.core.display.HTML object>"
      ]
     },
     "metadata": {},
     "output_type": "display_data"
    },
    {
     "data": {
      "text/html": [
       "Syncing run <strong><a href='https://wandb.ai/ericwkoch/mlp-mnist-extended/runs/a41d0p56' target=\"_blank\">golden-cosmos-20</a></strong> to <a href='https://wandb.ai/ericwkoch/mlp-mnist-extended' target=\"_blank\">Weights & Biases</a> (<a href='https://wandb.me/developer-guide' target=\"_blank\">docs</a>)<br>"
      ],
      "text/plain": [
       "<IPython.core.display.HTML object>"
      ]
     },
     "metadata": {},
     "output_type": "display_data"
    },
    {
     "data": {
      "text/html": [
       " View project at <a href='https://wandb.ai/ericwkoch/mlp-mnist-extended' target=\"_blank\">https://wandb.ai/ericwkoch/mlp-mnist-extended</a>"
      ],
      "text/plain": [
       "<IPython.core.display.HTML object>"
      ]
     },
     "metadata": {},
     "output_type": "display_data"
    },
    {
     "data": {
      "text/html": [
       " View run at <a href='https://wandb.ai/ericwkoch/mlp-mnist-extended/runs/a41d0p56' target=\"_blank\">https://wandb.ai/ericwkoch/mlp-mnist-extended/runs/a41d0p56</a>"
      ],
      "text/plain": [
       "<IPython.core.display.HTML object>"
      ]
     },
     "metadata": {},
     "output_type": "display_data"
    },
    {
     "name": "stdout",
     "output_type": "stream",
     "text": [
      "Test accuracy: 0.9875\n"
     ]
    },
    {
     "data": {
      "text/html": [],
      "text/plain": [
       "<IPython.core.display.HTML object>"
      ]
     },
     "metadata": {},
     "output_type": "display_data"
    },
    {
     "data": {
      "text/html": [
       "<br>    <style><br>        .wandb-row {<br>            display: flex;<br>            flex-direction: row;<br>            flex-wrap: wrap;<br>            justify-content: flex-start;<br>            width: 100%;<br>        }<br>        .wandb-col {<br>            display: flex;<br>            flex-direction: column;<br>            flex-basis: 100%;<br>            flex: 1;<br>            padding: 10px;<br>        }<br>    </style><br><div class=\"wandb-row\"><div class=\"wandb-col\"><h3>Run history:</h3><br/><table class=\"wandb\"><tr><td>epoch</td><td>▁▁▂▂▂▃▃▄▄▄▅▅▅▆▆▇▇▇██</td></tr><tr><td>lr</td><td>▅████▇▇▆▆▅▄▄▃▃▂▂▁▁▁▁</td></tr><tr><td>misclassified_count</td><td>▁</td></tr><tr><td>test/acc</td><td>▁</td></tr><tr><td>test/class_acc/0</td><td>▁</td></tr><tr><td>test/class_acc/1</td><td>▁</td></tr><tr><td>test/class_acc/2</td><td>▁</td></tr><tr><td>test/class_acc/3</td><td>▁</td></tr><tr><td>test/class_acc/4</td><td>▁</td></tr><tr><td>test/class_acc/5</td><td>▁</td></tr><tr><td>+11</td><td>...</td></tr></table><br/></div><div class=\"wandb-col\"><h3>Run summary:</h3><br/><table class=\"wandb\"><tr><td>best_valid_acc</td><td>0.98657</td></tr><tr><td>epoch</td><td>20</td></tr><tr><td>lr</td><td>0.0</td></tr><tr><td>misclassified_count</td><td>16</td></tr><tr><td>param_count</td><td>1466122</td></tr><tr><td>test/acc</td><td>0.9875</td></tr><tr><td>test/class_acc/0</td><td>0.9949</td></tr><tr><td>test/class_acc/1</td><td>0.99119</td></tr><tr><td>test/class_acc/2</td><td>0.98837</td></tr><tr><td>test/class_acc/3</td><td>0.99109</td></tr><tr><td>+15</td><td>...</td></tr></table><br/></div></div>"
      ],
      "text/plain": [
       "<IPython.core.display.HTML object>"
      ]
     },
     "metadata": {},
     "output_type": "display_data"
    },
    {
     "data": {
      "text/html": [
       " View run <strong style=\"color:#cdcd00\">golden-cosmos-20</strong> at: <a href='https://wandb.ai/ericwkoch/mlp-mnist-extended/runs/a41d0p56' target=\"_blank\">https://wandb.ai/ericwkoch/mlp-mnist-extended/runs/a41d0p56</a><br> View project at: <a href='https://wandb.ai/ericwkoch/mlp-mnist-extended' target=\"_blank\">https://wandb.ai/ericwkoch/mlp-mnist-extended</a><br>Synced 5 W&B file(s), 18 media file(s), 20 artifact file(s) and 0 other file(s)"
      ],
      "text/plain": [
       "<IPython.core.display.HTML object>"
      ]
     },
     "metadata": {},
     "output_type": "display_data"
    },
    {
     "data": {
      "text/html": [
       "Find logs at: <code>./wandb/run-20251010_163905-a41d0p56/logs</code>"
      ],
      "text/plain": [
       "<IPython.core.display.HTML object>"
      ]
     },
     "metadata": {},
     "output_type": "display_data"
    }
   ],
   "source": [
    "# Example run (adjust hyperparameters, project name, or comment out if running sweeps)\n",
    "results = run_experiment({\n",
    "    \"run_name\": \"onecycle_mixup_label_smoothing\",\n",
    "})"
   ]
  },
  {
   "cell_type": "code",
   "execution_count": 16,
   "id": "93526dc4",
   "metadata": {},
   "outputs": [],
   "source": [
    "# Visualise the misclassifications from the most recent run (if you stored them locally)\n",
    "def plot_local_misclassifications(misclassified: List[Dict], cols: int = 4) -> None:\n",
    "    if not misclassified:\n",
    "        print(\"No misclassified samples were stored in the latest run output.\")\n",
    "        return\n",
    "    rows = math.ceil(len(misclassified) / cols)\n",
    "    fig, axes = plt.subplots(rows, cols, figsize=(cols * 3, rows * 3))\n",
    "    axes = axes.flatten()\n",
    "    for idx, ax in enumerate(axes):\n",
    "        if idx < len(misclassified):\n",
    "            sample = misclassified[idx]\n",
    "            ax.imshow(to_display_image(sample[\"image\"]), cmap=\"gray\")\n",
    "            ax.set_title(f\"true={sample['true']} | pred={sample['pred']} | conf={sample['confidence']:.2f}\")\n",
    "        ax.axis(\"off\")\n",
    "    plt.tight_layout()\n",
    "\n",
    "# After running `results = run_experiment(...)`, call:\n",
    "# plot_local_misclassifications(results[\"misclassified\"])\n"
   ]
  },
  {
   "cell_type": "markdown",
   "id": "4324a57b",
   "metadata": {},
   "source": [
    "## Next Steps\n",
    "- Sweep over `mixup_alpha`, `dropout`, and `max_lr` by calling `wandb.sweep` with the `default_config` dictionary.\n",
    "- Try switching to the Ranger or AdamP optimisers (available via `torch_optimizer`) for a different generalisation profile.\n",
    "- Replace the fully-connected model with a small convolutional frontend (e.g., two Conv2d + MaxPool layers feeding into the dense stack) while keeping the rest of the training loop identical.\n",
    "- Enable advanced W&B logging such as gradient histograms or confusion matrices (`wandb.plot.confusion_matrix`)."
   ]
  },
  {
   "cell_type": "code",
   "execution_count": 17,
   "id": "581baa5c",
   "metadata": {},
   "outputs": [
    {
     "name": "stdout",
     "output_type": "stream",
     "text": [
      "Create sweep with ID: lyhvzu53\n",
      "Sweep URL: https://wandb.ai/ericwkoch/mlp-mnist-extended/sweeps/lyhvzu53\n",
      "Sweep created with ID: lyhvzu53\n"
     ]
    }
   ],
   "source": [
    "# Configure and create a W&B sweep\n",
    "sweep_config = {\n",
    "    \"method\": \"grid\",  # or \"random\", \"bayes\"\n",
    "    \"parameters\": {\n",
    "        \"mixup_alpha\": {\"values\": [0.0, 0.1, 0.2]},\n",
    "        \"dropout\": {\"values\": [0.2, 0.25, 0.3]},\n",
    "        \"max_lr\": {\"values\": [0.02, 0.03, 0.04]},\n",
    "    },\n",
    "    \"name\": \"mnist-extended-sweep\",\n",
    "    \"project\": default_config[\"wandb_project\"],\n",
    "}\n",
    "\n",
    "# `wandb.sweep` returns a sweep ID you can reuse later\n",
    "sweep_id = wandb.sweep(sweep_config)\n",
    "print(f\"Sweep created with ID: {sweep_id}\")"
   ]
  },
  {
   "cell_type": "code",
   "execution_count": 18,
   "id": "cff9acbd",
   "metadata": {},
   "outputs": [
    {
     "name": "stderr",
     "output_type": "stream",
     "text": [
      "\u001b[34m\u001b[1mwandb\u001b[0m: Agent Starting Run: 2ihzzgfk with config:\n",
      "\u001b[34m\u001b[1mwandb\u001b[0m: \tdropout: 0.2\n",
      "\u001b[34m\u001b[1mwandb\u001b[0m: \tmax_lr: 0.02\n",
      "\u001b[34m\u001b[1mwandb\u001b[0m: \tmixup_alpha: 0\n"
     ]
    },
    {
     "data": {
      "text/html": [
       "Ignoring project 'mlp-mnist-extended' when running a sweep."
      ],
      "text/plain": [
       "<IPython.core.display.HTML object>"
      ]
     },
     "metadata": {},
     "output_type": "display_data"
    },
    {
     "data": {
      "text/html": [],
      "text/plain": [
       "<IPython.core.display.HTML object>"
      ]
     },
     "metadata": {},
     "output_type": "display_data"
    },
    {
     "data": {
      "text/html": [
       "Tracking run with wandb version 0.22.2"
      ],
      "text/plain": [
       "<IPython.core.display.HTML object>"
      ]
     },
     "metadata": {},
     "output_type": "display_data"
    },
    {
     "data": {
      "text/html": [
       "Run data is saved locally in <code>/Users/ewkoch/repos/mlp/notebooks/wandb/run-20251010_164105-2ihzzgfk</code>"
      ],
      "text/plain": [
       "<IPython.core.display.HTML object>"
      ]
     },
     "metadata": {},
     "output_type": "display_data"
    },
    {
     "data": {
      "text/html": [
       "Syncing run <strong><a href='https://wandb.ai/ericwkoch/mlp-mnist-extended/runs/2ihzzgfk' target=\"_blank\">flowing-sweep-1</a></strong> to <a href='https://wandb.ai/ericwkoch/mlp-mnist-extended' target=\"_blank\">Weights & Biases</a> (<a href='https://wandb.me/developer-guide' target=\"_blank\">docs</a>)<br>Sweep page: <a href='https://wandb.ai/ericwkoch/mlp-mnist-extended/sweeps/lyhvzu53' target=\"_blank\">https://wandb.ai/ericwkoch/mlp-mnist-extended/sweeps/lyhvzu53</a>"
      ],
      "text/plain": [
       "<IPython.core.display.HTML object>"
      ]
     },
     "metadata": {},
     "output_type": "display_data"
    },
    {
     "data": {
      "text/html": [
       " View project at <a href='https://wandb.ai/ericwkoch/mlp-mnist-extended' target=\"_blank\">https://wandb.ai/ericwkoch/mlp-mnist-extended</a>"
      ],
      "text/plain": [
       "<IPython.core.display.HTML object>"
      ]
     },
     "metadata": {},
     "output_type": "display_data"
    },
    {
     "data": {
      "text/html": [
       " View sweep at <a href='https://wandb.ai/ericwkoch/mlp-mnist-extended/sweeps/lyhvzu53' target=\"_blank\">https://wandb.ai/ericwkoch/mlp-mnist-extended/sweeps/lyhvzu53</a>"
      ],
      "text/plain": [
       "<IPython.core.display.HTML object>"
      ]
     },
     "metadata": {},
     "output_type": "display_data"
    },
    {
     "data": {
      "text/html": [
       " View run at <a href='https://wandb.ai/ericwkoch/mlp-mnist-extended/runs/2ihzzgfk' target=\"_blank\">https://wandb.ai/ericwkoch/mlp-mnist-extended/runs/2ihzzgfk</a>"
      ],
      "text/plain": [
       "<IPython.core.display.HTML object>"
      ]
     },
     "metadata": {},
     "output_type": "display_data"
    },
    {
     "name": "stdout",
     "output_type": "stream",
     "text": [
      "Test accuracy: 0.9885\n"
     ]
    },
    {
     "data": {
      "text/html": [],
      "text/plain": [
       "<IPython.core.display.HTML object>"
      ]
     },
     "metadata": {},
     "output_type": "display_data"
    },
    {
     "data": {
      "text/html": [
       "<br>    <style><br>        .wandb-row {<br>            display: flex;<br>            flex-direction: row;<br>            flex-wrap: wrap;<br>            justify-content: flex-start;<br>            width: 100%;<br>        }<br>        .wandb-col {<br>            display: flex;<br>            flex-direction: column;<br>            flex-basis: 100%;<br>            flex: 1;<br>            padding: 10px;<br>        }<br>    </style><br><div class=\"wandb-row\"><div class=\"wandb-col\"><h3>Run history:</h3><br/><table class=\"wandb\"><tr><td>epoch</td><td>▁▁▂▂▂▃▃▄▄▄▅▅▅▆▆▇▇▇██</td></tr><tr><td>lr</td><td>▅████▇▇▆▆▅▄▄▃▃▂▂▁▁▁▁</td></tr><tr><td>misclassified_count</td><td>▁</td></tr><tr><td>test/acc</td><td>▁</td></tr><tr><td>test/class_acc/0</td><td>▁</td></tr><tr><td>test/class_acc/1</td><td>▁</td></tr><tr><td>test/class_acc/2</td><td>▁</td></tr><tr><td>test/class_acc/3</td><td>▁</td></tr><tr><td>test/class_acc/4</td><td>▁</td></tr><tr><td>test/class_acc/5</td><td>▁</td></tr><tr><td>+11</td><td>...</td></tr></table><br/></div><div class=\"wandb-col\"><h3>Run summary:</h3><br/><table class=\"wandb\"><tr><td>best_valid_acc</td><td>0.98657</td></tr><tr><td>epoch</td><td>20</td></tr><tr><td>lr</td><td>0.0</td></tr><tr><td>misclassified_count</td><td>16</td></tr><tr><td>param_count</td><td>1466122</td></tr><tr><td>test/acc</td><td>0.98848</td></tr><tr><td>test/class_acc/0</td><td>0.99184</td></tr><tr><td>test/class_acc/1</td><td>0.99295</td></tr><tr><td>test/class_acc/2</td><td>0.99031</td></tr><tr><td>test/class_acc/3</td><td>0.98713</td></tr><tr><td>+15</td><td>...</td></tr></table><br/></div></div>"
      ],
      "text/plain": [
       "<IPython.core.display.HTML object>"
      ]
     },
     "metadata": {},
     "output_type": "display_data"
    },
    {
     "data": {
      "text/html": [
       " View run <strong style=\"color:#cdcd00\">flowing-sweep-1</strong> at: <a href='https://wandb.ai/ericwkoch/mlp-mnist-extended/runs/2ihzzgfk' target=\"_blank\">https://wandb.ai/ericwkoch/mlp-mnist-extended/runs/2ihzzgfk</a><br> View project at: <a href='https://wandb.ai/ericwkoch/mlp-mnist-extended' target=\"_blank\">https://wandb.ai/ericwkoch/mlp-mnist-extended</a><br>Synced 5 W&B file(s), 18 media file(s), 20 artifact file(s) and 0 other file(s)"
      ],
      "text/plain": [
       "<IPython.core.display.HTML object>"
      ]
     },
     "metadata": {},
     "output_type": "display_data"
    },
    {
     "data": {
      "text/html": [
       "Find logs at: <code>./wandb/run-20251010_164105-2ihzzgfk/logs</code>"
      ],
      "text/plain": [
       "<IPython.core.display.HTML object>"
      ]
     },
     "metadata": {},
     "output_type": "display_data"
    },
    {
     "name": "stderr",
     "output_type": "stream",
     "text": [
      "\u001b[34m\u001b[1mwandb\u001b[0m: Agent Starting Run: 1t3jqxbf with config:\n",
      "\u001b[34m\u001b[1mwandb\u001b[0m: \tdropout: 0.2\n",
      "\u001b[34m\u001b[1mwandb\u001b[0m: \tmax_lr: 0.02\n",
      "\u001b[34m\u001b[1mwandb\u001b[0m: \tmixup_alpha: 0.1\n"
     ]
    },
    {
     "data": {
      "text/html": [
       "Ignoring project 'mlp-mnist-extended' when running a sweep."
      ],
      "text/plain": [
       "<IPython.core.display.HTML object>"
      ]
     },
     "metadata": {},
     "output_type": "display_data"
    },
    {
     "data": {
      "text/html": [],
      "text/plain": [
       "<IPython.core.display.HTML object>"
      ]
     },
     "metadata": {},
     "output_type": "display_data"
    },
    {
     "data": {
      "text/html": [
       "Tracking run with wandb version 0.22.2"
      ],
      "text/plain": [
       "<IPython.core.display.HTML object>"
      ]
     },
     "metadata": {},
     "output_type": "display_data"
    },
    {
     "data": {
      "text/html": [
       "Run data is saved locally in <code>/Users/ewkoch/repos/mlp/notebooks/wandb/run-20251010_164253-1t3jqxbf</code>"
      ],
      "text/plain": [
       "<IPython.core.display.HTML object>"
      ]
     },
     "metadata": {},
     "output_type": "display_data"
    },
    {
     "data": {
      "text/html": [
       "Syncing run <strong><a href='https://wandb.ai/ericwkoch/mlp-mnist-extended/runs/1t3jqxbf' target=\"_blank\">valiant-sweep-2</a></strong> to <a href='https://wandb.ai/ericwkoch/mlp-mnist-extended' target=\"_blank\">Weights & Biases</a> (<a href='https://wandb.me/developer-guide' target=\"_blank\">docs</a>)<br>Sweep page: <a href='https://wandb.ai/ericwkoch/mlp-mnist-extended/sweeps/lyhvzu53' target=\"_blank\">https://wandb.ai/ericwkoch/mlp-mnist-extended/sweeps/lyhvzu53</a>"
      ],
      "text/plain": [
       "<IPython.core.display.HTML object>"
      ]
     },
     "metadata": {},
     "output_type": "display_data"
    },
    {
     "data": {
      "text/html": [
       " View project at <a href='https://wandb.ai/ericwkoch/mlp-mnist-extended' target=\"_blank\">https://wandb.ai/ericwkoch/mlp-mnist-extended</a>"
      ],
      "text/plain": [
       "<IPython.core.display.HTML object>"
      ]
     },
     "metadata": {},
     "output_type": "display_data"
    },
    {
     "data": {
      "text/html": [
       " View sweep at <a href='https://wandb.ai/ericwkoch/mlp-mnist-extended/sweeps/lyhvzu53' target=\"_blank\">https://wandb.ai/ericwkoch/mlp-mnist-extended/sweeps/lyhvzu53</a>"
      ],
      "text/plain": [
       "<IPython.core.display.HTML object>"
      ]
     },
     "metadata": {},
     "output_type": "display_data"
    },
    {
     "data": {
      "text/html": [
       " View run at <a href='https://wandb.ai/ericwkoch/mlp-mnist-extended/runs/1t3jqxbf' target=\"_blank\">https://wandb.ai/ericwkoch/mlp-mnist-extended/runs/1t3jqxbf</a>"
      ],
      "text/plain": [
       "<IPython.core.display.HTML object>"
      ]
     },
     "metadata": {},
     "output_type": "display_data"
    },
    {
     "name": "stdout",
     "output_type": "stream",
     "text": [
      "Test accuracy: 0.9866\n"
     ]
    },
    {
     "data": {
      "text/html": [],
      "text/plain": [
       "<IPython.core.display.HTML object>"
      ]
     },
     "metadata": {},
     "output_type": "display_data"
    },
    {
     "data": {
      "text/html": [
       "<br>    <style><br>        .wandb-row {<br>            display: flex;<br>            flex-direction: row;<br>            flex-wrap: wrap;<br>            justify-content: flex-start;<br>            width: 100%;<br>        }<br>        .wandb-col {<br>            display: flex;<br>            flex-direction: column;<br>            flex-basis: 100%;<br>            flex: 1;<br>            padding: 10px;<br>        }<br>    </style><br><div class=\"wandb-row\"><div class=\"wandb-col\"><h3>Run history:</h3><br/><table class=\"wandb\"><tr><td>epoch</td><td>▁▁▂▂▂▃▃▄▄▄▅▅▅▆▆▇▇▇██</td></tr><tr><td>lr</td><td>▅████▇▇▆▆▅▄▄▃▃▂▂▁▁▁▁</td></tr><tr><td>misclassified_count</td><td>▁</td></tr><tr><td>test/acc</td><td>▁</td></tr><tr><td>test/class_acc/0</td><td>▁</td></tr><tr><td>test/class_acc/1</td><td>▁</td></tr><tr><td>test/class_acc/2</td><td>▁</td></tr><tr><td>test/class_acc/3</td><td>▁</td></tr><tr><td>test/class_acc/4</td><td>▁</td></tr><tr><td>test/class_acc/5</td><td>▁</td></tr><tr><td>+11</td><td>...</td></tr></table><br/></div><div class=\"wandb-col\"><h3>Run summary:</h3><br/><table class=\"wandb\"><tr><td>best_valid_acc</td><td>0.98657</td></tr><tr><td>epoch</td><td>20</td></tr><tr><td>lr</td><td>0.0</td></tr><tr><td>misclassified_count</td><td>16</td></tr><tr><td>param_count</td><td>1466122</td></tr><tr><td>test/acc</td><td>0.98662</td></tr><tr><td>test/class_acc/0</td><td>0.99388</td></tr><tr><td>test/class_acc/1</td><td>0.99383</td></tr><tr><td>test/class_acc/2</td><td>0.98643</td></tr><tr><td>test/class_acc/3</td><td>0.9901</td></tr><tr><td>+15</td><td>...</td></tr></table><br/></div></div>"
      ],
      "text/plain": [
       "<IPython.core.display.HTML object>"
      ]
     },
     "metadata": {},
     "output_type": "display_data"
    },
    {
     "data": {
      "text/html": [
       " View run <strong style=\"color:#cdcd00\">valiant-sweep-2</strong> at: <a href='https://wandb.ai/ericwkoch/mlp-mnist-extended/runs/1t3jqxbf' target=\"_blank\">https://wandb.ai/ericwkoch/mlp-mnist-extended/runs/1t3jqxbf</a><br> View project at: <a href='https://wandb.ai/ericwkoch/mlp-mnist-extended' target=\"_blank\">https://wandb.ai/ericwkoch/mlp-mnist-extended</a><br>Synced 5 W&B file(s), 18 media file(s), 20 artifact file(s) and 0 other file(s)"
      ],
      "text/plain": [
       "<IPython.core.display.HTML object>"
      ]
     },
     "metadata": {},
     "output_type": "display_data"
    },
    {
     "data": {
      "text/html": [
       "Find logs at: <code>./wandb/run-20251010_164253-1t3jqxbf/logs</code>"
      ],
      "text/plain": [
       "<IPython.core.display.HTML object>"
      ]
     },
     "metadata": {},
     "output_type": "display_data"
    },
    {
     "name": "stderr",
     "output_type": "stream",
     "text": [
      "\u001b[34m\u001b[1mwandb\u001b[0m: Agent Starting Run: maqcu0no with config:\n",
      "\u001b[34m\u001b[1mwandb\u001b[0m: \tdropout: 0.2\n",
      "\u001b[34m\u001b[1mwandb\u001b[0m: \tmax_lr: 0.02\n",
      "\u001b[34m\u001b[1mwandb\u001b[0m: \tmixup_alpha: 0.2\n"
     ]
    },
    {
     "data": {
      "text/html": [
       "Ignoring project 'mlp-mnist-extended' when running a sweep."
      ],
      "text/plain": [
       "<IPython.core.display.HTML object>"
      ]
     },
     "metadata": {},
     "output_type": "display_data"
    },
    {
     "data": {
      "text/html": [],
      "text/plain": [
       "<IPython.core.display.HTML object>"
      ]
     },
     "metadata": {},
     "output_type": "display_data"
    },
    {
     "data": {
      "text/html": [
       "Tracking run with wandb version 0.22.2"
      ],
      "text/plain": [
       "<IPython.core.display.HTML object>"
      ]
     },
     "metadata": {},
     "output_type": "display_data"
    },
    {
     "data": {
      "text/html": [
       "Run data is saved locally in <code>/Users/ewkoch/repos/mlp/notebooks/wandb/run-20251010_164501-maqcu0no</code>"
      ],
      "text/plain": [
       "<IPython.core.display.HTML object>"
      ]
     },
     "metadata": {},
     "output_type": "display_data"
    },
    {
     "data": {
      "text/html": [
       "Syncing run <strong><a href='https://wandb.ai/ericwkoch/mlp-mnist-extended/runs/maqcu0no' target=\"_blank\">solar-sweep-3</a></strong> to <a href='https://wandb.ai/ericwkoch/mlp-mnist-extended' target=\"_blank\">Weights & Biases</a> (<a href='https://wandb.me/developer-guide' target=\"_blank\">docs</a>)<br>Sweep page: <a href='https://wandb.ai/ericwkoch/mlp-mnist-extended/sweeps/lyhvzu53' target=\"_blank\">https://wandb.ai/ericwkoch/mlp-mnist-extended/sweeps/lyhvzu53</a>"
      ],
      "text/plain": [
       "<IPython.core.display.HTML object>"
      ]
     },
     "metadata": {},
     "output_type": "display_data"
    },
    {
     "data": {
      "text/html": [
       " View project at <a href='https://wandb.ai/ericwkoch/mlp-mnist-extended' target=\"_blank\">https://wandb.ai/ericwkoch/mlp-mnist-extended</a>"
      ],
      "text/plain": [
       "<IPython.core.display.HTML object>"
      ]
     },
     "metadata": {},
     "output_type": "display_data"
    },
    {
     "data": {
      "text/html": [
       " View sweep at <a href='https://wandb.ai/ericwkoch/mlp-mnist-extended/sweeps/lyhvzu53' target=\"_blank\">https://wandb.ai/ericwkoch/mlp-mnist-extended/sweeps/lyhvzu53</a>"
      ],
      "text/plain": [
       "<IPython.core.display.HTML object>"
      ]
     },
     "metadata": {},
     "output_type": "display_data"
    },
    {
     "data": {
      "text/html": [
       " View run at <a href='https://wandb.ai/ericwkoch/mlp-mnist-extended/runs/maqcu0no' target=\"_blank\">https://wandb.ai/ericwkoch/mlp-mnist-extended/runs/maqcu0no</a>"
      ],
      "text/plain": [
       "<IPython.core.display.HTML object>"
      ]
     },
     "metadata": {},
     "output_type": "display_data"
    },
    {
     "name": "stdout",
     "output_type": "stream",
     "text": [
      "Test accuracy: 0.9876\n"
     ]
    },
    {
     "data": {
      "text/html": [],
      "text/plain": [
       "<IPython.core.display.HTML object>"
      ]
     },
     "metadata": {},
     "output_type": "display_data"
    },
    {
     "data": {
      "text/html": [
       "<br>    <style><br>        .wandb-row {<br>            display: flex;<br>            flex-direction: row;<br>            flex-wrap: wrap;<br>            justify-content: flex-start;<br>            width: 100%;<br>        }<br>        .wandb-col {<br>            display: flex;<br>            flex-direction: column;<br>            flex-basis: 100%;<br>            flex: 1;<br>            padding: 10px;<br>        }<br>    </style><br><div class=\"wandb-row\"><div class=\"wandb-col\"><h3>Run history:</h3><br/><table class=\"wandb\"><tr><td>epoch</td><td>▁▁▂▂▂▃▃▄▄▄▅▅▅▆▆▇▇▇██</td></tr><tr><td>lr</td><td>▅████▇▇▆▆▅▄▄▃▃▂▂▁▁▁▁</td></tr><tr><td>misclassified_count</td><td>▁</td></tr><tr><td>test/acc</td><td>▁</td></tr><tr><td>test/class_acc/0</td><td>▁</td></tr><tr><td>test/class_acc/1</td><td>▁</td></tr><tr><td>test/class_acc/2</td><td>▁</td></tr><tr><td>test/class_acc/3</td><td>▁</td></tr><tr><td>test/class_acc/4</td><td>▁</td></tr><tr><td>test/class_acc/5</td><td>▁</td></tr><tr><td>+11</td><td>...</td></tr></table><br/></div><div class=\"wandb-col\"><h3>Run summary:</h3><br/><table class=\"wandb\"><tr><td>best_valid_acc</td><td>0.98694</td></tr><tr><td>epoch</td><td>20</td></tr><tr><td>lr</td><td>0.0</td></tr><tr><td>misclassified_count</td><td>16</td></tr><tr><td>param_count</td><td>1466122</td></tr><tr><td>test/acc</td><td>0.9876</td></tr><tr><td>test/class_acc/0</td><td>0.9949</td></tr><tr><td>test/class_acc/1</td><td>0.99559</td></tr><tr><td>test/class_acc/2</td><td>0.98837</td></tr><tr><td>test/class_acc/3</td><td>0.99307</td></tr><tr><td>+15</td><td>...</td></tr></table><br/></div></div>"
      ],
      "text/plain": [
       "<IPython.core.display.HTML object>"
      ]
     },
     "metadata": {},
     "output_type": "display_data"
    },
    {
     "data": {
      "text/html": [
       " View run <strong style=\"color:#cdcd00\">solar-sweep-3</strong> at: <a href='https://wandb.ai/ericwkoch/mlp-mnist-extended/runs/maqcu0no' target=\"_blank\">https://wandb.ai/ericwkoch/mlp-mnist-extended/runs/maqcu0no</a><br> View project at: <a href='https://wandb.ai/ericwkoch/mlp-mnist-extended' target=\"_blank\">https://wandb.ai/ericwkoch/mlp-mnist-extended</a><br>Synced 5 W&B file(s), 18 media file(s), 20 artifact file(s) and 0 other file(s)"
      ],
      "text/plain": [
       "<IPython.core.display.HTML object>"
      ]
     },
     "metadata": {},
     "output_type": "display_data"
    },
    {
     "data": {
      "text/html": [
       "Find logs at: <code>./wandb/run-20251010_164501-maqcu0no/logs</code>"
      ],
      "text/plain": [
       "<IPython.core.display.HTML object>"
      ]
     },
     "metadata": {},
     "output_type": "display_data"
    },
    {
     "name": "stderr",
     "output_type": "stream",
     "text": [
      "\u001b[34m\u001b[1mwandb\u001b[0m: Agent Starting Run: mq707az1 with config:\n",
      "\u001b[34m\u001b[1mwandb\u001b[0m: \tdropout: 0.2\n",
      "\u001b[34m\u001b[1mwandb\u001b[0m: \tmax_lr: 0.03\n",
      "\u001b[34m\u001b[1mwandb\u001b[0m: \tmixup_alpha: 0\n"
     ]
    },
    {
     "data": {
      "text/html": [
       "Ignoring project 'mlp-mnist-extended' when running a sweep."
      ],
      "text/plain": [
       "<IPython.core.display.HTML object>"
      ]
     },
     "metadata": {},
     "output_type": "display_data"
    },
    {
     "data": {
      "text/html": [],
      "text/plain": [
       "<IPython.core.display.HTML object>"
      ]
     },
     "metadata": {},
     "output_type": "display_data"
    },
    {
     "data": {
      "text/html": [
       "Tracking run with wandb version 0.22.2"
      ],
      "text/plain": [
       "<IPython.core.display.HTML object>"
      ]
     },
     "metadata": {},
     "output_type": "display_data"
    },
    {
     "data": {
      "text/html": [
       "Run data is saved locally in <code>/Users/ewkoch/repos/mlp/notebooks/wandb/run-20251010_164721-mq707az1</code>"
      ],
      "text/plain": [
       "<IPython.core.display.HTML object>"
      ]
     },
     "metadata": {},
     "output_type": "display_data"
    },
    {
     "data": {
      "text/html": [
       "Syncing run <strong><a href='https://wandb.ai/ericwkoch/mlp-mnist-extended/runs/mq707az1' target=\"_blank\">fallen-sweep-4</a></strong> to <a href='https://wandb.ai/ericwkoch/mlp-mnist-extended' target=\"_blank\">Weights & Biases</a> (<a href='https://wandb.me/developer-guide' target=\"_blank\">docs</a>)<br>Sweep page: <a href='https://wandb.ai/ericwkoch/mlp-mnist-extended/sweeps/lyhvzu53' target=\"_blank\">https://wandb.ai/ericwkoch/mlp-mnist-extended/sweeps/lyhvzu53</a>"
      ],
      "text/plain": [
       "<IPython.core.display.HTML object>"
      ]
     },
     "metadata": {},
     "output_type": "display_data"
    },
    {
     "data": {
      "text/html": [
       " View project at <a href='https://wandb.ai/ericwkoch/mlp-mnist-extended' target=\"_blank\">https://wandb.ai/ericwkoch/mlp-mnist-extended</a>"
      ],
      "text/plain": [
       "<IPython.core.display.HTML object>"
      ]
     },
     "metadata": {},
     "output_type": "display_data"
    },
    {
     "data": {
      "text/html": [
       " View sweep at <a href='https://wandb.ai/ericwkoch/mlp-mnist-extended/sweeps/lyhvzu53' target=\"_blank\">https://wandb.ai/ericwkoch/mlp-mnist-extended/sweeps/lyhvzu53</a>"
      ],
      "text/plain": [
       "<IPython.core.display.HTML object>"
      ]
     },
     "metadata": {},
     "output_type": "display_data"
    },
    {
     "data": {
      "text/html": [
       " View run at <a href='https://wandb.ai/ericwkoch/mlp-mnist-extended/runs/mq707az1' target=\"_blank\">https://wandb.ai/ericwkoch/mlp-mnist-extended/runs/mq707az1</a>"
      ],
      "text/plain": [
       "<IPython.core.display.HTML object>"
      ]
     },
     "metadata": {},
     "output_type": "display_data"
    },
    {
     "name": "stdout",
     "output_type": "stream",
     "text": [
      "Test accuracy: 0.9880\n"
     ]
    },
    {
     "data": {
      "text/html": [],
      "text/plain": [
       "<IPython.core.display.HTML object>"
      ]
     },
     "metadata": {},
     "output_type": "display_data"
    },
    {
     "data": {
      "text/html": [
       "<br>    <style><br>        .wandb-row {<br>            display: flex;<br>            flex-direction: row;<br>            flex-wrap: wrap;<br>            justify-content: flex-start;<br>            width: 100%;<br>        }<br>        .wandb-col {<br>            display: flex;<br>            flex-direction: column;<br>            flex-basis: 100%;<br>            flex: 1;<br>            padding: 10px;<br>        }<br>    </style><br><div class=\"wandb-row\"><div class=\"wandb-col\"><h3>Run history:</h3><br/><table class=\"wandb\"><tr><td>epoch</td><td>▁▁▂▂▂▃▃▄▄▄▅▅▅▆▆▇▇▇██</td></tr><tr><td>lr</td><td>▅████▇▇▆▆▅▄▄▃▃▂▂▁▁▁▁</td></tr><tr><td>misclassified_count</td><td>▁</td></tr><tr><td>test/acc</td><td>▁</td></tr><tr><td>test/class_acc/0</td><td>▁</td></tr><tr><td>test/class_acc/1</td><td>▁</td></tr><tr><td>test/class_acc/2</td><td>▁</td></tr><tr><td>test/class_acc/3</td><td>▁</td></tr><tr><td>test/class_acc/4</td><td>▁</td></tr><tr><td>test/class_acc/5</td><td>▁</td></tr><tr><td>+11</td><td>...</td></tr></table><br/></div><div class=\"wandb-col\"><h3>Run summary:</h3><br/><table class=\"wandb\"><tr><td>best_valid_acc</td><td>0.98901</td></tr><tr><td>epoch</td><td>20</td></tr><tr><td>lr</td><td>0.0</td></tr><tr><td>misclassified_count</td><td>16</td></tr><tr><td>param_count</td><td>1466122</td></tr><tr><td>test/acc</td><td>0.98799</td></tr><tr><td>test/class_acc/0</td><td>0.99286</td></tr><tr><td>test/class_acc/1</td><td>0.99207</td></tr><tr><td>test/class_acc/2</td><td>0.98934</td></tr><tr><td>test/class_acc/3</td><td>0.98713</td></tr><tr><td>+15</td><td>...</td></tr></table><br/></div></div>"
      ],
      "text/plain": [
       "<IPython.core.display.HTML object>"
      ]
     },
     "metadata": {},
     "output_type": "display_data"
    },
    {
     "data": {
      "text/html": [
       " View run <strong style=\"color:#cdcd00\">fallen-sweep-4</strong> at: <a href='https://wandb.ai/ericwkoch/mlp-mnist-extended/runs/mq707az1' target=\"_blank\">https://wandb.ai/ericwkoch/mlp-mnist-extended/runs/mq707az1</a><br> View project at: <a href='https://wandb.ai/ericwkoch/mlp-mnist-extended' target=\"_blank\">https://wandb.ai/ericwkoch/mlp-mnist-extended</a><br>Synced 5 W&B file(s), 18 media file(s), 20 artifact file(s) and 0 other file(s)"
      ],
      "text/plain": [
       "<IPython.core.display.HTML object>"
      ]
     },
     "metadata": {},
     "output_type": "display_data"
    },
    {
     "data": {
      "text/html": [
       "Find logs at: <code>./wandb/run-20251010_164721-mq707az1/logs</code>"
      ],
      "text/plain": [
       "<IPython.core.display.HTML object>"
      ]
     },
     "metadata": {},
     "output_type": "display_data"
    },
    {
     "name": "stderr",
     "output_type": "stream",
     "text": [
      "\u001b[34m\u001b[1mwandb\u001b[0m: Agent Starting Run: oj4p0pzn with config:\n",
      "\u001b[34m\u001b[1mwandb\u001b[0m: \tdropout: 0.2\n",
      "\u001b[34m\u001b[1mwandb\u001b[0m: \tmax_lr: 0.03\n",
      "\u001b[34m\u001b[1mwandb\u001b[0m: \tmixup_alpha: 0.1\n"
     ]
    },
    {
     "data": {
      "text/html": [
       "Ignoring project 'mlp-mnist-extended' when running a sweep."
      ],
      "text/plain": [
       "<IPython.core.display.HTML object>"
      ]
     },
     "metadata": {},
     "output_type": "display_data"
    },
    {
     "data": {
      "text/html": [],
      "text/plain": [
       "<IPython.core.display.HTML object>"
      ]
     },
     "metadata": {},
     "output_type": "display_data"
    },
    {
     "data": {
      "text/html": [
       "Tracking run with wandb version 0.22.2"
      ],
      "text/plain": [
       "<IPython.core.display.HTML object>"
      ]
     },
     "metadata": {},
     "output_type": "display_data"
    },
    {
     "data": {
      "text/html": [
       "Run data is saved locally in <code>/Users/ewkoch/repos/mlp/notebooks/wandb/run-20251010_164940-oj4p0pzn</code>"
      ],
      "text/plain": [
       "<IPython.core.display.HTML object>"
      ]
     },
     "metadata": {},
     "output_type": "display_data"
    },
    {
     "data": {
      "text/html": [
       "Syncing run <strong><a href='https://wandb.ai/ericwkoch/mlp-mnist-extended/runs/oj4p0pzn' target=\"_blank\">swept-sweep-5</a></strong> to <a href='https://wandb.ai/ericwkoch/mlp-mnist-extended' target=\"_blank\">Weights & Biases</a> (<a href='https://wandb.me/developer-guide' target=\"_blank\">docs</a>)<br>Sweep page: <a href='https://wandb.ai/ericwkoch/mlp-mnist-extended/sweeps/lyhvzu53' target=\"_blank\">https://wandb.ai/ericwkoch/mlp-mnist-extended/sweeps/lyhvzu53</a>"
      ],
      "text/plain": [
       "<IPython.core.display.HTML object>"
      ]
     },
     "metadata": {},
     "output_type": "display_data"
    },
    {
     "data": {
      "text/html": [
       " View project at <a href='https://wandb.ai/ericwkoch/mlp-mnist-extended' target=\"_blank\">https://wandb.ai/ericwkoch/mlp-mnist-extended</a>"
      ],
      "text/plain": [
       "<IPython.core.display.HTML object>"
      ]
     },
     "metadata": {},
     "output_type": "display_data"
    },
    {
     "data": {
      "text/html": [
       " View sweep at <a href='https://wandb.ai/ericwkoch/mlp-mnist-extended/sweeps/lyhvzu53' target=\"_blank\">https://wandb.ai/ericwkoch/mlp-mnist-extended/sweeps/lyhvzu53</a>"
      ],
      "text/plain": [
       "<IPython.core.display.HTML object>"
      ]
     },
     "metadata": {},
     "output_type": "display_data"
    },
    {
     "data": {
      "text/html": [
       " View run at <a href='https://wandb.ai/ericwkoch/mlp-mnist-extended/runs/oj4p0pzn' target=\"_blank\">https://wandb.ai/ericwkoch/mlp-mnist-extended/runs/oj4p0pzn</a>"
      ],
      "text/plain": [
       "<IPython.core.display.HTML object>"
      ]
     },
     "metadata": {},
     "output_type": "display_data"
    },
    {
     "name": "stdout",
     "output_type": "stream",
     "text": [
      "Test accuracy: 0.9878\n"
     ]
    },
    {
     "data": {
      "text/html": [],
      "text/plain": [
       "<IPython.core.display.HTML object>"
      ]
     },
     "metadata": {},
     "output_type": "display_data"
    },
    {
     "data": {
      "text/html": [
       "<br>    <style><br>        .wandb-row {<br>            display: flex;<br>            flex-direction: row;<br>            flex-wrap: wrap;<br>            justify-content: flex-start;<br>            width: 100%;<br>        }<br>        .wandb-col {<br>            display: flex;<br>            flex-direction: column;<br>            flex-basis: 100%;<br>            flex: 1;<br>            padding: 10px;<br>        }<br>    </style><br><div class=\"wandb-row\"><div class=\"wandb-col\"><h3>Run history:</h3><br/><table class=\"wandb\"><tr><td>epoch</td><td>▁▁▂▂▂▃▃▄▄▄▅▅▅▆▆▇▇▇██</td></tr><tr><td>lr</td><td>▅████▇▇▆▆▅▄▄▃▃▂▂▁▁▁▁</td></tr><tr><td>misclassified_count</td><td>▁</td></tr><tr><td>test/acc</td><td>▁</td></tr><tr><td>test/class_acc/0</td><td>▁</td></tr><tr><td>test/class_acc/1</td><td>▁</td></tr><tr><td>test/class_acc/2</td><td>▁</td></tr><tr><td>test/class_acc/3</td><td>▁</td></tr><tr><td>test/class_acc/4</td><td>▁</td></tr><tr><td>test/class_acc/5</td><td>▁</td></tr><tr><td>+11</td><td>...</td></tr></table><br/></div><div class=\"wandb-col\"><h3>Run summary:</h3><br/><table class=\"wandb\"><tr><td>best_valid_acc</td><td>0.98694</td></tr><tr><td>epoch</td><td>20</td></tr><tr><td>lr</td><td>0.0</td></tr><tr><td>misclassified_count</td><td>16</td></tr><tr><td>param_count</td><td>1466122</td></tr><tr><td>test/acc</td><td>0.98779</td></tr><tr><td>test/class_acc/0</td><td>0.9949</td></tr><tr><td>test/class_acc/1</td><td>0.99295</td></tr><tr><td>test/class_acc/2</td><td>0.9874</td></tr><tr><td>test/class_acc/3</td><td>0.98812</td></tr><tr><td>+15</td><td>...</td></tr></table><br/></div></div>"
      ],
      "text/plain": [
       "<IPython.core.display.HTML object>"
      ]
     },
     "metadata": {},
     "output_type": "display_data"
    },
    {
     "data": {
      "text/html": [
       " View run <strong style=\"color:#cdcd00\">swept-sweep-5</strong> at: <a href='https://wandb.ai/ericwkoch/mlp-mnist-extended/runs/oj4p0pzn' target=\"_blank\">https://wandb.ai/ericwkoch/mlp-mnist-extended/runs/oj4p0pzn</a><br> View project at: <a href='https://wandb.ai/ericwkoch/mlp-mnist-extended' target=\"_blank\">https://wandb.ai/ericwkoch/mlp-mnist-extended</a><br>Synced 5 W&B file(s), 18 media file(s), 20 artifact file(s) and 0 other file(s)"
      ],
      "text/plain": [
       "<IPython.core.display.HTML object>"
      ]
     },
     "metadata": {},
     "output_type": "display_data"
    },
    {
     "data": {
      "text/html": [
       "Find logs at: <code>./wandb/run-20251010_164940-oj4p0pzn/logs</code>"
      ],
      "text/plain": [
       "<IPython.core.display.HTML object>"
      ]
     },
     "metadata": {},
     "output_type": "display_data"
    },
    {
     "name": "stderr",
     "output_type": "stream",
     "text": [
      "\u001b[34m\u001b[1mwandb\u001b[0m: Agent Starting Run: cpjrzm77 with config:\n",
      "\u001b[34m\u001b[1mwandb\u001b[0m: \tdropout: 0.2\n",
      "\u001b[34m\u001b[1mwandb\u001b[0m: \tmax_lr: 0.03\n",
      "\u001b[34m\u001b[1mwandb\u001b[0m: \tmixup_alpha: 0.2\n"
     ]
    },
    {
     "data": {
      "text/html": [
       "Ignoring project 'mlp-mnist-extended' when running a sweep."
      ],
      "text/plain": [
       "<IPython.core.display.HTML object>"
      ]
     },
     "metadata": {},
     "output_type": "display_data"
    },
    {
     "data": {
      "text/html": [],
      "text/plain": [
       "<IPython.core.display.HTML object>"
      ]
     },
     "metadata": {},
     "output_type": "display_data"
    },
    {
     "data": {
      "text/html": [
       "Tracking run with wandb version 0.22.2"
      ],
      "text/plain": [
       "<IPython.core.display.HTML object>"
      ]
     },
     "metadata": {},
     "output_type": "display_data"
    },
    {
     "data": {
      "text/html": [
       "Run data is saved locally in <code>/Users/ewkoch/repos/mlp/notebooks/wandb/run-20251010_165204-cpjrzm77</code>"
      ],
      "text/plain": [
       "<IPython.core.display.HTML object>"
      ]
     },
     "metadata": {},
     "output_type": "display_data"
    },
    {
     "data": {
      "text/html": [
       "Syncing run <strong><a href='https://wandb.ai/ericwkoch/mlp-mnist-extended/runs/cpjrzm77' target=\"_blank\">curious-sweep-6</a></strong> to <a href='https://wandb.ai/ericwkoch/mlp-mnist-extended' target=\"_blank\">Weights & Biases</a> (<a href='https://wandb.me/developer-guide' target=\"_blank\">docs</a>)<br>Sweep page: <a href='https://wandb.ai/ericwkoch/mlp-mnist-extended/sweeps/lyhvzu53' target=\"_blank\">https://wandb.ai/ericwkoch/mlp-mnist-extended/sweeps/lyhvzu53</a>"
      ],
      "text/plain": [
       "<IPython.core.display.HTML object>"
      ]
     },
     "metadata": {},
     "output_type": "display_data"
    },
    {
     "data": {
      "text/html": [
       " View project at <a href='https://wandb.ai/ericwkoch/mlp-mnist-extended' target=\"_blank\">https://wandb.ai/ericwkoch/mlp-mnist-extended</a>"
      ],
      "text/plain": [
       "<IPython.core.display.HTML object>"
      ]
     },
     "metadata": {},
     "output_type": "display_data"
    },
    {
     "data": {
      "text/html": [
       " View sweep at <a href='https://wandb.ai/ericwkoch/mlp-mnist-extended/sweeps/lyhvzu53' target=\"_blank\">https://wandb.ai/ericwkoch/mlp-mnist-extended/sweeps/lyhvzu53</a>"
      ],
      "text/plain": [
       "<IPython.core.display.HTML object>"
      ]
     },
     "metadata": {},
     "output_type": "display_data"
    },
    {
     "data": {
      "text/html": [
       " View run at <a href='https://wandb.ai/ericwkoch/mlp-mnist-extended/runs/cpjrzm77' target=\"_blank\">https://wandb.ai/ericwkoch/mlp-mnist-extended/runs/cpjrzm77</a>"
      ],
      "text/plain": [
       "<IPython.core.display.HTML object>"
      ]
     },
     "metadata": {},
     "output_type": "display_data"
    },
    {
     "name": "stdout",
     "output_type": "stream",
     "text": [
      "Test accuracy: 0.9876\n"
     ]
    },
    {
     "data": {
      "text/html": [],
      "text/plain": [
       "<IPython.core.display.HTML object>"
      ]
     },
     "metadata": {},
     "output_type": "display_data"
    },
    {
     "data": {
      "text/html": [
       "<br>    <style><br>        .wandb-row {<br>            display: flex;<br>            flex-direction: row;<br>            flex-wrap: wrap;<br>            justify-content: flex-start;<br>            width: 100%;<br>        }<br>        .wandb-col {<br>            display: flex;<br>            flex-direction: column;<br>            flex-basis: 100%;<br>            flex: 1;<br>            padding: 10px;<br>        }<br>    </style><br><div class=\"wandb-row\"><div class=\"wandb-col\"><h3>Run history:</h3><br/><table class=\"wandb\"><tr><td>epoch</td><td>▁▁▂▂▂▃▃▄▄▄▅▅▅▆▆▇▇▇██</td></tr><tr><td>lr</td><td>▅████▇▇▆▆▅▄▄▃▃▂▂▁▁▁▁</td></tr><tr><td>misclassified_count</td><td>▁</td></tr><tr><td>test/acc</td><td>▁</td></tr><tr><td>test/class_acc/0</td><td>▁</td></tr><tr><td>test/class_acc/1</td><td>▁</td></tr><tr><td>test/class_acc/2</td><td>▁</td></tr><tr><td>test/class_acc/3</td><td>▁</td></tr><tr><td>test/class_acc/4</td><td>▁</td></tr><tr><td>test/class_acc/5</td><td>▁</td></tr><tr><td>+11</td><td>...</td></tr></table><br/></div><div class=\"wandb-col\"><h3>Run summary:</h3><br/><table class=\"wandb\"><tr><td>best_valid_acc</td><td>0.98669</td></tr><tr><td>epoch</td><td>20</td></tr><tr><td>lr</td><td>0.0</td></tr><tr><td>misclassified_count</td><td>16</td></tr><tr><td>param_count</td><td>1466122</td></tr><tr><td>test/acc</td><td>0.9876</td></tr><tr><td>test/class_acc/0</td><td>0.9949</td></tr><tr><td>test/class_acc/1</td><td>0.99471</td></tr><tr><td>test/class_acc/2</td><td>0.98934</td></tr><tr><td>test/class_acc/3</td><td>0.99406</td></tr><tr><td>+15</td><td>...</td></tr></table><br/></div></div>"
      ],
      "text/plain": [
       "<IPython.core.display.HTML object>"
      ]
     },
     "metadata": {},
     "output_type": "display_data"
    },
    {
     "data": {
      "text/html": [
       " View run <strong style=\"color:#cdcd00\">curious-sweep-6</strong> at: <a href='https://wandb.ai/ericwkoch/mlp-mnist-extended/runs/cpjrzm77' target=\"_blank\">https://wandb.ai/ericwkoch/mlp-mnist-extended/runs/cpjrzm77</a><br> View project at: <a href='https://wandb.ai/ericwkoch/mlp-mnist-extended' target=\"_blank\">https://wandb.ai/ericwkoch/mlp-mnist-extended</a><br>Synced 5 W&B file(s), 18 media file(s), 20 artifact file(s) and 0 other file(s)"
      ],
      "text/plain": [
       "<IPython.core.display.HTML object>"
      ]
     },
     "metadata": {},
     "output_type": "display_data"
    },
    {
     "data": {
      "text/html": [
       "Find logs at: <code>./wandb/run-20251010_165204-cpjrzm77/logs</code>"
      ],
      "text/plain": [
       "<IPython.core.display.HTML object>"
      ]
     },
     "metadata": {},
     "output_type": "display_data"
    },
    {
     "name": "stderr",
     "output_type": "stream",
     "text": [
      "\u001b[34m\u001b[1mwandb\u001b[0m: Agent Starting Run: scxg6fg9 with config:\n",
      "\u001b[34m\u001b[1mwandb\u001b[0m: \tdropout: 0.2\n",
      "\u001b[34m\u001b[1mwandb\u001b[0m: \tmax_lr: 0.04\n",
      "\u001b[34m\u001b[1mwandb\u001b[0m: \tmixup_alpha: 0\n"
     ]
    },
    {
     "data": {
      "text/html": [
       "Ignoring project 'mlp-mnist-extended' when running a sweep."
      ],
      "text/plain": [
       "<IPython.core.display.HTML object>"
      ]
     },
     "metadata": {},
     "output_type": "display_data"
    },
    {
     "data": {
      "text/html": [],
      "text/plain": [
       "<IPython.core.display.HTML object>"
      ]
     },
     "metadata": {},
     "output_type": "display_data"
    },
    {
     "data": {
      "text/html": [
       "Tracking run with wandb version 0.22.2"
      ],
      "text/plain": [
       "<IPython.core.display.HTML object>"
      ]
     },
     "metadata": {},
     "output_type": "display_data"
    },
    {
     "data": {
      "text/html": [
       "Run data is saved locally in <code>/Users/ewkoch/repos/mlp/notebooks/wandb/run-20251010_165429-scxg6fg9</code>"
      ],
      "text/plain": [
       "<IPython.core.display.HTML object>"
      ]
     },
     "metadata": {},
     "output_type": "display_data"
    },
    {
     "data": {
      "text/html": [
       "Syncing run <strong><a href='https://wandb.ai/ericwkoch/mlp-mnist-extended/runs/scxg6fg9' target=\"_blank\">efficient-sweep-7</a></strong> to <a href='https://wandb.ai/ericwkoch/mlp-mnist-extended' target=\"_blank\">Weights & Biases</a> (<a href='https://wandb.me/developer-guide' target=\"_blank\">docs</a>)<br>Sweep page: <a href='https://wandb.ai/ericwkoch/mlp-mnist-extended/sweeps/lyhvzu53' target=\"_blank\">https://wandb.ai/ericwkoch/mlp-mnist-extended/sweeps/lyhvzu53</a>"
      ],
      "text/plain": [
       "<IPython.core.display.HTML object>"
      ]
     },
     "metadata": {},
     "output_type": "display_data"
    },
    {
     "data": {
      "text/html": [
       " View project at <a href='https://wandb.ai/ericwkoch/mlp-mnist-extended' target=\"_blank\">https://wandb.ai/ericwkoch/mlp-mnist-extended</a>"
      ],
      "text/plain": [
       "<IPython.core.display.HTML object>"
      ]
     },
     "metadata": {},
     "output_type": "display_data"
    },
    {
     "data": {
      "text/html": [
       " View sweep at <a href='https://wandb.ai/ericwkoch/mlp-mnist-extended/sweeps/lyhvzu53' target=\"_blank\">https://wandb.ai/ericwkoch/mlp-mnist-extended/sweeps/lyhvzu53</a>"
      ],
      "text/plain": [
       "<IPython.core.display.HTML object>"
      ]
     },
     "metadata": {},
     "output_type": "display_data"
    },
    {
     "data": {
      "text/html": [
       " View run at <a href='https://wandb.ai/ericwkoch/mlp-mnist-extended/runs/scxg6fg9' target=\"_blank\">https://wandb.ai/ericwkoch/mlp-mnist-extended/runs/scxg6fg9</a>"
      ],
      "text/plain": [
       "<IPython.core.display.HTML object>"
      ]
     },
     "metadata": {},
     "output_type": "display_data"
    },
    {
     "name": "stdout",
     "output_type": "stream",
     "text": [
      "Test accuracy: 0.9877\n"
     ]
    },
    {
     "data": {
      "text/html": [],
      "text/plain": [
       "<IPython.core.display.HTML object>"
      ]
     },
     "metadata": {},
     "output_type": "display_data"
    },
    {
     "data": {
      "text/html": [
       "<br>    <style><br>        .wandb-row {<br>            display: flex;<br>            flex-direction: row;<br>            flex-wrap: wrap;<br>            justify-content: flex-start;<br>            width: 100%;<br>        }<br>        .wandb-col {<br>            display: flex;<br>            flex-direction: column;<br>            flex-basis: 100%;<br>            flex: 1;<br>            padding: 10px;<br>        }<br>    </style><br><div class=\"wandb-row\"><div class=\"wandb-col\"><h3>Run history:</h3><br/><table class=\"wandb\"><tr><td>epoch</td><td>▁▁▂▂▂▃▃▄▄▄▅▅▅▆▆▇▇▇██</td></tr><tr><td>lr</td><td>▅████▇▇▆▆▅▄▄▃▃▂▂▁▁▁▁</td></tr><tr><td>misclassified_count</td><td>▁</td></tr><tr><td>test/acc</td><td>▁</td></tr><tr><td>test/class_acc/0</td><td>▁</td></tr><tr><td>test/class_acc/1</td><td>▁</td></tr><tr><td>test/class_acc/2</td><td>▁</td></tr><tr><td>test/class_acc/3</td><td>▁</td></tr><tr><td>test/class_acc/4</td><td>▁</td></tr><tr><td>test/class_acc/5</td><td>▁</td></tr><tr><td>+11</td><td>...</td></tr></table><br/></div><div class=\"wandb-col\"><h3>Run summary:</h3><br/><table class=\"wandb\"><tr><td>best_valid_acc</td><td>0.9884</td></tr><tr><td>epoch</td><td>20</td></tr><tr><td>lr</td><td>0.0</td></tr><tr><td>misclassified_count</td><td>16</td></tr><tr><td>param_count</td><td>1466122</td></tr><tr><td>test/acc</td><td>0.9877</td></tr><tr><td>test/class_acc/0</td><td>0.99082</td></tr><tr><td>test/class_acc/1</td><td>0.99119</td></tr><tr><td>test/class_acc/2</td><td>0.99225</td></tr><tr><td>test/class_acc/3</td><td>0.98812</td></tr><tr><td>+15</td><td>...</td></tr></table><br/></div></div>"
      ],
      "text/plain": [
       "<IPython.core.display.HTML object>"
      ]
     },
     "metadata": {},
     "output_type": "display_data"
    },
    {
     "data": {
      "text/html": [
       " View run <strong style=\"color:#cdcd00\">efficient-sweep-7</strong> at: <a href='https://wandb.ai/ericwkoch/mlp-mnist-extended/runs/scxg6fg9' target=\"_blank\">https://wandb.ai/ericwkoch/mlp-mnist-extended/runs/scxg6fg9</a><br> View project at: <a href='https://wandb.ai/ericwkoch/mlp-mnist-extended' target=\"_blank\">https://wandb.ai/ericwkoch/mlp-mnist-extended</a><br>Synced 5 W&B file(s), 18 media file(s), 20 artifact file(s) and 0 other file(s)"
      ],
      "text/plain": [
       "<IPython.core.display.HTML object>"
      ]
     },
     "metadata": {},
     "output_type": "display_data"
    },
    {
     "data": {
      "text/html": [
       "Find logs at: <code>./wandb/run-20251010_165429-scxg6fg9/logs</code>"
      ],
      "text/plain": [
       "<IPython.core.display.HTML object>"
      ]
     },
     "metadata": {},
     "output_type": "display_data"
    },
    {
     "name": "stderr",
     "output_type": "stream",
     "text": [
      "\u001b[34m\u001b[1mwandb\u001b[0m: Agent Starting Run: c97oiyve with config:\n",
      "\u001b[34m\u001b[1mwandb\u001b[0m: \tdropout: 0.2\n",
      "\u001b[34m\u001b[1mwandb\u001b[0m: \tmax_lr: 0.04\n",
      "\u001b[34m\u001b[1mwandb\u001b[0m: \tmixup_alpha: 0.1\n"
     ]
    },
    {
     "data": {
      "text/html": [
       "Ignoring project 'mlp-mnist-extended' when running a sweep."
      ],
      "text/plain": [
       "<IPython.core.display.HTML object>"
      ]
     },
     "metadata": {},
     "output_type": "display_data"
    },
    {
     "data": {
      "text/html": [],
      "text/plain": [
       "<IPython.core.display.HTML object>"
      ]
     },
     "metadata": {},
     "output_type": "display_data"
    },
    {
     "data": {
      "text/html": [
       "Tracking run with wandb version 0.22.2"
      ],
      "text/plain": [
       "<IPython.core.display.HTML object>"
      ]
     },
     "metadata": {},
     "output_type": "display_data"
    },
    {
     "data": {
      "text/html": [
       "Run data is saved locally in <code>/Users/ewkoch/repos/mlp/notebooks/wandb/run-20251010_165643-c97oiyve</code>"
      ],
      "text/plain": [
       "<IPython.core.display.HTML object>"
      ]
     },
     "metadata": {},
     "output_type": "display_data"
    },
    {
     "data": {
      "text/html": [
       "Syncing run <strong><a href='https://wandb.ai/ericwkoch/mlp-mnist-extended/runs/c97oiyve' target=\"_blank\">fiery-sweep-8</a></strong> to <a href='https://wandb.ai/ericwkoch/mlp-mnist-extended' target=\"_blank\">Weights & Biases</a> (<a href='https://wandb.me/developer-guide' target=\"_blank\">docs</a>)<br>Sweep page: <a href='https://wandb.ai/ericwkoch/mlp-mnist-extended/sweeps/lyhvzu53' target=\"_blank\">https://wandb.ai/ericwkoch/mlp-mnist-extended/sweeps/lyhvzu53</a>"
      ],
      "text/plain": [
       "<IPython.core.display.HTML object>"
      ]
     },
     "metadata": {},
     "output_type": "display_data"
    },
    {
     "data": {
      "text/html": [
       " View project at <a href='https://wandb.ai/ericwkoch/mlp-mnist-extended' target=\"_blank\">https://wandb.ai/ericwkoch/mlp-mnist-extended</a>"
      ],
      "text/plain": [
       "<IPython.core.display.HTML object>"
      ]
     },
     "metadata": {},
     "output_type": "display_data"
    },
    {
     "data": {
      "text/html": [
       " View sweep at <a href='https://wandb.ai/ericwkoch/mlp-mnist-extended/sweeps/lyhvzu53' target=\"_blank\">https://wandb.ai/ericwkoch/mlp-mnist-extended/sweeps/lyhvzu53</a>"
      ],
      "text/plain": [
       "<IPython.core.display.HTML object>"
      ]
     },
     "metadata": {},
     "output_type": "display_data"
    },
    {
     "data": {
      "text/html": [
       " View run at <a href='https://wandb.ai/ericwkoch/mlp-mnist-extended/runs/c97oiyve' target=\"_blank\">https://wandb.ai/ericwkoch/mlp-mnist-extended/runs/c97oiyve</a>"
      ],
      "text/plain": [
       "<IPython.core.display.HTML object>"
      ]
     },
     "metadata": {},
     "output_type": "display_data"
    },
    {
     "name": "stdout",
     "output_type": "stream",
     "text": [
      "Test accuracy: 0.9878\n"
     ]
    },
    {
     "data": {
      "text/html": [],
      "text/plain": [
       "<IPython.core.display.HTML object>"
      ]
     },
     "metadata": {},
     "output_type": "display_data"
    },
    {
     "data": {
      "text/html": [
       "<br>    <style><br>        .wandb-row {<br>            display: flex;<br>            flex-direction: row;<br>            flex-wrap: wrap;<br>            justify-content: flex-start;<br>            width: 100%;<br>        }<br>        .wandb-col {<br>            display: flex;<br>            flex-direction: column;<br>            flex-basis: 100%;<br>            flex: 1;<br>            padding: 10px;<br>        }<br>    </style><br><div class=\"wandb-row\"><div class=\"wandb-col\"><h3>Run history:</h3><br/><table class=\"wandb\"><tr><td>epoch</td><td>▁▁▂▂▂▃▃▄▄▄▅▅▅▆▆▇▇▇██</td></tr><tr><td>lr</td><td>▅████▇▇▆▆▅▄▄▃▃▂▂▁▁▁▁</td></tr><tr><td>misclassified_count</td><td>▁</td></tr><tr><td>test/acc</td><td>▁</td></tr><tr><td>test/class_acc/0</td><td>▁</td></tr><tr><td>test/class_acc/1</td><td>▁</td></tr><tr><td>test/class_acc/2</td><td>▁</td></tr><tr><td>test/class_acc/3</td><td>▁</td></tr><tr><td>test/class_acc/4</td><td>▁</td></tr><tr><td>test/class_acc/5</td><td>▁</td></tr><tr><td>+11</td><td>...</td></tr></table><br/></div><div class=\"wandb-col\"><h3>Run summary:</h3><br/><table class=\"wandb\"><tr><td>best_valid_acc</td><td>0.98596</td></tr><tr><td>epoch</td><td>20</td></tr><tr><td>lr</td><td>0.0</td></tr><tr><td>misclassified_count</td><td>16</td></tr><tr><td>param_count</td><td>1466122</td></tr><tr><td>test/acc</td><td>0.98779</td></tr><tr><td>test/class_acc/0</td><td>0.99388</td></tr><tr><td>test/class_acc/1</td><td>0.99207</td></tr><tr><td>test/class_acc/2</td><td>0.98934</td></tr><tr><td>test/class_acc/3</td><td>0.9901</td></tr><tr><td>+15</td><td>...</td></tr></table><br/></div></div>"
      ],
      "text/plain": [
       "<IPython.core.display.HTML object>"
      ]
     },
     "metadata": {},
     "output_type": "display_data"
    },
    {
     "data": {
      "text/html": [
       " View run <strong style=\"color:#cdcd00\">fiery-sweep-8</strong> at: <a href='https://wandb.ai/ericwkoch/mlp-mnist-extended/runs/c97oiyve' target=\"_blank\">https://wandb.ai/ericwkoch/mlp-mnist-extended/runs/c97oiyve</a><br> View project at: <a href='https://wandb.ai/ericwkoch/mlp-mnist-extended' target=\"_blank\">https://wandb.ai/ericwkoch/mlp-mnist-extended</a><br>Synced 5 W&B file(s), 18 media file(s), 20 artifact file(s) and 0 other file(s)"
      ],
      "text/plain": [
       "<IPython.core.display.HTML object>"
      ]
     },
     "metadata": {},
     "output_type": "display_data"
    },
    {
     "data": {
      "text/html": [
       "Find logs at: <code>./wandb/run-20251010_165643-c97oiyve/logs</code>"
      ],
      "text/plain": [
       "<IPython.core.display.HTML object>"
      ]
     },
     "metadata": {},
     "output_type": "display_data"
    },
    {
     "name": "stderr",
     "output_type": "stream",
     "text": [
      "\u001b[34m\u001b[1mwandb\u001b[0m: Agent Starting Run: 12o4b2o9 with config:\n",
      "\u001b[34m\u001b[1mwandb\u001b[0m: \tdropout: 0.2\n",
      "\u001b[34m\u001b[1mwandb\u001b[0m: \tmax_lr: 0.04\n",
      "\u001b[34m\u001b[1mwandb\u001b[0m: \tmixup_alpha: 0.2\n"
     ]
    },
    {
     "data": {
      "text/html": [
       "Ignoring project 'mlp-mnist-extended' when running a sweep."
      ],
      "text/plain": [
       "<IPython.core.display.HTML object>"
      ]
     },
     "metadata": {},
     "output_type": "display_data"
    },
    {
     "data": {
      "text/html": [],
      "text/plain": [
       "<IPython.core.display.HTML object>"
      ]
     },
     "metadata": {},
     "output_type": "display_data"
    },
    {
     "data": {
      "text/html": [
       "Tracking run with wandb version 0.22.2"
      ],
      "text/plain": [
       "<IPython.core.display.HTML object>"
      ]
     },
     "metadata": {},
     "output_type": "display_data"
    },
    {
     "data": {
      "text/html": [
       "Run data is saved locally in <code>/Users/ewkoch/repos/mlp/notebooks/wandb/run-20251010_165901-12o4b2o9</code>"
      ],
      "text/plain": [
       "<IPython.core.display.HTML object>"
      ]
     },
     "metadata": {},
     "output_type": "display_data"
    },
    {
     "data": {
      "text/html": [
       "Syncing run <strong><a href='https://wandb.ai/ericwkoch/mlp-mnist-extended/runs/12o4b2o9' target=\"_blank\">azure-sweep-9</a></strong> to <a href='https://wandb.ai/ericwkoch/mlp-mnist-extended' target=\"_blank\">Weights & Biases</a> (<a href='https://wandb.me/developer-guide' target=\"_blank\">docs</a>)<br>Sweep page: <a href='https://wandb.ai/ericwkoch/mlp-mnist-extended/sweeps/lyhvzu53' target=\"_blank\">https://wandb.ai/ericwkoch/mlp-mnist-extended/sweeps/lyhvzu53</a>"
      ],
      "text/plain": [
       "<IPython.core.display.HTML object>"
      ]
     },
     "metadata": {},
     "output_type": "display_data"
    },
    {
     "data": {
      "text/html": [
       " View project at <a href='https://wandb.ai/ericwkoch/mlp-mnist-extended' target=\"_blank\">https://wandb.ai/ericwkoch/mlp-mnist-extended</a>"
      ],
      "text/plain": [
       "<IPython.core.display.HTML object>"
      ]
     },
     "metadata": {},
     "output_type": "display_data"
    },
    {
     "data": {
      "text/html": [
       " View sweep at <a href='https://wandb.ai/ericwkoch/mlp-mnist-extended/sweeps/lyhvzu53' target=\"_blank\">https://wandb.ai/ericwkoch/mlp-mnist-extended/sweeps/lyhvzu53</a>"
      ],
      "text/plain": [
       "<IPython.core.display.HTML object>"
      ]
     },
     "metadata": {},
     "output_type": "display_data"
    },
    {
     "data": {
      "text/html": [
       " View run at <a href='https://wandb.ai/ericwkoch/mlp-mnist-extended/runs/12o4b2o9' target=\"_blank\">https://wandb.ai/ericwkoch/mlp-mnist-extended/runs/12o4b2o9</a>"
      ],
      "text/plain": [
       "<IPython.core.display.HTML object>"
      ]
     },
     "metadata": {},
     "output_type": "display_data"
    },
    {
     "name": "stdout",
     "output_type": "stream",
     "text": [
      "Test accuracy: 0.9870\n"
     ]
    },
    {
     "data": {
      "text/html": [],
      "text/plain": [
       "<IPython.core.display.HTML object>"
      ]
     },
     "metadata": {},
     "output_type": "display_data"
    },
    {
     "data": {
      "text/html": [
       "<br>    <style><br>        .wandb-row {<br>            display: flex;<br>            flex-direction: row;<br>            flex-wrap: wrap;<br>            justify-content: flex-start;<br>            width: 100%;<br>        }<br>        .wandb-col {<br>            display: flex;<br>            flex-direction: column;<br>            flex-basis: 100%;<br>            flex: 1;<br>            padding: 10px;<br>        }<br>    </style><br><div class=\"wandb-row\"><div class=\"wandb-col\"><h3>Run history:</h3><br/><table class=\"wandb\"><tr><td>epoch</td><td>▁▁▂▂▂▃▃▄▄▄▅▅▅▆▆▇▇▇██</td></tr><tr><td>lr</td><td>▅████▇▇▆▆▅▄▄▃▃▂▂▁▁▁▁</td></tr><tr><td>misclassified_count</td><td>▁</td></tr><tr><td>test/acc</td><td>▁</td></tr><tr><td>test/class_acc/0</td><td>▁</td></tr><tr><td>test/class_acc/1</td><td>▁</td></tr><tr><td>test/class_acc/2</td><td>▁</td></tr><tr><td>test/class_acc/3</td><td>▁</td></tr><tr><td>test/class_acc/4</td><td>▁</td></tr><tr><td>test/class_acc/5</td><td>▁</td></tr><tr><td>+11</td><td>...</td></tr></table><br/></div><div class=\"wandb-col\"><h3>Run summary:</h3><br/><table class=\"wandb\"><tr><td>best_valid_acc</td><td>0.98682</td></tr><tr><td>epoch</td><td>20</td></tr><tr><td>lr</td><td>0.0</td></tr><tr><td>misclassified_count</td><td>16</td></tr><tr><td>param_count</td><td>1466122</td></tr><tr><td>test/acc</td><td>0.98701</td></tr><tr><td>test/class_acc/0</td><td>0.99388</td></tr><tr><td>test/class_acc/1</td><td>0.99471</td></tr><tr><td>test/class_acc/2</td><td>0.9874</td></tr><tr><td>test/class_acc/3</td><td>0.98911</td></tr><tr><td>+15</td><td>...</td></tr></table><br/></div></div>"
      ],
      "text/plain": [
       "<IPython.core.display.HTML object>"
      ]
     },
     "metadata": {},
     "output_type": "display_data"
    },
    {
     "data": {
      "text/html": [
       " View run <strong style=\"color:#cdcd00\">azure-sweep-9</strong> at: <a href='https://wandb.ai/ericwkoch/mlp-mnist-extended/runs/12o4b2o9' target=\"_blank\">https://wandb.ai/ericwkoch/mlp-mnist-extended/runs/12o4b2o9</a><br> View project at: <a href='https://wandb.ai/ericwkoch/mlp-mnist-extended' target=\"_blank\">https://wandb.ai/ericwkoch/mlp-mnist-extended</a><br>Synced 5 W&B file(s), 18 media file(s), 20 artifact file(s) and 0 other file(s)"
      ],
      "text/plain": [
       "<IPython.core.display.HTML object>"
      ]
     },
     "metadata": {},
     "output_type": "display_data"
    },
    {
     "data": {
      "text/html": [
       "Find logs at: <code>./wandb/run-20251010_165901-12o4b2o9/logs</code>"
      ],
      "text/plain": [
       "<IPython.core.display.HTML object>"
      ]
     },
     "metadata": {},
     "output_type": "display_data"
    },
    {
     "name": "stderr",
     "output_type": "stream",
     "text": [
      "\u001b[34m\u001b[1mwandb\u001b[0m: Agent Starting Run: 7jkgotjv with config:\n",
      "\u001b[34m\u001b[1mwandb\u001b[0m: \tdropout: 0.25\n",
      "\u001b[34m\u001b[1mwandb\u001b[0m: \tmax_lr: 0.02\n",
      "\u001b[34m\u001b[1mwandb\u001b[0m: \tmixup_alpha: 0\n"
     ]
    },
    {
     "data": {
      "text/html": [
       "Ignoring project 'mlp-mnist-extended' when running a sweep."
      ],
      "text/plain": [
       "<IPython.core.display.HTML object>"
      ]
     },
     "metadata": {},
     "output_type": "display_data"
    },
    {
     "data": {
      "text/html": [],
      "text/plain": [
       "<IPython.core.display.HTML object>"
      ]
     },
     "metadata": {},
     "output_type": "display_data"
    },
    {
     "data": {
      "text/html": [
       "Tracking run with wandb version 0.22.2"
      ],
      "text/plain": [
       "<IPython.core.display.HTML object>"
      ]
     },
     "metadata": {},
     "output_type": "display_data"
    },
    {
     "data": {
      "text/html": [
       "Run data is saved locally in <code>/Users/ewkoch/repos/mlp/notebooks/wandb/run-20251010_170115-7jkgotjv</code>"
      ],
      "text/plain": [
       "<IPython.core.display.HTML object>"
      ]
     },
     "metadata": {},
     "output_type": "display_data"
    },
    {
     "data": {
      "text/html": [
       "Syncing run <strong><a href='https://wandb.ai/ericwkoch/mlp-mnist-extended/runs/7jkgotjv' target=\"_blank\">proud-sweep-10</a></strong> to <a href='https://wandb.ai/ericwkoch/mlp-mnist-extended' target=\"_blank\">Weights & Biases</a> (<a href='https://wandb.me/developer-guide' target=\"_blank\">docs</a>)<br>Sweep page: <a href='https://wandb.ai/ericwkoch/mlp-mnist-extended/sweeps/lyhvzu53' target=\"_blank\">https://wandb.ai/ericwkoch/mlp-mnist-extended/sweeps/lyhvzu53</a>"
      ],
      "text/plain": [
       "<IPython.core.display.HTML object>"
      ]
     },
     "metadata": {},
     "output_type": "display_data"
    },
    {
     "data": {
      "text/html": [
       " View project at <a href='https://wandb.ai/ericwkoch/mlp-mnist-extended' target=\"_blank\">https://wandb.ai/ericwkoch/mlp-mnist-extended</a>"
      ],
      "text/plain": [
       "<IPython.core.display.HTML object>"
      ]
     },
     "metadata": {},
     "output_type": "display_data"
    },
    {
     "data": {
      "text/html": [
       " View sweep at <a href='https://wandb.ai/ericwkoch/mlp-mnist-extended/sweeps/lyhvzu53' target=\"_blank\">https://wandb.ai/ericwkoch/mlp-mnist-extended/sweeps/lyhvzu53</a>"
      ],
      "text/plain": [
       "<IPython.core.display.HTML object>"
      ]
     },
     "metadata": {},
     "output_type": "display_data"
    },
    {
     "data": {
      "text/html": [
       " View run at <a href='https://wandb.ai/ericwkoch/mlp-mnist-extended/runs/7jkgotjv' target=\"_blank\">https://wandb.ai/ericwkoch/mlp-mnist-extended/runs/7jkgotjv</a>"
      ],
      "text/plain": [
       "<IPython.core.display.HTML object>"
      ]
     },
     "metadata": {},
     "output_type": "display_data"
    },
    {
     "name": "stdout",
     "output_type": "stream",
     "text": [
      "Test accuracy: 0.9880\n"
     ]
    },
    {
     "data": {
      "text/html": [],
      "text/plain": [
       "<IPython.core.display.HTML object>"
      ]
     },
     "metadata": {},
     "output_type": "display_data"
    },
    {
     "data": {
      "text/html": [
       "<br>    <style><br>        .wandb-row {<br>            display: flex;<br>            flex-direction: row;<br>            flex-wrap: wrap;<br>            justify-content: flex-start;<br>            width: 100%;<br>        }<br>        .wandb-col {<br>            display: flex;<br>            flex-direction: column;<br>            flex-basis: 100%;<br>            flex: 1;<br>            padding: 10px;<br>        }<br>    </style><br><div class=\"wandb-row\"><div class=\"wandb-col\"><h3>Run history:</h3><br/><table class=\"wandb\"><tr><td>epoch</td><td>▁▁▂▂▂▃▃▄▄▄▅▅▅▆▆▇▇▇██</td></tr><tr><td>lr</td><td>▅████▇▇▆▆▅▄▄▃▃▂▂▁▁▁▁</td></tr><tr><td>misclassified_count</td><td>▁</td></tr><tr><td>test/acc</td><td>▁</td></tr><tr><td>test/class_acc/0</td><td>▁</td></tr><tr><td>test/class_acc/1</td><td>▁</td></tr><tr><td>test/class_acc/2</td><td>▁</td></tr><tr><td>test/class_acc/3</td><td>▁</td></tr><tr><td>test/class_acc/4</td><td>▁</td></tr><tr><td>test/class_acc/5</td><td>▁</td></tr><tr><td>+11</td><td>...</td></tr></table><br/></div><div class=\"wandb-col\"><h3>Run summary:</h3><br/><table class=\"wandb\"><tr><td>best_valid_acc</td><td>0.98804</td></tr><tr><td>epoch</td><td>20</td></tr><tr><td>lr</td><td>0.0</td></tr><tr><td>misclassified_count</td><td>16</td></tr><tr><td>param_count</td><td>1466122</td></tr><tr><td>test/acc</td><td>0.98799</td></tr><tr><td>test/class_acc/0</td><td>0.9949</td></tr><tr><td>test/class_acc/1</td><td>0.99207</td></tr><tr><td>test/class_acc/2</td><td>0.99031</td></tr><tr><td>test/class_acc/3</td><td>0.9901</td></tr><tr><td>+15</td><td>...</td></tr></table><br/></div></div>"
      ],
      "text/plain": [
       "<IPython.core.display.HTML object>"
      ]
     },
     "metadata": {},
     "output_type": "display_data"
    },
    {
     "data": {
      "text/html": [
       " View run <strong style=\"color:#cdcd00\">proud-sweep-10</strong> at: <a href='https://wandb.ai/ericwkoch/mlp-mnist-extended/runs/7jkgotjv' target=\"_blank\">https://wandb.ai/ericwkoch/mlp-mnist-extended/runs/7jkgotjv</a><br> View project at: <a href='https://wandb.ai/ericwkoch/mlp-mnist-extended' target=\"_blank\">https://wandb.ai/ericwkoch/mlp-mnist-extended</a><br>Synced 5 W&B file(s), 18 media file(s), 20 artifact file(s) and 0 other file(s)"
      ],
      "text/plain": [
       "<IPython.core.display.HTML object>"
      ]
     },
     "metadata": {},
     "output_type": "display_data"
    },
    {
     "data": {
      "text/html": [
       "Find logs at: <code>./wandb/run-20251010_170115-7jkgotjv/logs</code>"
      ],
      "text/plain": [
       "<IPython.core.display.HTML object>"
      ]
     },
     "metadata": {},
     "output_type": "display_data"
    },
    {
     "name": "stderr",
     "output_type": "stream",
     "text": [
      "\u001b[34m\u001b[1mwandb\u001b[0m: Agent Starting Run: vvpzz2df with config:\n",
      "\u001b[34m\u001b[1mwandb\u001b[0m: \tdropout: 0.25\n",
      "\u001b[34m\u001b[1mwandb\u001b[0m: \tmax_lr: 0.02\n",
      "\u001b[34m\u001b[1mwandb\u001b[0m: \tmixup_alpha: 0.1\n"
     ]
    },
    {
     "data": {
      "text/html": [
       "Ignoring project 'mlp-mnist-extended' when running a sweep."
      ],
      "text/plain": [
       "<IPython.core.display.HTML object>"
      ]
     },
     "metadata": {},
     "output_type": "display_data"
    },
    {
     "data": {
      "text/html": [],
      "text/plain": [
       "<IPython.core.display.HTML object>"
      ]
     },
     "metadata": {},
     "output_type": "display_data"
    },
    {
     "data": {
      "text/html": [
       "Tracking run with wandb version 0.22.2"
      ],
      "text/plain": [
       "<IPython.core.display.HTML object>"
      ]
     },
     "metadata": {},
     "output_type": "display_data"
    },
    {
     "data": {
      "text/html": [
       "Run data is saved locally in <code>/Users/ewkoch/repos/mlp/notebooks/wandb/run-20251010_170318-vvpzz2df</code>"
      ],
      "text/plain": [
       "<IPython.core.display.HTML object>"
      ]
     },
     "metadata": {},
     "output_type": "display_data"
    },
    {
     "data": {
      "text/html": [
       "Syncing run <strong><a href='https://wandb.ai/ericwkoch/mlp-mnist-extended/runs/vvpzz2df' target=\"_blank\">curious-sweep-11</a></strong> to <a href='https://wandb.ai/ericwkoch/mlp-mnist-extended' target=\"_blank\">Weights & Biases</a> (<a href='https://wandb.me/developer-guide' target=\"_blank\">docs</a>)<br>Sweep page: <a href='https://wandb.ai/ericwkoch/mlp-mnist-extended/sweeps/lyhvzu53' target=\"_blank\">https://wandb.ai/ericwkoch/mlp-mnist-extended/sweeps/lyhvzu53</a>"
      ],
      "text/plain": [
       "<IPython.core.display.HTML object>"
      ]
     },
     "metadata": {},
     "output_type": "display_data"
    },
    {
     "data": {
      "text/html": [
       " View project at <a href='https://wandb.ai/ericwkoch/mlp-mnist-extended' target=\"_blank\">https://wandb.ai/ericwkoch/mlp-mnist-extended</a>"
      ],
      "text/plain": [
       "<IPython.core.display.HTML object>"
      ]
     },
     "metadata": {},
     "output_type": "display_data"
    },
    {
     "data": {
      "text/html": [
       " View sweep at <a href='https://wandb.ai/ericwkoch/mlp-mnist-extended/sweeps/lyhvzu53' target=\"_blank\">https://wandb.ai/ericwkoch/mlp-mnist-extended/sweeps/lyhvzu53</a>"
      ],
      "text/plain": [
       "<IPython.core.display.HTML object>"
      ]
     },
     "metadata": {},
     "output_type": "display_data"
    },
    {
     "data": {
      "text/html": [
       " View run at <a href='https://wandb.ai/ericwkoch/mlp-mnist-extended/runs/vvpzz2df' target=\"_blank\">https://wandb.ai/ericwkoch/mlp-mnist-extended/runs/vvpzz2df</a>"
      ],
      "text/plain": [
       "<IPython.core.display.HTML object>"
      ]
     },
     "metadata": {},
     "output_type": "display_data"
    },
    {
     "name": "stdout",
     "output_type": "stream",
     "text": [
      "Test accuracy: 0.9881\n"
     ]
    },
    {
     "data": {
      "text/html": [],
      "text/plain": [
       "<IPython.core.display.HTML object>"
      ]
     },
     "metadata": {},
     "output_type": "display_data"
    },
    {
     "data": {
      "text/html": [
       "<br>    <style><br>        .wandb-row {<br>            display: flex;<br>            flex-direction: row;<br>            flex-wrap: wrap;<br>            justify-content: flex-start;<br>            width: 100%;<br>        }<br>        .wandb-col {<br>            display: flex;<br>            flex-direction: column;<br>            flex-basis: 100%;<br>            flex: 1;<br>            padding: 10px;<br>        }<br>    </style><br><div class=\"wandb-row\"><div class=\"wandb-col\"><h3>Run history:</h3><br/><table class=\"wandb\"><tr><td>epoch</td><td>▁▁▂▂▂▃▃▄▄▄▅▅▅▆▆▇▇▇██</td></tr><tr><td>lr</td><td>▅████▇▇▆▆▅▄▄▃▃▂▂▁▁▁▁</td></tr><tr><td>misclassified_count</td><td>▁</td></tr><tr><td>test/acc</td><td>▁</td></tr><tr><td>test/class_acc/0</td><td>▁</td></tr><tr><td>test/class_acc/1</td><td>▁</td></tr><tr><td>test/class_acc/2</td><td>▁</td></tr><tr><td>test/class_acc/3</td><td>▁</td></tr><tr><td>test/class_acc/4</td><td>▁</td></tr><tr><td>test/class_acc/5</td><td>▁</td></tr><tr><td>+11</td><td>...</td></tr></table><br/></div><div class=\"wandb-col\"><h3>Run summary:</h3><br/><table class=\"wandb\"><tr><td>best_valid_acc</td><td>0.98621</td></tr><tr><td>epoch</td><td>20</td></tr><tr><td>lr</td><td>0.0</td></tr><tr><td>misclassified_count</td><td>16</td></tr><tr><td>param_count</td><td>1466122</td></tr><tr><td>test/acc</td><td>0.98809</td></tr><tr><td>test/class_acc/0</td><td>0.9949</td></tr><tr><td>test/class_acc/1</td><td>0.99295</td></tr><tr><td>test/class_acc/2</td><td>0.98837</td></tr><tr><td>test/class_acc/3</td><td>0.9901</td></tr><tr><td>+15</td><td>...</td></tr></table><br/></div></div>"
      ],
      "text/plain": [
       "<IPython.core.display.HTML object>"
      ]
     },
     "metadata": {},
     "output_type": "display_data"
    },
    {
     "data": {
      "text/html": [
       " View run <strong style=\"color:#cdcd00\">curious-sweep-11</strong> at: <a href='https://wandb.ai/ericwkoch/mlp-mnist-extended/runs/vvpzz2df' target=\"_blank\">https://wandb.ai/ericwkoch/mlp-mnist-extended/runs/vvpzz2df</a><br> View project at: <a href='https://wandb.ai/ericwkoch/mlp-mnist-extended' target=\"_blank\">https://wandb.ai/ericwkoch/mlp-mnist-extended</a><br>Synced 5 W&B file(s), 18 media file(s), 20 artifact file(s) and 0 other file(s)"
      ],
      "text/plain": [
       "<IPython.core.display.HTML object>"
      ]
     },
     "metadata": {},
     "output_type": "display_data"
    },
    {
     "data": {
      "text/html": [
       "Find logs at: <code>./wandb/run-20251010_170318-vvpzz2df/logs</code>"
      ],
      "text/plain": [
       "<IPython.core.display.HTML object>"
      ]
     },
     "metadata": {},
     "output_type": "display_data"
    },
    {
     "name": "stderr",
     "output_type": "stream",
     "text": [
      "\u001b[34m\u001b[1mwandb\u001b[0m: Sweep Agent: Waiting for job.\n",
      "\u001b[34m\u001b[1mwandb\u001b[0m: Job received.\n",
      "\u001b[34m\u001b[1mwandb\u001b[0m: Agent Starting Run: 6lki4k88 with config:\n",
      "\u001b[34m\u001b[1mwandb\u001b[0m: \tdropout: 0.25\n",
      "\u001b[34m\u001b[1mwandb\u001b[0m: \tmax_lr: 0.02\n",
      "\u001b[34m\u001b[1mwandb\u001b[0m: \tmixup_alpha: 0.2\n"
     ]
    },
    {
     "data": {
      "text/html": [
       "Ignoring project 'mlp-mnist-extended' when running a sweep."
      ],
      "text/plain": [
       "<IPython.core.display.HTML object>"
      ]
     },
     "metadata": {},
     "output_type": "display_data"
    },
    {
     "data": {
      "text/html": [],
      "text/plain": [
       "<IPython.core.display.HTML object>"
      ]
     },
     "metadata": {},
     "output_type": "display_data"
    },
    {
     "data": {
      "text/html": [
       "Tracking run with wandb version 0.22.2"
      ],
      "text/plain": [
       "<IPython.core.display.HTML object>"
      ]
     },
     "metadata": {},
     "output_type": "display_data"
    },
    {
     "data": {
      "text/html": [
       "Run data is saved locally in <code>/Users/ewkoch/repos/mlp/notebooks/wandb/run-20251010_170537-6lki4k88</code>"
      ],
      "text/plain": [
       "<IPython.core.display.HTML object>"
      ]
     },
     "metadata": {},
     "output_type": "display_data"
    },
    {
     "data": {
      "text/html": [
       "Syncing run <strong><a href='https://wandb.ai/ericwkoch/mlp-mnist-extended/runs/6lki4k88' target=\"_blank\">morning-sweep-12</a></strong> to <a href='https://wandb.ai/ericwkoch/mlp-mnist-extended' target=\"_blank\">Weights & Biases</a> (<a href='https://wandb.me/developer-guide' target=\"_blank\">docs</a>)<br>Sweep page: <a href='https://wandb.ai/ericwkoch/mlp-mnist-extended/sweeps/lyhvzu53' target=\"_blank\">https://wandb.ai/ericwkoch/mlp-mnist-extended/sweeps/lyhvzu53</a>"
      ],
      "text/plain": [
       "<IPython.core.display.HTML object>"
      ]
     },
     "metadata": {},
     "output_type": "display_data"
    },
    {
     "data": {
      "text/html": [
       " View project at <a href='https://wandb.ai/ericwkoch/mlp-mnist-extended' target=\"_blank\">https://wandb.ai/ericwkoch/mlp-mnist-extended</a>"
      ],
      "text/plain": [
       "<IPython.core.display.HTML object>"
      ]
     },
     "metadata": {},
     "output_type": "display_data"
    },
    {
     "data": {
      "text/html": [
       " View sweep at <a href='https://wandb.ai/ericwkoch/mlp-mnist-extended/sweeps/lyhvzu53' target=\"_blank\">https://wandb.ai/ericwkoch/mlp-mnist-extended/sweeps/lyhvzu53</a>"
      ],
      "text/plain": [
       "<IPython.core.display.HTML object>"
      ]
     },
     "metadata": {},
     "output_type": "display_data"
    },
    {
     "data": {
      "text/html": [
       " View run at <a href='https://wandb.ai/ericwkoch/mlp-mnist-extended/runs/6lki4k88' target=\"_blank\">https://wandb.ai/ericwkoch/mlp-mnist-extended/runs/6lki4k88</a>"
      ],
      "text/plain": [
       "<IPython.core.display.HTML object>"
      ]
     },
     "metadata": {},
     "output_type": "display_data"
    },
    {
     "name": "stdout",
     "output_type": "stream",
     "text": [
      "Test accuracy: 0.9869\n"
     ]
    },
    {
     "data": {
      "text/html": [],
      "text/plain": [
       "<IPython.core.display.HTML object>"
      ]
     },
     "metadata": {},
     "output_type": "display_data"
    },
    {
     "data": {
      "text/html": [
       "<br>    <style><br>        .wandb-row {<br>            display: flex;<br>            flex-direction: row;<br>            flex-wrap: wrap;<br>            justify-content: flex-start;<br>            width: 100%;<br>        }<br>        .wandb-col {<br>            display: flex;<br>            flex-direction: column;<br>            flex-basis: 100%;<br>            flex: 1;<br>            padding: 10px;<br>        }<br>    </style><br><div class=\"wandb-row\"><div class=\"wandb-col\"><h3>Run history:</h3><br/><table class=\"wandb\"><tr><td>epoch</td><td>▁▁▂▂▂▃▃▄▄▄▅▅▅▆▆▇▇▇██</td></tr><tr><td>lr</td><td>▅████▇▇▆▆▅▄▄▃▃▂▂▁▁▁▁</td></tr><tr><td>misclassified_count</td><td>▁</td></tr><tr><td>test/acc</td><td>▁</td></tr><tr><td>test/class_acc/0</td><td>▁</td></tr><tr><td>test/class_acc/1</td><td>▁</td></tr><tr><td>test/class_acc/2</td><td>▁</td></tr><tr><td>test/class_acc/3</td><td>▁</td></tr><tr><td>test/class_acc/4</td><td>▁</td></tr><tr><td>test/class_acc/5</td><td>▁</td></tr><tr><td>+11</td><td>...</td></tr></table><br/></div><div class=\"wandb-col\"><h3>Run summary:</h3><br/><table class=\"wandb\"><tr><td>best_valid_acc</td><td>0.98572</td></tr><tr><td>epoch</td><td>20</td></tr><tr><td>lr</td><td>0.0</td></tr><tr><td>misclassified_count</td><td>16</td></tr><tr><td>param_count</td><td>1466122</td></tr><tr><td>test/acc</td><td>0.98691</td></tr><tr><td>test/class_acc/0</td><td>0.99286</td></tr><tr><td>test/class_acc/1</td><td>0.99559</td></tr><tr><td>test/class_acc/2</td><td>0.98934</td></tr><tr><td>test/class_acc/3</td><td>0.98713</td></tr><tr><td>+15</td><td>...</td></tr></table><br/></div></div>"
      ],
      "text/plain": [
       "<IPython.core.display.HTML object>"
      ]
     },
     "metadata": {},
     "output_type": "display_data"
    },
    {
     "data": {
      "text/html": [
       " View run <strong style=\"color:#cdcd00\">morning-sweep-12</strong> at: <a href='https://wandb.ai/ericwkoch/mlp-mnist-extended/runs/6lki4k88' target=\"_blank\">https://wandb.ai/ericwkoch/mlp-mnist-extended/runs/6lki4k88</a><br> View project at: <a href='https://wandb.ai/ericwkoch/mlp-mnist-extended' target=\"_blank\">https://wandb.ai/ericwkoch/mlp-mnist-extended</a><br>Synced 5 W&B file(s), 18 media file(s), 20 artifact file(s) and 0 other file(s)"
      ],
      "text/plain": [
       "<IPython.core.display.HTML object>"
      ]
     },
     "metadata": {},
     "output_type": "display_data"
    },
    {
     "data": {
      "text/html": [
       "Find logs at: <code>./wandb/run-20251010_170537-6lki4k88/logs</code>"
      ],
      "text/plain": [
       "<IPython.core.display.HTML object>"
      ]
     },
     "metadata": {},
     "output_type": "display_data"
    },
    {
     "name": "stderr",
     "output_type": "stream",
     "text": [
      "\u001b[34m\u001b[1mwandb\u001b[0m: Agent Starting Run: n8mapr4r with config:\n",
      "\u001b[34m\u001b[1mwandb\u001b[0m: \tdropout: 0.25\n",
      "\u001b[34m\u001b[1mwandb\u001b[0m: \tmax_lr: 0.03\n",
      "\u001b[34m\u001b[1mwandb\u001b[0m: \tmixup_alpha: 0\n"
     ]
    },
    {
     "data": {
      "text/html": [
       "Ignoring project 'mlp-mnist-extended' when running a sweep."
      ],
      "text/plain": [
       "<IPython.core.display.HTML object>"
      ]
     },
     "metadata": {},
     "output_type": "display_data"
    },
    {
     "data": {
      "text/html": [],
      "text/plain": [
       "<IPython.core.display.HTML object>"
      ]
     },
     "metadata": {},
     "output_type": "display_data"
    },
    {
     "data": {
      "text/html": [
       "Tracking run with wandb version 0.22.2"
      ],
      "text/plain": [
       "<IPython.core.display.HTML object>"
      ]
     },
     "metadata": {},
     "output_type": "display_data"
    },
    {
     "data": {
      "text/html": [
       "Run data is saved locally in <code>/Users/ewkoch/repos/mlp/notebooks/wandb/run-20251010_170753-n8mapr4r</code>"
      ],
      "text/plain": [
       "<IPython.core.display.HTML object>"
      ]
     },
     "metadata": {},
     "output_type": "display_data"
    },
    {
     "data": {
      "text/html": [
       "Syncing run <strong><a href='https://wandb.ai/ericwkoch/mlp-mnist-extended/runs/n8mapr4r' target=\"_blank\">dutiful-sweep-13</a></strong> to <a href='https://wandb.ai/ericwkoch/mlp-mnist-extended' target=\"_blank\">Weights & Biases</a> (<a href='https://wandb.me/developer-guide' target=\"_blank\">docs</a>)<br>Sweep page: <a href='https://wandb.ai/ericwkoch/mlp-mnist-extended/sweeps/lyhvzu53' target=\"_blank\">https://wandb.ai/ericwkoch/mlp-mnist-extended/sweeps/lyhvzu53</a>"
      ],
      "text/plain": [
       "<IPython.core.display.HTML object>"
      ]
     },
     "metadata": {},
     "output_type": "display_data"
    },
    {
     "data": {
      "text/html": [
       " View project at <a href='https://wandb.ai/ericwkoch/mlp-mnist-extended' target=\"_blank\">https://wandb.ai/ericwkoch/mlp-mnist-extended</a>"
      ],
      "text/plain": [
       "<IPython.core.display.HTML object>"
      ]
     },
     "metadata": {},
     "output_type": "display_data"
    },
    {
     "data": {
      "text/html": [
       " View sweep at <a href='https://wandb.ai/ericwkoch/mlp-mnist-extended/sweeps/lyhvzu53' target=\"_blank\">https://wandb.ai/ericwkoch/mlp-mnist-extended/sweeps/lyhvzu53</a>"
      ],
      "text/plain": [
       "<IPython.core.display.HTML object>"
      ]
     },
     "metadata": {},
     "output_type": "display_data"
    },
    {
     "data": {
      "text/html": [
       " View run at <a href='https://wandb.ai/ericwkoch/mlp-mnist-extended/runs/n8mapr4r' target=\"_blank\">https://wandb.ai/ericwkoch/mlp-mnist-extended/runs/n8mapr4r</a>"
      ],
      "text/plain": [
       "<IPython.core.display.HTML object>"
      ]
     },
     "metadata": {},
     "output_type": "display_data"
    },
    {
     "name": "stdout",
     "output_type": "stream",
     "text": [
      "Test accuracy: 0.9876\n"
     ]
    },
    {
     "data": {
      "text/html": [],
      "text/plain": [
       "<IPython.core.display.HTML object>"
      ]
     },
     "metadata": {},
     "output_type": "display_data"
    },
    {
     "data": {
      "text/html": [
       "<br>    <style><br>        .wandb-row {<br>            display: flex;<br>            flex-direction: row;<br>            flex-wrap: wrap;<br>            justify-content: flex-start;<br>            width: 100%;<br>        }<br>        .wandb-col {<br>            display: flex;<br>            flex-direction: column;<br>            flex-basis: 100%;<br>            flex: 1;<br>            padding: 10px;<br>        }<br>    </style><br><div class=\"wandb-row\"><div class=\"wandb-col\"><h3>Run history:</h3><br/><table class=\"wandb\"><tr><td>epoch</td><td>▁▁▂▂▂▃▃▄▄▄▅▅▅▆▆▇▇▇██</td></tr><tr><td>lr</td><td>▅████▇▇▆▆▅▄▄▃▃▂▂▁▁▁▁</td></tr><tr><td>misclassified_count</td><td>▁</td></tr><tr><td>test/acc</td><td>▁</td></tr><tr><td>test/class_acc/0</td><td>▁</td></tr><tr><td>test/class_acc/1</td><td>▁</td></tr><tr><td>test/class_acc/2</td><td>▁</td></tr><tr><td>test/class_acc/3</td><td>▁</td></tr><tr><td>test/class_acc/4</td><td>▁</td></tr><tr><td>test/class_acc/5</td><td>▁</td></tr><tr><td>+11</td><td>...</td></tr></table><br/></div><div class=\"wandb-col\"><h3>Run summary:</h3><br/><table class=\"wandb\"><tr><td>best_valid_acc</td><td>0.98743</td></tr><tr><td>epoch</td><td>20</td></tr><tr><td>lr</td><td>0.0</td></tr><tr><td>misclassified_count</td><td>16</td></tr><tr><td>param_count</td><td>1466122</td></tr><tr><td>test/acc</td><td>0.9876</td></tr><tr><td>test/class_acc/0</td><td>0.99184</td></tr><tr><td>test/class_acc/1</td><td>0.99207</td></tr><tr><td>test/class_acc/2</td><td>0.98934</td></tr><tr><td>test/class_acc/3</td><td>0.9901</td></tr><tr><td>+15</td><td>...</td></tr></table><br/></div></div>"
      ],
      "text/plain": [
       "<IPython.core.display.HTML object>"
      ]
     },
     "metadata": {},
     "output_type": "display_data"
    },
    {
     "data": {
      "text/html": [
       " View run <strong style=\"color:#cdcd00\">dutiful-sweep-13</strong> at: <a href='https://wandb.ai/ericwkoch/mlp-mnist-extended/runs/n8mapr4r' target=\"_blank\">https://wandb.ai/ericwkoch/mlp-mnist-extended/runs/n8mapr4r</a><br> View project at: <a href='https://wandb.ai/ericwkoch/mlp-mnist-extended' target=\"_blank\">https://wandb.ai/ericwkoch/mlp-mnist-extended</a><br>Synced 5 W&B file(s), 18 media file(s), 20 artifact file(s) and 0 other file(s)"
      ],
      "text/plain": [
       "<IPython.core.display.HTML object>"
      ]
     },
     "metadata": {},
     "output_type": "display_data"
    },
    {
     "data": {
      "text/html": [
       "Find logs at: <code>./wandb/run-20251010_170753-n8mapr4r/logs</code>"
      ],
      "text/plain": [
       "<IPython.core.display.HTML object>"
      ]
     },
     "metadata": {},
     "output_type": "display_data"
    },
    {
     "name": "stderr",
     "output_type": "stream",
     "text": [
      "\u001b[34m\u001b[1mwandb\u001b[0m: Agent Starting Run: lb2gs65o with config:\n",
      "\u001b[34m\u001b[1mwandb\u001b[0m: \tdropout: 0.25\n",
      "\u001b[34m\u001b[1mwandb\u001b[0m: \tmax_lr: 0.03\n",
      "\u001b[34m\u001b[1mwandb\u001b[0m: \tmixup_alpha: 0.1\n"
     ]
    },
    {
     "data": {
      "text/html": [
       "Ignoring project 'mlp-mnist-extended' when running a sweep."
      ],
      "text/plain": [
       "<IPython.core.display.HTML object>"
      ]
     },
     "metadata": {},
     "output_type": "display_data"
    },
    {
     "data": {
      "text/html": [],
      "text/plain": [
       "<IPython.core.display.HTML object>"
      ]
     },
     "metadata": {},
     "output_type": "display_data"
    },
    {
     "data": {
      "text/html": [
       "Tracking run with wandb version 0.22.2"
      ],
      "text/plain": [
       "<IPython.core.display.HTML object>"
      ]
     },
     "metadata": {},
     "output_type": "display_data"
    },
    {
     "data": {
      "text/html": [
       "Run data is saved locally in <code>/Users/ewkoch/repos/mlp/notebooks/wandb/run-20251010_171002-lb2gs65o</code>"
      ],
      "text/plain": [
       "<IPython.core.display.HTML object>"
      ]
     },
     "metadata": {},
     "output_type": "display_data"
    },
    {
     "data": {
      "text/html": [
       "Syncing run <strong><a href='https://wandb.ai/ericwkoch/mlp-mnist-extended/runs/lb2gs65o' target=\"_blank\">balmy-sweep-14</a></strong> to <a href='https://wandb.ai/ericwkoch/mlp-mnist-extended' target=\"_blank\">Weights & Biases</a> (<a href='https://wandb.me/developer-guide' target=\"_blank\">docs</a>)<br>Sweep page: <a href='https://wandb.ai/ericwkoch/mlp-mnist-extended/sweeps/lyhvzu53' target=\"_blank\">https://wandb.ai/ericwkoch/mlp-mnist-extended/sweeps/lyhvzu53</a>"
      ],
      "text/plain": [
       "<IPython.core.display.HTML object>"
      ]
     },
     "metadata": {},
     "output_type": "display_data"
    },
    {
     "data": {
      "text/html": [
       " View project at <a href='https://wandb.ai/ericwkoch/mlp-mnist-extended' target=\"_blank\">https://wandb.ai/ericwkoch/mlp-mnist-extended</a>"
      ],
      "text/plain": [
       "<IPython.core.display.HTML object>"
      ]
     },
     "metadata": {},
     "output_type": "display_data"
    },
    {
     "data": {
      "text/html": [
       " View sweep at <a href='https://wandb.ai/ericwkoch/mlp-mnist-extended/sweeps/lyhvzu53' target=\"_blank\">https://wandb.ai/ericwkoch/mlp-mnist-extended/sweeps/lyhvzu53</a>"
      ],
      "text/plain": [
       "<IPython.core.display.HTML object>"
      ]
     },
     "metadata": {},
     "output_type": "display_data"
    },
    {
     "data": {
      "text/html": [
       " View run at <a href='https://wandb.ai/ericwkoch/mlp-mnist-extended/runs/lb2gs65o' target=\"_blank\">https://wandb.ai/ericwkoch/mlp-mnist-extended/runs/lb2gs65o</a>"
      ],
      "text/plain": [
       "<IPython.core.display.HTML object>"
      ]
     },
     "metadata": {},
     "output_type": "display_data"
    },
    {
     "name": "stdout",
     "output_type": "stream",
     "text": [
      "Test accuracy: 0.9875\n"
     ]
    },
    {
     "data": {
      "text/html": [],
      "text/plain": [
       "<IPython.core.display.HTML object>"
      ]
     },
     "metadata": {},
     "output_type": "display_data"
    },
    {
     "data": {
      "text/html": [
       "<br>    <style><br>        .wandb-row {<br>            display: flex;<br>            flex-direction: row;<br>            flex-wrap: wrap;<br>            justify-content: flex-start;<br>            width: 100%;<br>        }<br>        .wandb-col {<br>            display: flex;<br>            flex-direction: column;<br>            flex-basis: 100%;<br>            flex: 1;<br>            padding: 10px;<br>        }<br>    </style><br><div class=\"wandb-row\"><div class=\"wandb-col\"><h3>Run history:</h3><br/><table class=\"wandb\"><tr><td>epoch</td><td>▁▁▂▂▂▃▃▄▄▄▅▅▅▆▆▇▇▇██</td></tr><tr><td>lr</td><td>▅████▇▇▆▆▅▄▄▃▃▂▂▁▁▁▁</td></tr><tr><td>misclassified_count</td><td>▁</td></tr><tr><td>test/acc</td><td>▁</td></tr><tr><td>test/class_acc/0</td><td>▁</td></tr><tr><td>test/class_acc/1</td><td>▁</td></tr><tr><td>test/class_acc/2</td><td>▁</td></tr><tr><td>test/class_acc/3</td><td>▁</td></tr><tr><td>test/class_acc/4</td><td>▁</td></tr><tr><td>test/class_acc/5</td><td>▁</td></tr><tr><td>+11</td><td>...</td></tr></table><br/></div><div class=\"wandb-col\"><h3>Run summary:</h3><br/><table class=\"wandb\"><tr><td>best_valid_acc</td><td>0.98657</td></tr><tr><td>epoch</td><td>20</td></tr><tr><td>lr</td><td>0.0</td></tr><tr><td>misclassified_count</td><td>16</td></tr><tr><td>param_count</td><td>1466122</td></tr><tr><td>test/acc</td><td>0.9875</td></tr><tr><td>test/class_acc/0</td><td>0.9949</td></tr><tr><td>test/class_acc/1</td><td>0.99119</td></tr><tr><td>test/class_acc/2</td><td>0.98837</td></tr><tr><td>test/class_acc/3</td><td>0.99109</td></tr><tr><td>+15</td><td>...</td></tr></table><br/></div></div>"
      ],
      "text/plain": [
       "<IPython.core.display.HTML object>"
      ]
     },
     "metadata": {},
     "output_type": "display_data"
    },
    {
     "data": {
      "text/html": [
       " View run <strong style=\"color:#cdcd00\">balmy-sweep-14</strong> at: <a href='https://wandb.ai/ericwkoch/mlp-mnist-extended/runs/lb2gs65o' target=\"_blank\">https://wandb.ai/ericwkoch/mlp-mnist-extended/runs/lb2gs65o</a><br> View project at: <a href='https://wandb.ai/ericwkoch/mlp-mnist-extended' target=\"_blank\">https://wandb.ai/ericwkoch/mlp-mnist-extended</a><br>Synced 5 W&B file(s), 18 media file(s), 20 artifact file(s) and 0 other file(s)"
      ],
      "text/plain": [
       "<IPython.core.display.HTML object>"
      ]
     },
     "metadata": {},
     "output_type": "display_data"
    },
    {
     "data": {
      "text/html": [
       "Find logs at: <code>./wandb/run-20251010_171002-lb2gs65o/logs</code>"
      ],
      "text/plain": [
       "<IPython.core.display.HTML object>"
      ]
     },
     "metadata": {},
     "output_type": "display_data"
    },
    {
     "name": "stderr",
     "output_type": "stream",
     "text": [
      "\u001b[34m\u001b[1mwandb\u001b[0m: Agent Starting Run: tif0cs8o with config:\n",
      "\u001b[34m\u001b[1mwandb\u001b[0m: \tdropout: 0.25\n",
      "\u001b[34m\u001b[1mwandb\u001b[0m: \tmax_lr: 0.03\n",
      "\u001b[34m\u001b[1mwandb\u001b[0m: \tmixup_alpha: 0.2\n"
     ]
    },
    {
     "data": {
      "text/html": [
       "Ignoring project 'mlp-mnist-extended' when running a sweep."
      ],
      "text/plain": [
       "<IPython.core.display.HTML object>"
      ]
     },
     "metadata": {},
     "output_type": "display_data"
    },
    {
     "data": {
      "text/html": [],
      "text/plain": [
       "<IPython.core.display.HTML object>"
      ]
     },
     "metadata": {},
     "output_type": "display_data"
    },
    {
     "data": {
      "text/html": [
       "Tracking run with wandb version 0.22.2"
      ],
      "text/plain": [
       "<IPython.core.display.HTML object>"
      ]
     },
     "metadata": {},
     "output_type": "display_data"
    },
    {
     "data": {
      "text/html": [
       "Run data is saved locally in <code>/Users/ewkoch/repos/mlp/notebooks/wandb/run-20251010_171217-tif0cs8o</code>"
      ],
      "text/plain": [
       "<IPython.core.display.HTML object>"
      ]
     },
     "metadata": {},
     "output_type": "display_data"
    },
    {
     "data": {
      "text/html": [
       "Syncing run <strong><a href='https://wandb.ai/ericwkoch/mlp-mnist-extended/runs/tif0cs8o' target=\"_blank\">fancy-sweep-15</a></strong> to <a href='https://wandb.ai/ericwkoch/mlp-mnist-extended' target=\"_blank\">Weights & Biases</a> (<a href='https://wandb.me/developer-guide' target=\"_blank\">docs</a>)<br>Sweep page: <a href='https://wandb.ai/ericwkoch/mlp-mnist-extended/sweeps/lyhvzu53' target=\"_blank\">https://wandb.ai/ericwkoch/mlp-mnist-extended/sweeps/lyhvzu53</a>"
      ],
      "text/plain": [
       "<IPython.core.display.HTML object>"
      ]
     },
     "metadata": {},
     "output_type": "display_data"
    },
    {
     "data": {
      "text/html": [
       " View project at <a href='https://wandb.ai/ericwkoch/mlp-mnist-extended' target=\"_blank\">https://wandb.ai/ericwkoch/mlp-mnist-extended</a>"
      ],
      "text/plain": [
       "<IPython.core.display.HTML object>"
      ]
     },
     "metadata": {},
     "output_type": "display_data"
    },
    {
     "data": {
      "text/html": [
       " View sweep at <a href='https://wandb.ai/ericwkoch/mlp-mnist-extended/sweeps/lyhvzu53' target=\"_blank\">https://wandb.ai/ericwkoch/mlp-mnist-extended/sweeps/lyhvzu53</a>"
      ],
      "text/plain": [
       "<IPython.core.display.HTML object>"
      ]
     },
     "metadata": {},
     "output_type": "display_data"
    },
    {
     "data": {
      "text/html": [
       " View run at <a href='https://wandb.ai/ericwkoch/mlp-mnist-extended/runs/tif0cs8o' target=\"_blank\">https://wandb.ai/ericwkoch/mlp-mnist-extended/runs/tif0cs8o</a>"
      ],
      "text/plain": [
       "<IPython.core.display.HTML object>"
      ]
     },
     "metadata": {},
     "output_type": "display_data"
    },
    {
     "name": "stdout",
     "output_type": "stream",
     "text": [
      "Test accuracy: 0.9870\n"
     ]
    },
    {
     "data": {
      "text/html": [],
      "text/plain": [
       "<IPython.core.display.HTML object>"
      ]
     },
     "metadata": {},
     "output_type": "display_data"
    },
    {
     "data": {
      "text/html": [
       "<br>    <style><br>        .wandb-row {<br>            display: flex;<br>            flex-direction: row;<br>            flex-wrap: wrap;<br>            justify-content: flex-start;<br>            width: 100%;<br>        }<br>        .wandb-col {<br>            display: flex;<br>            flex-direction: column;<br>            flex-basis: 100%;<br>            flex: 1;<br>            padding: 10px;<br>        }<br>    </style><br><div class=\"wandb-row\"><div class=\"wandb-col\"><h3>Run history:</h3><br/><table class=\"wandb\"><tr><td>epoch</td><td>▁▁▂▂▂▃▃▄▄▄▅▅▅▆▆▇▇▇██</td></tr><tr><td>lr</td><td>▅████▇▇▆▆▅▄▄▃▃▂▂▁▁▁▁</td></tr><tr><td>misclassified_count</td><td>▁</td></tr><tr><td>test/acc</td><td>▁</td></tr><tr><td>test/class_acc/0</td><td>▁</td></tr><tr><td>test/class_acc/1</td><td>▁</td></tr><tr><td>test/class_acc/2</td><td>▁</td></tr><tr><td>test/class_acc/3</td><td>▁</td></tr><tr><td>test/class_acc/4</td><td>▁</td></tr><tr><td>test/class_acc/5</td><td>▁</td></tr><tr><td>+11</td><td>...</td></tr></table><br/></div><div class=\"wandb-col\"><h3>Run summary:</h3><br/><table class=\"wandb\"><tr><td>best_valid_acc</td><td>0.98584</td></tr><tr><td>epoch</td><td>20</td></tr><tr><td>lr</td><td>0.0</td></tr><tr><td>misclassified_count</td><td>16</td></tr><tr><td>param_count</td><td>1466122</td></tr><tr><td>test/acc</td><td>0.98701</td></tr><tr><td>test/class_acc/0</td><td>0.99388</td></tr><tr><td>test/class_acc/1</td><td>0.99559</td></tr><tr><td>test/class_acc/2</td><td>0.98837</td></tr><tr><td>test/class_acc/3</td><td>0.98911</td></tr><tr><td>+15</td><td>...</td></tr></table><br/></div></div>"
      ],
      "text/plain": [
       "<IPython.core.display.HTML object>"
      ]
     },
     "metadata": {},
     "output_type": "display_data"
    },
    {
     "data": {
      "text/html": [
       " View run <strong style=\"color:#cdcd00\">fancy-sweep-15</strong> at: <a href='https://wandb.ai/ericwkoch/mlp-mnist-extended/runs/tif0cs8o' target=\"_blank\">https://wandb.ai/ericwkoch/mlp-mnist-extended/runs/tif0cs8o</a><br> View project at: <a href='https://wandb.ai/ericwkoch/mlp-mnist-extended' target=\"_blank\">https://wandb.ai/ericwkoch/mlp-mnist-extended</a><br>Synced 5 W&B file(s), 18 media file(s), 20 artifact file(s) and 0 other file(s)"
      ],
      "text/plain": [
       "<IPython.core.display.HTML object>"
      ]
     },
     "metadata": {},
     "output_type": "display_data"
    },
    {
     "data": {
      "text/html": [
       "Find logs at: <code>./wandb/run-20251010_171217-tif0cs8o/logs</code>"
      ],
      "text/plain": [
       "<IPython.core.display.HTML object>"
      ]
     },
     "metadata": {},
     "output_type": "display_data"
    },
    {
     "name": "stderr",
     "output_type": "stream",
     "text": [
      "\u001b[34m\u001b[1mwandb\u001b[0m: Agent Starting Run: z9vssp4z with config:\n",
      "\u001b[34m\u001b[1mwandb\u001b[0m: \tdropout: 0.25\n",
      "\u001b[34m\u001b[1mwandb\u001b[0m: \tmax_lr: 0.04\n",
      "\u001b[34m\u001b[1mwandb\u001b[0m: \tmixup_alpha: 0\n"
     ]
    },
    {
     "data": {
      "text/html": [
       "Ignoring project 'mlp-mnist-extended' when running a sweep."
      ],
      "text/plain": [
       "<IPython.core.display.HTML object>"
      ]
     },
     "metadata": {},
     "output_type": "display_data"
    },
    {
     "data": {
      "text/html": [],
      "text/plain": [
       "<IPython.core.display.HTML object>"
      ]
     },
     "metadata": {},
     "output_type": "display_data"
    },
    {
     "data": {
      "text/html": [
       "Tracking run with wandb version 0.22.2"
      ],
      "text/plain": [
       "<IPython.core.display.HTML object>"
      ]
     },
     "metadata": {},
     "output_type": "display_data"
    },
    {
     "data": {
      "text/html": [
       "Run data is saved locally in <code>/Users/ewkoch/repos/mlp/notebooks/wandb/run-20251010_171437-z9vssp4z</code>"
      ],
      "text/plain": [
       "<IPython.core.display.HTML object>"
      ]
     },
     "metadata": {},
     "output_type": "display_data"
    },
    {
     "data": {
      "text/html": [
       "Syncing run <strong><a href='https://wandb.ai/ericwkoch/mlp-mnist-extended/runs/z9vssp4z' target=\"_blank\">revived-sweep-16</a></strong> to <a href='https://wandb.ai/ericwkoch/mlp-mnist-extended' target=\"_blank\">Weights & Biases</a> (<a href='https://wandb.me/developer-guide' target=\"_blank\">docs</a>)<br>Sweep page: <a href='https://wandb.ai/ericwkoch/mlp-mnist-extended/sweeps/lyhvzu53' target=\"_blank\">https://wandb.ai/ericwkoch/mlp-mnist-extended/sweeps/lyhvzu53</a>"
      ],
      "text/plain": [
       "<IPython.core.display.HTML object>"
      ]
     },
     "metadata": {},
     "output_type": "display_data"
    },
    {
     "data": {
      "text/html": [
       " View project at <a href='https://wandb.ai/ericwkoch/mlp-mnist-extended' target=\"_blank\">https://wandb.ai/ericwkoch/mlp-mnist-extended</a>"
      ],
      "text/plain": [
       "<IPython.core.display.HTML object>"
      ]
     },
     "metadata": {},
     "output_type": "display_data"
    },
    {
     "data": {
      "text/html": [
       " View sweep at <a href='https://wandb.ai/ericwkoch/mlp-mnist-extended/sweeps/lyhvzu53' target=\"_blank\">https://wandb.ai/ericwkoch/mlp-mnist-extended/sweeps/lyhvzu53</a>"
      ],
      "text/plain": [
       "<IPython.core.display.HTML object>"
      ]
     },
     "metadata": {},
     "output_type": "display_data"
    },
    {
     "data": {
      "text/html": [
       " View run at <a href='https://wandb.ai/ericwkoch/mlp-mnist-extended/runs/z9vssp4z' target=\"_blank\">https://wandb.ai/ericwkoch/mlp-mnist-extended/runs/z9vssp4z</a>"
      ],
      "text/plain": [
       "<IPython.core.display.HTML object>"
      ]
     },
     "metadata": {},
     "output_type": "display_data"
    },
    {
     "name": "stdout",
     "output_type": "stream",
     "text": [
      "Test accuracy: 0.9883\n"
     ]
    },
    {
     "data": {
      "text/html": [],
      "text/plain": [
       "<IPython.core.display.HTML object>"
      ]
     },
     "metadata": {},
     "output_type": "display_data"
    },
    {
     "data": {
      "text/html": [
       "<br>    <style><br>        .wandb-row {<br>            display: flex;<br>            flex-direction: row;<br>            flex-wrap: wrap;<br>            justify-content: flex-start;<br>            width: 100%;<br>        }<br>        .wandb-col {<br>            display: flex;<br>            flex-direction: column;<br>            flex-basis: 100%;<br>            flex: 1;<br>            padding: 10px;<br>        }<br>    </style><br><div class=\"wandb-row\"><div class=\"wandb-col\"><h3>Run history:</h3><br/><table class=\"wandb\"><tr><td>epoch</td><td>▁▁▂▂▂▃▃▄▄▄▅▅▅▆▆▇▇▇██</td></tr><tr><td>lr</td><td>▅████▇▇▆▆▅▄▄▃▃▂▂▁▁▁▁</td></tr><tr><td>misclassified_count</td><td>▁</td></tr><tr><td>test/acc</td><td>▁</td></tr><tr><td>test/class_acc/0</td><td>▁</td></tr><tr><td>test/class_acc/1</td><td>▁</td></tr><tr><td>test/class_acc/2</td><td>▁</td></tr><tr><td>test/class_acc/3</td><td>▁</td></tr><tr><td>test/class_acc/4</td><td>▁</td></tr><tr><td>test/class_acc/5</td><td>▁</td></tr><tr><td>+11</td><td>...</td></tr></table><br/></div><div class=\"wandb-col\"><h3>Run summary:</h3><br/><table class=\"wandb\"><tr><td>best_valid_acc</td><td>0.98743</td></tr><tr><td>epoch</td><td>20</td></tr><tr><td>lr</td><td>0.0</td></tr><tr><td>misclassified_count</td><td>16</td></tr><tr><td>param_count</td><td>1466122</td></tr><tr><td>test/acc</td><td>0.98828</td></tr><tr><td>test/class_acc/0</td><td>0.99286</td></tr><tr><td>test/class_acc/1</td><td>0.99383</td></tr><tr><td>test/class_acc/2</td><td>0.98934</td></tr><tr><td>test/class_acc/3</td><td>0.98812</td></tr><tr><td>+15</td><td>...</td></tr></table><br/></div></div>"
      ],
      "text/plain": [
       "<IPython.core.display.HTML object>"
      ]
     },
     "metadata": {},
     "output_type": "display_data"
    },
    {
     "data": {
      "text/html": [
       " View run <strong style=\"color:#cdcd00\">revived-sweep-16</strong> at: <a href='https://wandb.ai/ericwkoch/mlp-mnist-extended/runs/z9vssp4z' target=\"_blank\">https://wandb.ai/ericwkoch/mlp-mnist-extended/runs/z9vssp4z</a><br> View project at: <a href='https://wandb.ai/ericwkoch/mlp-mnist-extended' target=\"_blank\">https://wandb.ai/ericwkoch/mlp-mnist-extended</a><br>Synced 5 W&B file(s), 18 media file(s), 20 artifact file(s) and 0 other file(s)"
      ],
      "text/plain": [
       "<IPython.core.display.HTML object>"
      ]
     },
     "metadata": {},
     "output_type": "display_data"
    },
    {
     "data": {
      "text/html": [
       "Find logs at: <code>./wandb/run-20251010_171437-z9vssp4z/logs</code>"
      ],
      "text/plain": [
       "<IPython.core.display.HTML object>"
      ]
     },
     "metadata": {},
     "output_type": "display_data"
    },
    {
     "name": "stderr",
     "output_type": "stream",
     "text": [
      "\u001b[34m\u001b[1mwandb\u001b[0m: Agent Starting Run: f4ul0rii with config:\n",
      "\u001b[34m\u001b[1mwandb\u001b[0m: \tdropout: 0.25\n",
      "\u001b[34m\u001b[1mwandb\u001b[0m: \tmax_lr: 0.04\n",
      "\u001b[34m\u001b[1mwandb\u001b[0m: \tmixup_alpha: 0.1\n"
     ]
    },
    {
     "data": {
      "text/html": [
       "Ignoring project 'mlp-mnist-extended' when running a sweep."
      ],
      "text/plain": [
       "<IPython.core.display.HTML object>"
      ]
     },
     "metadata": {},
     "output_type": "display_data"
    },
    {
     "data": {
      "text/html": [],
      "text/plain": [
       "<IPython.core.display.HTML object>"
      ]
     },
     "metadata": {},
     "output_type": "display_data"
    },
    {
     "data": {
      "text/html": [
       "Tracking run with wandb version 0.22.2"
      ],
      "text/plain": [
       "<IPython.core.display.HTML object>"
      ]
     },
     "metadata": {},
     "output_type": "display_data"
    },
    {
     "data": {
      "text/html": [
       "Run data is saved locally in <code>/Users/ewkoch/repos/mlp/notebooks/wandb/run-20251010_171645-f4ul0rii</code>"
      ],
      "text/plain": [
       "<IPython.core.display.HTML object>"
      ]
     },
     "metadata": {},
     "output_type": "display_data"
    },
    {
     "data": {
      "text/html": [
       "Syncing run <strong><a href='https://wandb.ai/ericwkoch/mlp-mnist-extended/runs/f4ul0rii' target=\"_blank\">worthy-sweep-17</a></strong> to <a href='https://wandb.ai/ericwkoch/mlp-mnist-extended' target=\"_blank\">Weights & Biases</a> (<a href='https://wandb.me/developer-guide' target=\"_blank\">docs</a>)<br>Sweep page: <a href='https://wandb.ai/ericwkoch/mlp-mnist-extended/sweeps/lyhvzu53' target=\"_blank\">https://wandb.ai/ericwkoch/mlp-mnist-extended/sweeps/lyhvzu53</a>"
      ],
      "text/plain": [
       "<IPython.core.display.HTML object>"
      ]
     },
     "metadata": {},
     "output_type": "display_data"
    },
    {
     "data": {
      "text/html": [
       " View project at <a href='https://wandb.ai/ericwkoch/mlp-mnist-extended' target=\"_blank\">https://wandb.ai/ericwkoch/mlp-mnist-extended</a>"
      ],
      "text/plain": [
       "<IPython.core.display.HTML object>"
      ]
     },
     "metadata": {},
     "output_type": "display_data"
    },
    {
     "data": {
      "text/html": [
       " View sweep at <a href='https://wandb.ai/ericwkoch/mlp-mnist-extended/sweeps/lyhvzu53' target=\"_blank\">https://wandb.ai/ericwkoch/mlp-mnist-extended/sweeps/lyhvzu53</a>"
      ],
      "text/plain": [
       "<IPython.core.display.HTML object>"
      ]
     },
     "metadata": {},
     "output_type": "display_data"
    },
    {
     "data": {
      "text/html": [
       " View run at <a href='https://wandb.ai/ericwkoch/mlp-mnist-extended/runs/f4ul0rii' target=\"_blank\">https://wandb.ai/ericwkoch/mlp-mnist-extended/runs/f4ul0rii</a>"
      ],
      "text/plain": [
       "<IPython.core.display.HTML object>"
      ]
     },
     "metadata": {},
     "output_type": "display_data"
    },
    {
     "name": "stdout",
     "output_type": "stream",
     "text": [
      "Test accuracy: 0.9873\n"
     ]
    },
    {
     "data": {
      "text/html": [],
      "text/plain": [
       "<IPython.core.display.HTML object>"
      ]
     },
     "metadata": {},
     "output_type": "display_data"
    },
    {
     "data": {
      "text/html": [
       "<br>    <style><br>        .wandb-row {<br>            display: flex;<br>            flex-direction: row;<br>            flex-wrap: wrap;<br>            justify-content: flex-start;<br>            width: 100%;<br>        }<br>        .wandb-col {<br>            display: flex;<br>            flex-direction: column;<br>            flex-basis: 100%;<br>            flex: 1;<br>            padding: 10px;<br>        }<br>    </style><br><div class=\"wandb-row\"><div class=\"wandb-col\"><h3>Run history:</h3><br/><table class=\"wandb\"><tr><td>epoch</td><td>▁▁▂▂▂▃▃▄▄▄▅▅▅▆▆▇▇▇██</td></tr><tr><td>lr</td><td>▅████▇▇▆▆▅▄▄▃▃▂▂▁▁▁▁</td></tr><tr><td>misclassified_count</td><td>▁</td></tr><tr><td>test/acc</td><td>▁</td></tr><tr><td>test/class_acc/0</td><td>▁</td></tr><tr><td>test/class_acc/1</td><td>▁</td></tr><tr><td>test/class_acc/2</td><td>▁</td></tr><tr><td>test/class_acc/3</td><td>▁</td></tr><tr><td>test/class_acc/4</td><td>▁</td></tr><tr><td>test/class_acc/5</td><td>▁</td></tr><tr><td>+11</td><td>...</td></tr></table><br/></div><div class=\"wandb-col\"><h3>Run summary:</h3><br/><table class=\"wandb\"><tr><td>best_valid_acc</td><td>0.98694</td></tr><tr><td>epoch</td><td>20</td></tr><tr><td>lr</td><td>0.0</td></tr><tr><td>misclassified_count</td><td>16</td></tr><tr><td>param_count</td><td>1466122</td></tr><tr><td>test/acc</td><td>0.9873</td></tr><tr><td>test/class_acc/0</td><td>0.9949</td></tr><tr><td>test/class_acc/1</td><td>0.99207</td></tr><tr><td>test/class_acc/2</td><td>0.98934</td></tr><tr><td>test/class_acc/3</td><td>0.98713</td></tr><tr><td>+15</td><td>...</td></tr></table><br/></div></div>"
      ],
      "text/plain": [
       "<IPython.core.display.HTML object>"
      ]
     },
     "metadata": {},
     "output_type": "display_data"
    },
    {
     "data": {
      "text/html": [
       " View run <strong style=\"color:#cdcd00\">worthy-sweep-17</strong> at: <a href='https://wandb.ai/ericwkoch/mlp-mnist-extended/runs/f4ul0rii' target=\"_blank\">https://wandb.ai/ericwkoch/mlp-mnist-extended/runs/f4ul0rii</a><br> View project at: <a href='https://wandb.ai/ericwkoch/mlp-mnist-extended' target=\"_blank\">https://wandb.ai/ericwkoch/mlp-mnist-extended</a><br>Synced 5 W&B file(s), 18 media file(s), 20 artifact file(s) and 0 other file(s)"
      ],
      "text/plain": [
       "<IPython.core.display.HTML object>"
      ]
     },
     "metadata": {},
     "output_type": "display_data"
    },
    {
     "data": {
      "text/html": [
       "Find logs at: <code>./wandb/run-20251010_171645-f4ul0rii/logs</code>"
      ],
      "text/plain": [
       "<IPython.core.display.HTML object>"
      ]
     },
     "metadata": {},
     "output_type": "display_data"
    },
    {
     "name": "stderr",
     "output_type": "stream",
     "text": [
      "\u001b[34m\u001b[1mwandb\u001b[0m: Agent Starting Run: 7rsa8hy8 with config:\n",
      "\u001b[34m\u001b[1mwandb\u001b[0m: \tdropout: 0.25\n",
      "\u001b[34m\u001b[1mwandb\u001b[0m: \tmax_lr: 0.04\n",
      "\u001b[34m\u001b[1mwandb\u001b[0m: \tmixup_alpha: 0.2\n"
     ]
    },
    {
     "data": {
      "text/html": [
       "Ignoring project 'mlp-mnist-extended' when running a sweep."
      ],
      "text/plain": [
       "<IPython.core.display.HTML object>"
      ]
     },
     "metadata": {},
     "output_type": "display_data"
    },
    {
     "data": {
      "text/html": [],
      "text/plain": [
       "<IPython.core.display.HTML object>"
      ]
     },
     "metadata": {},
     "output_type": "display_data"
    },
    {
     "data": {
      "text/html": [
       "Tracking run with wandb version 0.22.2"
      ],
      "text/plain": [
       "<IPython.core.display.HTML object>"
      ]
     },
     "metadata": {},
     "output_type": "display_data"
    },
    {
     "data": {
      "text/html": [
       "Run data is saved locally in <code>/Users/ewkoch/repos/mlp/notebooks/wandb/run-20251010_171905-7rsa8hy8</code>"
      ],
      "text/plain": [
       "<IPython.core.display.HTML object>"
      ]
     },
     "metadata": {},
     "output_type": "display_data"
    },
    {
     "data": {
      "text/html": [
       "Syncing run <strong><a href='https://wandb.ai/ericwkoch/mlp-mnist-extended/runs/7rsa8hy8' target=\"_blank\">dazzling-sweep-18</a></strong> to <a href='https://wandb.ai/ericwkoch/mlp-mnist-extended' target=\"_blank\">Weights & Biases</a> (<a href='https://wandb.me/developer-guide' target=\"_blank\">docs</a>)<br>Sweep page: <a href='https://wandb.ai/ericwkoch/mlp-mnist-extended/sweeps/lyhvzu53' target=\"_blank\">https://wandb.ai/ericwkoch/mlp-mnist-extended/sweeps/lyhvzu53</a>"
      ],
      "text/plain": [
       "<IPython.core.display.HTML object>"
      ]
     },
     "metadata": {},
     "output_type": "display_data"
    },
    {
     "data": {
      "text/html": [
       " View project at <a href='https://wandb.ai/ericwkoch/mlp-mnist-extended' target=\"_blank\">https://wandb.ai/ericwkoch/mlp-mnist-extended</a>"
      ],
      "text/plain": [
       "<IPython.core.display.HTML object>"
      ]
     },
     "metadata": {},
     "output_type": "display_data"
    },
    {
     "data": {
      "text/html": [
       " View sweep at <a href='https://wandb.ai/ericwkoch/mlp-mnist-extended/sweeps/lyhvzu53' target=\"_blank\">https://wandb.ai/ericwkoch/mlp-mnist-extended/sweeps/lyhvzu53</a>"
      ],
      "text/plain": [
       "<IPython.core.display.HTML object>"
      ]
     },
     "metadata": {},
     "output_type": "display_data"
    },
    {
     "data": {
      "text/html": [
       " View run at <a href='https://wandb.ai/ericwkoch/mlp-mnist-extended/runs/7rsa8hy8' target=\"_blank\">https://wandb.ai/ericwkoch/mlp-mnist-extended/runs/7rsa8hy8</a>"
      ],
      "text/plain": [
       "<IPython.core.display.HTML object>"
      ]
     },
     "metadata": {},
     "output_type": "display_data"
    },
    {
     "name": "stdout",
     "output_type": "stream",
     "text": [
      "Test accuracy: 0.9873\n"
     ]
    },
    {
     "data": {
      "text/html": [],
      "text/plain": [
       "<IPython.core.display.HTML object>"
      ]
     },
     "metadata": {},
     "output_type": "display_data"
    },
    {
     "data": {
      "text/html": [
       "<br>    <style><br>        .wandb-row {<br>            display: flex;<br>            flex-direction: row;<br>            flex-wrap: wrap;<br>            justify-content: flex-start;<br>            width: 100%;<br>        }<br>        .wandb-col {<br>            display: flex;<br>            flex-direction: column;<br>            flex-basis: 100%;<br>            flex: 1;<br>            padding: 10px;<br>        }<br>    </style><br><div class=\"wandb-row\"><div class=\"wandb-col\"><h3>Run history:</h3><br/><table class=\"wandb\"><tr><td>epoch</td><td>▁▁▂▂▂▃▃▄▄▄▅▅▅▆▆▇▇▇██</td></tr><tr><td>lr</td><td>▅████▇▇▆▆▅▄▄▃▃▂▂▁▁▁▁</td></tr><tr><td>misclassified_count</td><td>▁</td></tr><tr><td>test/acc</td><td>▁</td></tr><tr><td>test/class_acc/0</td><td>▁</td></tr><tr><td>test/class_acc/1</td><td>▁</td></tr><tr><td>test/class_acc/2</td><td>▁</td></tr><tr><td>test/class_acc/3</td><td>▁</td></tr><tr><td>test/class_acc/4</td><td>▁</td></tr><tr><td>test/class_acc/5</td><td>▁</td></tr><tr><td>+11</td><td>...</td></tr></table><br/></div><div class=\"wandb-col\"><h3>Run summary:</h3><br/><table class=\"wandb\"><tr><td>best_valid_acc</td><td>0.98657</td></tr><tr><td>epoch</td><td>20</td></tr><tr><td>lr</td><td>0.0</td></tr><tr><td>misclassified_count</td><td>16</td></tr><tr><td>param_count</td><td>1466122</td></tr><tr><td>test/acc</td><td>0.9873</td></tr><tr><td>test/class_acc/0</td><td>0.99286</td></tr><tr><td>test/class_acc/1</td><td>0.99383</td></tr><tr><td>test/class_acc/2</td><td>0.98837</td></tr><tr><td>test/class_acc/3</td><td>0.99109</td></tr><tr><td>+15</td><td>...</td></tr></table><br/></div></div>"
      ],
      "text/plain": [
       "<IPython.core.display.HTML object>"
      ]
     },
     "metadata": {},
     "output_type": "display_data"
    },
    {
     "data": {
      "text/html": [
       " View run <strong style=\"color:#cdcd00\">dazzling-sweep-18</strong> at: <a href='https://wandb.ai/ericwkoch/mlp-mnist-extended/runs/7rsa8hy8' target=\"_blank\">https://wandb.ai/ericwkoch/mlp-mnist-extended/runs/7rsa8hy8</a><br> View project at: <a href='https://wandb.ai/ericwkoch/mlp-mnist-extended' target=\"_blank\">https://wandb.ai/ericwkoch/mlp-mnist-extended</a><br>Synced 5 W&B file(s), 18 media file(s), 20 artifact file(s) and 0 other file(s)"
      ],
      "text/plain": [
       "<IPython.core.display.HTML object>"
      ]
     },
     "metadata": {},
     "output_type": "display_data"
    },
    {
     "data": {
      "text/html": [
       "Find logs at: <code>./wandb/run-20251010_171905-7rsa8hy8/logs</code>"
      ],
      "text/plain": [
       "<IPython.core.display.HTML object>"
      ]
     },
     "metadata": {},
     "output_type": "display_data"
    },
    {
     "name": "stderr",
     "output_type": "stream",
     "text": [
      "\u001b[34m\u001b[1mwandb\u001b[0m: Sweep Agent: Waiting for job.\n",
      "\u001b[34m\u001b[1mwandb\u001b[0m: Job received.\n",
      "\u001b[34m\u001b[1mwandb\u001b[0m: Agent Starting Run: elq828jl with config:\n",
      "\u001b[34m\u001b[1mwandb\u001b[0m: \tdropout: 0.3\n",
      "\u001b[34m\u001b[1mwandb\u001b[0m: \tmax_lr: 0.02\n",
      "\u001b[34m\u001b[1mwandb\u001b[0m: \tmixup_alpha: 0\n"
     ]
    },
    {
     "data": {
      "text/html": [
       "Ignoring project 'mlp-mnist-extended' when running a sweep."
      ],
      "text/plain": [
       "<IPython.core.display.HTML object>"
      ]
     },
     "metadata": {},
     "output_type": "display_data"
    },
    {
     "data": {
      "text/html": [],
      "text/plain": [
       "<IPython.core.display.HTML object>"
      ]
     },
     "metadata": {},
     "output_type": "display_data"
    },
    {
     "data": {
      "text/html": [
       "Tracking run with wandb version 0.22.2"
      ],
      "text/plain": [
       "<IPython.core.display.HTML object>"
      ]
     },
     "metadata": {},
     "output_type": "display_data"
    },
    {
     "data": {
      "text/html": [
       "Run data is saved locally in <code>/Users/ewkoch/repos/mlp/notebooks/wandb/run-20251010_172131-elq828jl</code>"
      ],
      "text/plain": [
       "<IPython.core.display.HTML object>"
      ]
     },
     "metadata": {},
     "output_type": "display_data"
    },
    {
     "data": {
      "text/html": [
       "Syncing run <strong><a href='https://wandb.ai/ericwkoch/mlp-mnist-extended/runs/elq828jl' target=\"_blank\">cool-sweep-19</a></strong> to <a href='https://wandb.ai/ericwkoch/mlp-mnist-extended' target=\"_blank\">Weights & Biases</a> (<a href='https://wandb.me/developer-guide' target=\"_blank\">docs</a>)<br>Sweep page: <a href='https://wandb.ai/ericwkoch/mlp-mnist-extended/sweeps/lyhvzu53' target=\"_blank\">https://wandb.ai/ericwkoch/mlp-mnist-extended/sweeps/lyhvzu53</a>"
      ],
      "text/plain": [
       "<IPython.core.display.HTML object>"
      ]
     },
     "metadata": {},
     "output_type": "display_data"
    },
    {
     "data": {
      "text/html": [
       " View project at <a href='https://wandb.ai/ericwkoch/mlp-mnist-extended' target=\"_blank\">https://wandb.ai/ericwkoch/mlp-mnist-extended</a>"
      ],
      "text/plain": [
       "<IPython.core.display.HTML object>"
      ]
     },
     "metadata": {},
     "output_type": "display_data"
    },
    {
     "data": {
      "text/html": [
       " View sweep at <a href='https://wandb.ai/ericwkoch/mlp-mnist-extended/sweeps/lyhvzu53' target=\"_blank\">https://wandb.ai/ericwkoch/mlp-mnist-extended/sweeps/lyhvzu53</a>"
      ],
      "text/plain": [
       "<IPython.core.display.HTML object>"
      ]
     },
     "metadata": {},
     "output_type": "display_data"
    },
    {
     "data": {
      "text/html": [
       " View run at <a href='https://wandb.ai/ericwkoch/mlp-mnist-extended/runs/elq828jl' target=\"_blank\">https://wandb.ai/ericwkoch/mlp-mnist-extended/runs/elq828jl</a>"
      ],
      "text/plain": [
       "<IPython.core.display.HTML object>"
      ]
     },
     "metadata": {},
     "output_type": "display_data"
    },
    {
     "name": "stdout",
     "output_type": "stream",
     "text": [
      "Test accuracy: 0.9879\n"
     ]
    },
    {
     "data": {
      "text/html": [],
      "text/plain": [
       "<IPython.core.display.HTML object>"
      ]
     },
     "metadata": {},
     "output_type": "display_data"
    },
    {
     "data": {
      "text/html": [
       "<br>    <style><br>        .wandb-row {<br>            display: flex;<br>            flex-direction: row;<br>            flex-wrap: wrap;<br>            justify-content: flex-start;<br>            width: 100%;<br>        }<br>        .wandb-col {<br>            display: flex;<br>            flex-direction: column;<br>            flex-basis: 100%;<br>            flex: 1;<br>            padding: 10px;<br>        }<br>    </style><br><div class=\"wandb-row\"><div class=\"wandb-col\"><h3>Run history:</h3><br/><table class=\"wandb\"><tr><td>epoch</td><td>▁▁▂▂▂▃▃▄▄▄▅▅▅▆▆▇▇▇██</td></tr><tr><td>lr</td><td>▅████▇▇▆▆▅▄▄▃▃▂▂▁▁▁▁</td></tr><tr><td>misclassified_count</td><td>▁</td></tr><tr><td>test/acc</td><td>▁</td></tr><tr><td>test/class_acc/0</td><td>▁</td></tr><tr><td>test/class_acc/1</td><td>▁</td></tr><tr><td>test/class_acc/2</td><td>▁</td></tr><tr><td>test/class_acc/3</td><td>▁</td></tr><tr><td>test/class_acc/4</td><td>▁</td></tr><tr><td>test/class_acc/5</td><td>▁</td></tr><tr><td>+11</td><td>...</td></tr></table><br/></div><div class=\"wandb-col\"><h3>Run summary:</h3><br/><table class=\"wandb\"><tr><td>best_valid_acc</td><td>0.98889</td></tr><tr><td>epoch</td><td>20</td></tr><tr><td>lr</td><td>0.0</td></tr><tr><td>misclassified_count</td><td>16</td></tr><tr><td>param_count</td><td>1466122</td></tr><tr><td>test/acc</td><td>0.98789</td></tr><tr><td>test/class_acc/0</td><td>0.99286</td></tr><tr><td>test/class_acc/1</td><td>0.99207</td></tr><tr><td>test/class_acc/2</td><td>0.9874</td></tr><tr><td>test/class_acc/3</td><td>0.9901</td></tr><tr><td>+15</td><td>...</td></tr></table><br/></div></div>"
      ],
      "text/plain": [
       "<IPython.core.display.HTML object>"
      ]
     },
     "metadata": {},
     "output_type": "display_data"
    },
    {
     "data": {
      "text/html": [
       " View run <strong style=\"color:#cdcd00\">cool-sweep-19</strong> at: <a href='https://wandb.ai/ericwkoch/mlp-mnist-extended/runs/elq828jl' target=\"_blank\">https://wandb.ai/ericwkoch/mlp-mnist-extended/runs/elq828jl</a><br> View project at: <a href='https://wandb.ai/ericwkoch/mlp-mnist-extended' target=\"_blank\">https://wandb.ai/ericwkoch/mlp-mnist-extended</a><br>Synced 5 W&B file(s), 18 media file(s), 20 artifact file(s) and 0 other file(s)"
      ],
      "text/plain": [
       "<IPython.core.display.HTML object>"
      ]
     },
     "metadata": {},
     "output_type": "display_data"
    },
    {
     "data": {
      "text/html": [
       "Find logs at: <code>./wandb/run-20251010_172131-elq828jl/logs</code>"
      ],
      "text/plain": [
       "<IPython.core.display.HTML object>"
      ]
     },
     "metadata": {},
     "output_type": "display_data"
    },
    {
     "name": "stderr",
     "output_type": "stream",
     "text": [
      "\u001b[34m\u001b[1mwandb\u001b[0m: Agent Starting Run: g1png7fk with config:\n",
      "\u001b[34m\u001b[1mwandb\u001b[0m: \tdropout: 0.3\n",
      "\u001b[34m\u001b[1mwandb\u001b[0m: \tmax_lr: 0.02\n",
      "\u001b[34m\u001b[1mwandb\u001b[0m: \tmixup_alpha: 0.1\n"
     ]
    },
    {
     "data": {
      "text/html": [
       "Ignoring project 'mlp-mnist-extended' when running a sweep."
      ],
      "text/plain": [
       "<IPython.core.display.HTML object>"
      ]
     },
     "metadata": {},
     "output_type": "display_data"
    },
    {
     "data": {
      "text/html": [],
      "text/plain": [
       "<IPython.core.display.HTML object>"
      ]
     },
     "metadata": {},
     "output_type": "display_data"
    },
    {
     "data": {
      "text/html": [
       "Tracking run with wandb version 0.22.2"
      ],
      "text/plain": [
       "<IPython.core.display.HTML object>"
      ]
     },
     "metadata": {},
     "output_type": "display_data"
    },
    {
     "data": {
      "text/html": [
       "Run data is saved locally in <code>/Users/ewkoch/repos/mlp/notebooks/wandb/run-20251010_172319-g1png7fk</code>"
      ],
      "text/plain": [
       "<IPython.core.display.HTML object>"
      ]
     },
     "metadata": {},
     "output_type": "display_data"
    },
    {
     "data": {
      "text/html": [
       "Syncing run <strong><a href='https://wandb.ai/ericwkoch/mlp-mnist-extended/runs/g1png7fk' target=\"_blank\">zesty-sweep-20</a></strong> to <a href='https://wandb.ai/ericwkoch/mlp-mnist-extended' target=\"_blank\">Weights & Biases</a> (<a href='https://wandb.me/developer-guide' target=\"_blank\">docs</a>)<br>Sweep page: <a href='https://wandb.ai/ericwkoch/mlp-mnist-extended/sweeps/lyhvzu53' target=\"_blank\">https://wandb.ai/ericwkoch/mlp-mnist-extended/sweeps/lyhvzu53</a>"
      ],
      "text/plain": [
       "<IPython.core.display.HTML object>"
      ]
     },
     "metadata": {},
     "output_type": "display_data"
    },
    {
     "data": {
      "text/html": [
       " View project at <a href='https://wandb.ai/ericwkoch/mlp-mnist-extended' target=\"_blank\">https://wandb.ai/ericwkoch/mlp-mnist-extended</a>"
      ],
      "text/plain": [
       "<IPython.core.display.HTML object>"
      ]
     },
     "metadata": {},
     "output_type": "display_data"
    },
    {
     "data": {
      "text/html": [
       " View sweep at <a href='https://wandb.ai/ericwkoch/mlp-mnist-extended/sweeps/lyhvzu53' target=\"_blank\">https://wandb.ai/ericwkoch/mlp-mnist-extended/sweeps/lyhvzu53</a>"
      ],
      "text/plain": [
       "<IPython.core.display.HTML object>"
      ]
     },
     "metadata": {},
     "output_type": "display_data"
    },
    {
     "data": {
      "text/html": [
       " View run at <a href='https://wandb.ai/ericwkoch/mlp-mnist-extended/runs/g1png7fk' target=\"_blank\">https://wandb.ai/ericwkoch/mlp-mnist-extended/runs/g1png7fk</a>"
      ],
      "text/plain": [
       "<IPython.core.display.HTML object>"
      ]
     },
     "metadata": {},
     "output_type": "display_data"
    },
    {
     "name": "stdout",
     "output_type": "stream",
     "text": [
      "Test accuracy: 0.9876\n"
     ]
    },
    {
     "data": {
      "text/html": [],
      "text/plain": [
       "<IPython.core.display.HTML object>"
      ]
     },
     "metadata": {},
     "output_type": "display_data"
    },
    {
     "data": {
      "text/html": [
       "<br>    <style><br>        .wandb-row {<br>            display: flex;<br>            flex-direction: row;<br>            flex-wrap: wrap;<br>            justify-content: flex-start;<br>            width: 100%;<br>        }<br>        .wandb-col {<br>            display: flex;<br>            flex-direction: column;<br>            flex-basis: 100%;<br>            flex: 1;<br>            padding: 10px;<br>        }<br>    </style><br><div class=\"wandb-row\"><div class=\"wandb-col\"><h3>Run history:</h3><br/><table class=\"wandb\"><tr><td>epoch</td><td>▁▁▂▂▂▃▃▄▄▄▅▅▅▆▆▇▇▇██</td></tr><tr><td>lr</td><td>▅████▇▇▆▆▅▄▄▃▃▂▂▁▁▁▁</td></tr><tr><td>misclassified_count</td><td>▁</td></tr><tr><td>test/acc</td><td>▁</td></tr><tr><td>test/class_acc/0</td><td>▁</td></tr><tr><td>test/class_acc/1</td><td>▁</td></tr><tr><td>test/class_acc/2</td><td>▁</td></tr><tr><td>test/class_acc/3</td><td>▁</td></tr><tr><td>test/class_acc/4</td><td>▁</td></tr><tr><td>test/class_acc/5</td><td>▁</td></tr><tr><td>+11</td><td>...</td></tr></table><br/></div><div class=\"wandb-col\"><h3>Run summary:</h3><br/><table class=\"wandb\"><tr><td>best_valid_acc</td><td>0.98682</td></tr><tr><td>epoch</td><td>20</td></tr><tr><td>lr</td><td>0.0</td></tr><tr><td>misclassified_count</td><td>16</td></tr><tr><td>param_count</td><td>1466122</td></tr><tr><td>test/acc</td><td>0.9876</td></tr><tr><td>test/class_acc/0</td><td>0.99592</td></tr><tr><td>test/class_acc/1</td><td>0.99383</td></tr><tr><td>test/class_acc/2</td><td>0.9874</td></tr><tr><td>test/class_acc/3</td><td>0.98812</td></tr><tr><td>+15</td><td>...</td></tr></table><br/></div></div>"
      ],
      "text/plain": [
       "<IPython.core.display.HTML object>"
      ]
     },
     "metadata": {},
     "output_type": "display_data"
    },
    {
     "data": {
      "text/html": [
       " View run <strong style=\"color:#cdcd00\">zesty-sweep-20</strong> at: <a href='https://wandb.ai/ericwkoch/mlp-mnist-extended/runs/g1png7fk' target=\"_blank\">https://wandb.ai/ericwkoch/mlp-mnist-extended/runs/g1png7fk</a><br> View project at: <a href='https://wandb.ai/ericwkoch/mlp-mnist-extended' target=\"_blank\">https://wandb.ai/ericwkoch/mlp-mnist-extended</a><br>Synced 5 W&B file(s), 18 media file(s), 20 artifact file(s) and 0 other file(s)"
      ],
      "text/plain": [
       "<IPython.core.display.HTML object>"
      ]
     },
     "metadata": {},
     "output_type": "display_data"
    },
    {
     "data": {
      "text/html": [
       "Find logs at: <code>./wandb/run-20251010_172319-g1png7fk/logs</code>"
      ],
      "text/plain": [
       "<IPython.core.display.HTML object>"
      ]
     },
     "metadata": {},
     "output_type": "display_data"
    },
    {
     "name": "stderr",
     "output_type": "stream",
     "text": [
      "\u001b[34m\u001b[1mwandb\u001b[0m: Agent Starting Run: ihta500j with config:\n",
      "\u001b[34m\u001b[1mwandb\u001b[0m: \tdropout: 0.3\n",
      "\u001b[34m\u001b[1mwandb\u001b[0m: \tmax_lr: 0.02\n",
      "\u001b[34m\u001b[1mwandb\u001b[0m: \tmixup_alpha: 0.2\n"
     ]
    },
    {
     "data": {
      "text/html": [
       "Ignoring project 'mlp-mnist-extended' when running a sweep."
      ],
      "text/plain": [
       "<IPython.core.display.HTML object>"
      ]
     },
     "metadata": {},
     "output_type": "display_data"
    },
    {
     "data": {
      "text/html": [],
      "text/plain": [
       "<IPython.core.display.HTML object>"
      ]
     },
     "metadata": {},
     "output_type": "display_data"
    },
    {
     "data": {
      "text/html": [
       "Tracking run with wandb version 0.22.2"
      ],
      "text/plain": [
       "<IPython.core.display.HTML object>"
      ]
     },
     "metadata": {},
     "output_type": "display_data"
    },
    {
     "data": {
      "text/html": [
       "Run data is saved locally in <code>/Users/ewkoch/repos/mlp/notebooks/wandb/run-20251010_172513-ihta500j</code>"
      ],
      "text/plain": [
       "<IPython.core.display.HTML object>"
      ]
     },
     "metadata": {},
     "output_type": "display_data"
    },
    {
     "data": {
      "text/html": [
       "Syncing run <strong><a href='https://wandb.ai/ericwkoch/mlp-mnist-extended/runs/ihta500j' target=\"_blank\">warm-sweep-21</a></strong> to <a href='https://wandb.ai/ericwkoch/mlp-mnist-extended' target=\"_blank\">Weights & Biases</a> (<a href='https://wandb.me/developer-guide' target=\"_blank\">docs</a>)<br>Sweep page: <a href='https://wandb.ai/ericwkoch/mlp-mnist-extended/sweeps/lyhvzu53' target=\"_blank\">https://wandb.ai/ericwkoch/mlp-mnist-extended/sweeps/lyhvzu53</a>"
      ],
      "text/plain": [
       "<IPython.core.display.HTML object>"
      ]
     },
     "metadata": {},
     "output_type": "display_data"
    },
    {
     "data": {
      "text/html": [
       " View project at <a href='https://wandb.ai/ericwkoch/mlp-mnist-extended' target=\"_blank\">https://wandb.ai/ericwkoch/mlp-mnist-extended</a>"
      ],
      "text/plain": [
       "<IPython.core.display.HTML object>"
      ]
     },
     "metadata": {},
     "output_type": "display_data"
    },
    {
     "data": {
      "text/html": [
       " View sweep at <a href='https://wandb.ai/ericwkoch/mlp-mnist-extended/sweeps/lyhvzu53' target=\"_blank\">https://wandb.ai/ericwkoch/mlp-mnist-extended/sweeps/lyhvzu53</a>"
      ],
      "text/plain": [
       "<IPython.core.display.HTML object>"
      ]
     },
     "metadata": {},
     "output_type": "display_data"
    },
    {
     "data": {
      "text/html": [
       " View run at <a href='https://wandb.ai/ericwkoch/mlp-mnist-extended/runs/ihta500j' target=\"_blank\">https://wandb.ai/ericwkoch/mlp-mnist-extended/runs/ihta500j</a>"
      ],
      "text/plain": [
       "<IPython.core.display.HTML object>"
      ]
     },
     "metadata": {},
     "output_type": "display_data"
    },
    {
     "name": "stdout",
     "output_type": "stream",
     "text": [
      "Test accuracy: 0.9871\n"
     ]
    },
    {
     "data": {
      "text/html": [],
      "text/plain": [
       "<IPython.core.display.HTML object>"
      ]
     },
     "metadata": {},
     "output_type": "display_data"
    },
    {
     "data": {
      "text/html": [
       "<br>    <style><br>        .wandb-row {<br>            display: flex;<br>            flex-direction: row;<br>            flex-wrap: wrap;<br>            justify-content: flex-start;<br>            width: 100%;<br>        }<br>        .wandb-col {<br>            display: flex;<br>            flex-direction: column;<br>            flex-basis: 100%;<br>            flex: 1;<br>            padding: 10px;<br>        }<br>    </style><br><div class=\"wandb-row\"><div class=\"wandb-col\"><h3>Run history:</h3><br/><table class=\"wandb\"><tr><td>epoch</td><td>▁▁▂▂▂▃▃▄▄▄▅▅▅▆▆▇▇▇██</td></tr><tr><td>lr</td><td>▅████▇▇▆▆▅▄▄▃▃▂▂▁▁▁▁</td></tr><tr><td>misclassified_count</td><td>▁</td></tr><tr><td>test/acc</td><td>▁</td></tr><tr><td>test/class_acc/0</td><td>▁</td></tr><tr><td>test/class_acc/1</td><td>▁</td></tr><tr><td>test/class_acc/2</td><td>▁</td></tr><tr><td>test/class_acc/3</td><td>▁</td></tr><tr><td>test/class_acc/4</td><td>▁</td></tr><tr><td>test/class_acc/5</td><td>▁</td></tr><tr><td>+11</td><td>...</td></tr></table><br/></div><div class=\"wandb-col\"><h3>Run summary:</h3><br/><table class=\"wandb\"><tr><td>best_valid_acc</td><td>0.9856</td></tr><tr><td>epoch</td><td>20</td></tr><tr><td>lr</td><td>0.0</td></tr><tr><td>misclassified_count</td><td>16</td></tr><tr><td>param_count</td><td>1466122</td></tr><tr><td>test/acc</td><td>0.98711</td></tr><tr><td>test/class_acc/0</td><td>0.99388</td></tr><tr><td>test/class_acc/1</td><td>0.99471</td></tr><tr><td>test/class_acc/2</td><td>0.99128</td></tr><tr><td>test/class_acc/3</td><td>0.9901</td></tr><tr><td>+15</td><td>...</td></tr></table><br/></div></div>"
      ],
      "text/plain": [
       "<IPython.core.display.HTML object>"
      ]
     },
     "metadata": {},
     "output_type": "display_data"
    },
    {
     "data": {
      "text/html": [
       " View run <strong style=\"color:#cdcd00\">warm-sweep-21</strong> at: <a href='https://wandb.ai/ericwkoch/mlp-mnist-extended/runs/ihta500j' target=\"_blank\">https://wandb.ai/ericwkoch/mlp-mnist-extended/runs/ihta500j</a><br> View project at: <a href='https://wandb.ai/ericwkoch/mlp-mnist-extended' target=\"_blank\">https://wandb.ai/ericwkoch/mlp-mnist-extended</a><br>Synced 5 W&B file(s), 18 media file(s), 20 artifact file(s) and 0 other file(s)"
      ],
      "text/plain": [
       "<IPython.core.display.HTML object>"
      ]
     },
     "metadata": {},
     "output_type": "display_data"
    },
    {
     "data": {
      "text/html": [
       "Find logs at: <code>./wandb/run-20251010_172513-ihta500j/logs</code>"
      ],
      "text/plain": [
       "<IPython.core.display.HTML object>"
      ]
     },
     "metadata": {},
     "output_type": "display_data"
    },
    {
     "name": "stderr",
     "output_type": "stream",
     "text": [
      "\u001b[34m\u001b[1mwandb\u001b[0m: Agent Starting Run: ygfy9eif with config:\n",
      "\u001b[34m\u001b[1mwandb\u001b[0m: \tdropout: 0.3\n",
      "\u001b[34m\u001b[1mwandb\u001b[0m: \tmax_lr: 0.03\n",
      "\u001b[34m\u001b[1mwandb\u001b[0m: \tmixup_alpha: 0\n"
     ]
    },
    {
     "data": {
      "text/html": [
       "Ignoring project 'mlp-mnist-extended' when running a sweep."
      ],
      "text/plain": [
       "<IPython.core.display.HTML object>"
      ]
     },
     "metadata": {},
     "output_type": "display_data"
    },
    {
     "data": {
      "text/html": [],
      "text/plain": [
       "<IPython.core.display.HTML object>"
      ]
     },
     "metadata": {},
     "output_type": "display_data"
    },
    {
     "data": {
      "text/html": [
       "Tracking run with wandb version 0.22.2"
      ],
      "text/plain": [
       "<IPython.core.display.HTML object>"
      ]
     },
     "metadata": {},
     "output_type": "display_data"
    },
    {
     "data": {
      "text/html": [
       "Run data is saved locally in <code>/Users/ewkoch/repos/mlp/notebooks/wandb/run-20251010_172724-ygfy9eif</code>"
      ],
      "text/plain": [
       "<IPython.core.display.HTML object>"
      ]
     },
     "metadata": {},
     "output_type": "display_data"
    },
    {
     "data": {
      "text/html": [
       "Syncing run <strong><a href='https://wandb.ai/ericwkoch/mlp-mnist-extended/runs/ygfy9eif' target=\"_blank\">lyric-sweep-22</a></strong> to <a href='https://wandb.ai/ericwkoch/mlp-mnist-extended' target=\"_blank\">Weights & Biases</a> (<a href='https://wandb.me/developer-guide' target=\"_blank\">docs</a>)<br>Sweep page: <a href='https://wandb.ai/ericwkoch/mlp-mnist-extended/sweeps/lyhvzu53' target=\"_blank\">https://wandb.ai/ericwkoch/mlp-mnist-extended/sweeps/lyhvzu53</a>"
      ],
      "text/plain": [
       "<IPython.core.display.HTML object>"
      ]
     },
     "metadata": {},
     "output_type": "display_data"
    },
    {
     "data": {
      "text/html": [
       " View project at <a href='https://wandb.ai/ericwkoch/mlp-mnist-extended' target=\"_blank\">https://wandb.ai/ericwkoch/mlp-mnist-extended</a>"
      ],
      "text/plain": [
       "<IPython.core.display.HTML object>"
      ]
     },
     "metadata": {},
     "output_type": "display_data"
    },
    {
     "data": {
      "text/html": [
       " View sweep at <a href='https://wandb.ai/ericwkoch/mlp-mnist-extended/sweeps/lyhvzu53' target=\"_blank\">https://wandb.ai/ericwkoch/mlp-mnist-extended/sweeps/lyhvzu53</a>"
      ],
      "text/plain": [
       "<IPython.core.display.HTML object>"
      ]
     },
     "metadata": {},
     "output_type": "display_data"
    },
    {
     "data": {
      "text/html": [
       " View run at <a href='https://wandb.ai/ericwkoch/mlp-mnist-extended/runs/ygfy9eif' target=\"_blank\">https://wandb.ai/ericwkoch/mlp-mnist-extended/runs/ygfy9eif</a>"
      ],
      "text/plain": [
       "<IPython.core.display.HTML object>"
      ]
     },
     "metadata": {},
     "output_type": "display_data"
    },
    {
     "name": "stdout",
     "output_type": "stream",
     "text": [
      "Test accuracy: 0.9880\n"
     ]
    },
    {
     "data": {
      "text/html": [],
      "text/plain": [
       "<IPython.core.display.HTML object>"
      ]
     },
     "metadata": {},
     "output_type": "display_data"
    },
    {
     "data": {
      "text/html": [
       "<br>    <style><br>        .wandb-row {<br>            display: flex;<br>            flex-direction: row;<br>            flex-wrap: wrap;<br>            justify-content: flex-start;<br>            width: 100%;<br>        }<br>        .wandb-col {<br>            display: flex;<br>            flex-direction: column;<br>            flex-basis: 100%;<br>            flex: 1;<br>            padding: 10px;<br>        }<br>    </style><br><div class=\"wandb-row\"><div class=\"wandb-col\"><h3>Run history:</h3><br/><table class=\"wandb\"><tr><td>epoch</td><td>▁▁▂▂▂▃▃▄▄▄▅▅▅▆▆▇▇▇██</td></tr><tr><td>lr</td><td>▅████▇▇▆▆▅▄▄▃▃▂▂▁▁▁▁</td></tr><tr><td>misclassified_count</td><td>▁</td></tr><tr><td>test/acc</td><td>▁</td></tr><tr><td>test/class_acc/0</td><td>▁</td></tr><tr><td>test/class_acc/1</td><td>▁</td></tr><tr><td>test/class_acc/2</td><td>▁</td></tr><tr><td>test/class_acc/3</td><td>▁</td></tr><tr><td>test/class_acc/4</td><td>▁</td></tr><tr><td>test/class_acc/5</td><td>▁</td></tr><tr><td>+11</td><td>...</td></tr></table><br/></div><div class=\"wandb-col\"><h3>Run summary:</h3><br/><table class=\"wandb\"><tr><td>best_valid_acc</td><td>0.98706</td></tr><tr><td>epoch</td><td>20</td></tr><tr><td>lr</td><td>0.0</td></tr><tr><td>misclassified_count</td><td>16</td></tr><tr><td>param_count</td><td>1466122</td></tr><tr><td>test/acc</td><td>0.98799</td></tr><tr><td>test/class_acc/0</td><td>0.99286</td></tr><tr><td>test/class_acc/1</td><td>0.99383</td></tr><tr><td>test/class_acc/2</td><td>0.98837</td></tr><tr><td>test/class_acc/3</td><td>0.98812</td></tr><tr><td>+15</td><td>...</td></tr></table><br/></div></div>"
      ],
      "text/plain": [
       "<IPython.core.display.HTML object>"
      ]
     },
     "metadata": {},
     "output_type": "display_data"
    },
    {
     "data": {
      "text/html": [
       " View run <strong style=\"color:#cdcd00\">lyric-sweep-22</strong> at: <a href='https://wandb.ai/ericwkoch/mlp-mnist-extended/runs/ygfy9eif' target=\"_blank\">https://wandb.ai/ericwkoch/mlp-mnist-extended/runs/ygfy9eif</a><br> View project at: <a href='https://wandb.ai/ericwkoch/mlp-mnist-extended' target=\"_blank\">https://wandb.ai/ericwkoch/mlp-mnist-extended</a><br>Synced 5 W&B file(s), 18 media file(s), 20 artifact file(s) and 0 other file(s)"
      ],
      "text/plain": [
       "<IPython.core.display.HTML object>"
      ]
     },
     "metadata": {},
     "output_type": "display_data"
    },
    {
     "data": {
      "text/html": [
       "Find logs at: <code>./wandb/run-20251010_172724-ygfy9eif/logs</code>"
      ],
      "text/plain": [
       "<IPython.core.display.HTML object>"
      ]
     },
     "metadata": {},
     "output_type": "display_data"
    },
    {
     "name": "stderr",
     "output_type": "stream",
     "text": [
      "\u001b[34m\u001b[1mwandb\u001b[0m: Sweep Agent: Waiting for job.\n",
      "\u001b[34m\u001b[1mwandb\u001b[0m: Job received.\n",
      "\u001b[34m\u001b[1mwandb\u001b[0m: Agent Starting Run: fk273af8 with config:\n",
      "\u001b[34m\u001b[1mwandb\u001b[0m: \tdropout: 0.3\n",
      "\u001b[34m\u001b[1mwandb\u001b[0m: \tmax_lr: 0.03\n",
      "\u001b[34m\u001b[1mwandb\u001b[0m: \tmixup_alpha: 0.1\n"
     ]
    },
    {
     "data": {
      "text/html": [
       "Ignoring project 'mlp-mnist-extended' when running a sweep."
      ],
      "text/plain": [
       "<IPython.core.display.HTML object>"
      ]
     },
     "metadata": {},
     "output_type": "display_data"
    },
    {
     "data": {
      "text/html": [],
      "text/plain": [
       "<IPython.core.display.HTML object>"
      ]
     },
     "metadata": {},
     "output_type": "display_data"
    },
    {
     "data": {
      "text/html": [
       "Tracking run with wandb version 0.22.2"
      ],
      "text/plain": [
       "<IPython.core.display.HTML object>"
      ]
     },
     "metadata": {},
     "output_type": "display_data"
    },
    {
     "data": {
      "text/html": [
       "Run data is saved locally in <code>/Users/ewkoch/repos/mlp/notebooks/wandb/run-20251010_174438-fk273af8</code>"
      ],
      "text/plain": [
       "<IPython.core.display.HTML object>"
      ]
     },
     "metadata": {},
     "output_type": "display_data"
    },
    {
     "data": {
      "text/html": [
       "Syncing run <strong><a href='https://wandb.ai/ericwkoch/mlp-mnist-extended/runs/fk273af8' target=\"_blank\">unique-sweep-23</a></strong> to <a href='https://wandb.ai/ericwkoch/mlp-mnist-extended' target=\"_blank\">Weights & Biases</a> (<a href='https://wandb.me/developer-guide' target=\"_blank\">docs</a>)<br>Sweep page: <a href='https://wandb.ai/ericwkoch/mlp-mnist-extended/sweeps/lyhvzu53' target=\"_blank\">https://wandb.ai/ericwkoch/mlp-mnist-extended/sweeps/lyhvzu53</a>"
      ],
      "text/plain": [
       "<IPython.core.display.HTML object>"
      ]
     },
     "metadata": {},
     "output_type": "display_data"
    },
    {
     "data": {
      "text/html": [
       " View project at <a href='https://wandb.ai/ericwkoch/mlp-mnist-extended' target=\"_blank\">https://wandb.ai/ericwkoch/mlp-mnist-extended</a>"
      ],
      "text/plain": [
       "<IPython.core.display.HTML object>"
      ]
     },
     "metadata": {},
     "output_type": "display_data"
    },
    {
     "data": {
      "text/html": [
       " View sweep at <a href='https://wandb.ai/ericwkoch/mlp-mnist-extended/sweeps/lyhvzu53' target=\"_blank\">https://wandb.ai/ericwkoch/mlp-mnist-extended/sweeps/lyhvzu53</a>"
      ],
      "text/plain": [
       "<IPython.core.display.HTML object>"
      ]
     },
     "metadata": {},
     "output_type": "display_data"
    },
    {
     "data": {
      "text/html": [
       " View run at <a href='https://wandb.ai/ericwkoch/mlp-mnist-extended/runs/fk273af8' target=\"_blank\">https://wandb.ai/ericwkoch/mlp-mnist-extended/runs/fk273af8</a>"
      ],
      "text/plain": [
       "<IPython.core.display.HTML object>"
      ]
     },
     "metadata": {},
     "output_type": "display_data"
    },
    {
     "name": "stdout",
     "output_type": "stream",
     "text": [
      "Test accuracy: 0.9875\n"
     ]
    },
    {
     "data": {
      "text/html": [],
      "text/plain": [
       "<IPython.core.display.HTML object>"
      ]
     },
     "metadata": {},
     "output_type": "display_data"
    },
    {
     "data": {
      "text/html": [
       "<br>    <style><br>        .wandb-row {<br>            display: flex;<br>            flex-direction: row;<br>            flex-wrap: wrap;<br>            justify-content: flex-start;<br>            width: 100%;<br>        }<br>        .wandb-col {<br>            display: flex;<br>            flex-direction: column;<br>            flex-basis: 100%;<br>            flex: 1;<br>            padding: 10px;<br>        }<br>    </style><br><div class=\"wandb-row\"><div class=\"wandb-col\"><h3>Run history:</h3><br/><table class=\"wandb\"><tr><td>epoch</td><td>▁▁▂▂▂▃▃▄▄▄▅▅▅▆▆▇▇▇██</td></tr><tr><td>lr</td><td>▅████▇▇▆▆▅▄▄▃▃▂▂▁▁▁▁</td></tr><tr><td>misclassified_count</td><td>▁</td></tr><tr><td>test/acc</td><td>▁</td></tr><tr><td>test/class_acc/0</td><td>▁</td></tr><tr><td>test/class_acc/1</td><td>▁</td></tr><tr><td>test/class_acc/2</td><td>▁</td></tr><tr><td>test/class_acc/3</td><td>▁</td></tr><tr><td>test/class_acc/4</td><td>▁</td></tr><tr><td>test/class_acc/5</td><td>▁</td></tr><tr><td>+11</td><td>...</td></tr></table><br/></div><div class=\"wandb-col\"><h3>Run summary:</h3><br/><table class=\"wandb\"><tr><td>best_valid_acc</td><td>0.98682</td></tr><tr><td>epoch</td><td>20</td></tr><tr><td>lr</td><td>0.0</td></tr><tr><td>misclassified_count</td><td>16</td></tr><tr><td>param_count</td><td>1466122</td></tr><tr><td>test/acc</td><td>0.9875</td></tr><tr><td>test/class_acc/0</td><td>0.9949</td></tr><tr><td>test/class_acc/1</td><td>0.99383</td></tr><tr><td>test/class_acc/2</td><td>0.98934</td></tr><tr><td>test/class_acc/3</td><td>0.98614</td></tr><tr><td>+15</td><td>...</td></tr></table><br/></div></div>"
      ],
      "text/plain": [
       "<IPython.core.display.HTML object>"
      ]
     },
     "metadata": {},
     "output_type": "display_data"
    },
    {
     "data": {
      "text/html": [
       " View run <strong style=\"color:#cdcd00\">unique-sweep-23</strong> at: <a href='https://wandb.ai/ericwkoch/mlp-mnist-extended/runs/fk273af8' target=\"_blank\">https://wandb.ai/ericwkoch/mlp-mnist-extended/runs/fk273af8</a><br> View project at: <a href='https://wandb.ai/ericwkoch/mlp-mnist-extended' target=\"_blank\">https://wandb.ai/ericwkoch/mlp-mnist-extended</a><br>Synced 5 W&B file(s), 18 media file(s), 20 artifact file(s) and 0 other file(s)"
      ],
      "text/plain": [
       "<IPython.core.display.HTML object>"
      ]
     },
     "metadata": {},
     "output_type": "display_data"
    },
    {
     "data": {
      "text/html": [
       "Find logs at: <code>./wandb/run-20251010_174438-fk273af8/logs</code>"
      ],
      "text/plain": [
       "<IPython.core.display.HTML object>"
      ]
     },
     "metadata": {},
     "output_type": "display_data"
    },
    {
     "name": "stderr",
     "output_type": "stream",
     "text": [
      "\u001b[34m\u001b[1mwandb\u001b[0m: Agent Starting Run: q7vdimep with config:\n",
      "\u001b[34m\u001b[1mwandb\u001b[0m: \tdropout: 0.3\n",
      "\u001b[34m\u001b[1mwandb\u001b[0m: \tmax_lr: 0.03\n",
      "\u001b[34m\u001b[1mwandb\u001b[0m: \tmixup_alpha: 0.2\n"
     ]
    },
    {
     "data": {
      "text/html": [
       "Ignoring project 'mlp-mnist-extended' when running a sweep."
      ],
      "text/plain": [
       "<IPython.core.display.HTML object>"
      ]
     },
     "metadata": {},
     "output_type": "display_data"
    },
    {
     "data": {
      "text/html": [],
      "text/plain": [
       "<IPython.core.display.HTML object>"
      ]
     },
     "metadata": {},
     "output_type": "display_data"
    },
    {
     "data": {
      "text/html": [
       "Tracking run with wandb version 0.22.2"
      ],
      "text/plain": [
       "<IPython.core.display.HTML object>"
      ]
     },
     "metadata": {},
     "output_type": "display_data"
    },
    {
     "data": {
      "text/html": [
       "Run data is saved locally in <code>/Users/ewkoch/repos/mlp/notebooks/wandb/run-20251010_181611-q7vdimep</code>"
      ],
      "text/plain": [
       "<IPython.core.display.HTML object>"
      ]
     },
     "metadata": {},
     "output_type": "display_data"
    },
    {
     "data": {
      "text/html": [
       "Syncing run <strong><a href='https://wandb.ai/ericwkoch/mlp-mnist-extended/runs/q7vdimep' target=\"_blank\">elated-sweep-24</a></strong> to <a href='https://wandb.ai/ericwkoch/mlp-mnist-extended' target=\"_blank\">Weights & Biases</a> (<a href='https://wandb.me/developer-guide' target=\"_blank\">docs</a>)<br>Sweep page: <a href='https://wandb.ai/ericwkoch/mlp-mnist-extended/sweeps/lyhvzu53' target=\"_blank\">https://wandb.ai/ericwkoch/mlp-mnist-extended/sweeps/lyhvzu53</a>"
      ],
      "text/plain": [
       "<IPython.core.display.HTML object>"
      ]
     },
     "metadata": {},
     "output_type": "display_data"
    },
    {
     "data": {
      "text/html": [
       " View project at <a href='https://wandb.ai/ericwkoch/mlp-mnist-extended' target=\"_blank\">https://wandb.ai/ericwkoch/mlp-mnist-extended</a>"
      ],
      "text/plain": [
       "<IPython.core.display.HTML object>"
      ]
     },
     "metadata": {},
     "output_type": "display_data"
    },
    {
     "data": {
      "text/html": [
       " View sweep at <a href='https://wandb.ai/ericwkoch/mlp-mnist-extended/sweeps/lyhvzu53' target=\"_blank\">https://wandb.ai/ericwkoch/mlp-mnist-extended/sweeps/lyhvzu53</a>"
      ],
      "text/plain": [
       "<IPython.core.display.HTML object>"
      ]
     },
     "metadata": {},
     "output_type": "display_data"
    },
    {
     "data": {
      "text/html": [
       " View run at <a href='https://wandb.ai/ericwkoch/mlp-mnist-extended/runs/q7vdimep' target=\"_blank\">https://wandb.ai/ericwkoch/mlp-mnist-extended/runs/q7vdimep</a>"
      ],
      "text/plain": [
       "<IPython.core.display.HTML object>"
      ]
     },
     "metadata": {},
     "output_type": "display_data"
    },
    {
     "name": "stdout",
     "output_type": "stream",
     "text": [
      "Test accuracy: 0.9877\n"
     ]
    },
    {
     "data": {
      "text/html": [],
      "text/plain": [
       "<IPython.core.display.HTML object>"
      ]
     },
     "metadata": {},
     "output_type": "display_data"
    },
    {
     "data": {
      "text/html": [
       "<br>    <style><br>        .wandb-row {<br>            display: flex;<br>            flex-direction: row;<br>            flex-wrap: wrap;<br>            justify-content: flex-start;<br>            width: 100%;<br>        }<br>        .wandb-col {<br>            display: flex;<br>            flex-direction: column;<br>            flex-basis: 100%;<br>            flex: 1;<br>            padding: 10px;<br>        }<br>    </style><br><div class=\"wandb-row\"><div class=\"wandb-col\"><h3>Run history:</h3><br/><table class=\"wandb\"><tr><td>epoch</td><td>▁▁▂▂▂▃▃▄▄▄▅▅▅▆▆▇▇▇██</td></tr><tr><td>lr</td><td>▅████▇▇▆▆▅▄▄▃▃▂▂▁▁▁▁</td></tr><tr><td>misclassified_count</td><td>▁</td></tr><tr><td>test/acc</td><td>▁</td></tr><tr><td>test/class_acc/0</td><td>▁</td></tr><tr><td>test/class_acc/1</td><td>▁</td></tr><tr><td>test/class_acc/2</td><td>▁</td></tr><tr><td>test/class_acc/3</td><td>▁</td></tr><tr><td>test/class_acc/4</td><td>▁</td></tr><tr><td>test/class_acc/5</td><td>▁</td></tr><tr><td>+11</td><td>...</td></tr></table><br/></div><div class=\"wandb-col\"><h3>Run summary:</h3><br/><table class=\"wandb\"><tr><td>best_valid_acc</td><td>0.98755</td></tr><tr><td>epoch</td><td>20</td></tr><tr><td>lr</td><td>0.0</td></tr><tr><td>misclassified_count</td><td>16</td></tr><tr><td>param_count</td><td>1466122</td></tr><tr><td>test/acc</td><td>0.9877</td></tr><tr><td>test/class_acc/0</td><td>0.99592</td></tr><tr><td>test/class_acc/1</td><td>0.99559</td></tr><tr><td>test/class_acc/2</td><td>0.99128</td></tr><tr><td>test/class_acc/3</td><td>0.99109</td></tr><tr><td>+15</td><td>...</td></tr></table><br/></div></div>"
      ],
      "text/plain": [
       "<IPython.core.display.HTML object>"
      ]
     },
     "metadata": {},
     "output_type": "display_data"
    },
    {
     "data": {
      "text/html": [
       " View run <strong style=\"color:#cdcd00\">elated-sweep-24</strong> at: <a href='https://wandb.ai/ericwkoch/mlp-mnist-extended/runs/q7vdimep' target=\"_blank\">https://wandb.ai/ericwkoch/mlp-mnist-extended/runs/q7vdimep</a><br> View project at: <a href='https://wandb.ai/ericwkoch/mlp-mnist-extended' target=\"_blank\">https://wandb.ai/ericwkoch/mlp-mnist-extended</a><br>Synced 5 W&B file(s), 18 media file(s), 20 artifact file(s) and 0 other file(s)"
      ],
      "text/plain": [
       "<IPython.core.display.HTML object>"
      ]
     },
     "metadata": {},
     "output_type": "display_data"
    },
    {
     "data": {
      "text/html": [
       "Find logs at: <code>./wandb/run-20251010_181611-q7vdimep/logs</code>"
      ],
      "text/plain": [
       "<IPython.core.display.HTML object>"
      ]
     },
     "metadata": {},
     "output_type": "display_data"
    },
    {
     "name": "stderr",
     "output_type": "stream",
     "text": [
      "\u001b[34m\u001b[1mwandb\u001b[0m: Agent Starting Run: sctkdwow with config:\n",
      "\u001b[34m\u001b[1mwandb\u001b[0m: \tdropout: 0.3\n",
      "\u001b[34m\u001b[1mwandb\u001b[0m: \tmax_lr: 0.04\n",
      "\u001b[34m\u001b[1mwandb\u001b[0m: \tmixup_alpha: 0\n"
     ]
    },
    {
     "data": {
      "text/html": [
       "Ignoring project 'mlp-mnist-extended' when running a sweep."
      ],
      "text/plain": [
       "<IPython.core.display.HTML object>"
      ]
     },
     "metadata": {},
     "output_type": "display_data"
    },
    {
     "data": {
      "text/html": [],
      "text/plain": [
       "<IPython.core.display.HTML object>"
      ]
     },
     "metadata": {},
     "output_type": "display_data"
    },
    {
     "data": {
      "text/html": [
       "Tracking run with wandb version 0.22.2"
      ],
      "text/plain": [
       "<IPython.core.display.HTML object>"
      ]
     },
     "metadata": {},
     "output_type": "display_data"
    },
    {
     "data": {
      "text/html": [
       "Run data is saved locally in <code>/Users/ewkoch/repos/mlp/notebooks/wandb/run-20251010_182050-sctkdwow</code>"
      ],
      "text/plain": [
       "<IPython.core.display.HTML object>"
      ]
     },
     "metadata": {},
     "output_type": "display_data"
    },
    {
     "data": {
      "text/html": [
       "Syncing run <strong><a href='https://wandb.ai/ericwkoch/mlp-mnist-extended/runs/sctkdwow' target=\"_blank\">dandy-sweep-25</a></strong> to <a href='https://wandb.ai/ericwkoch/mlp-mnist-extended' target=\"_blank\">Weights & Biases</a> (<a href='https://wandb.me/developer-guide' target=\"_blank\">docs</a>)<br>Sweep page: <a href='https://wandb.ai/ericwkoch/mlp-mnist-extended/sweeps/lyhvzu53' target=\"_blank\">https://wandb.ai/ericwkoch/mlp-mnist-extended/sweeps/lyhvzu53</a>"
      ],
      "text/plain": [
       "<IPython.core.display.HTML object>"
      ]
     },
     "metadata": {},
     "output_type": "display_data"
    },
    {
     "data": {
      "text/html": [
       " View project at <a href='https://wandb.ai/ericwkoch/mlp-mnist-extended' target=\"_blank\">https://wandb.ai/ericwkoch/mlp-mnist-extended</a>"
      ],
      "text/plain": [
       "<IPython.core.display.HTML object>"
      ]
     },
     "metadata": {},
     "output_type": "display_data"
    },
    {
     "data": {
      "text/html": [
       " View sweep at <a href='https://wandb.ai/ericwkoch/mlp-mnist-extended/sweeps/lyhvzu53' target=\"_blank\">https://wandb.ai/ericwkoch/mlp-mnist-extended/sweeps/lyhvzu53</a>"
      ],
      "text/plain": [
       "<IPython.core.display.HTML object>"
      ]
     },
     "metadata": {},
     "output_type": "display_data"
    },
    {
     "data": {
      "text/html": [
       " View run at <a href='https://wandb.ai/ericwkoch/mlp-mnist-extended/runs/sctkdwow' target=\"_blank\">https://wandb.ai/ericwkoch/mlp-mnist-extended/runs/sctkdwow</a>"
      ],
      "text/plain": [
       "<IPython.core.display.HTML object>"
      ]
     },
     "metadata": {},
     "output_type": "display_data"
    },
    {
     "name": "stdout",
     "output_type": "stream",
     "text": [
      "Test accuracy: 0.9878\n"
     ]
    },
    {
     "data": {
      "text/html": [],
      "text/plain": [
       "<IPython.core.display.HTML object>"
      ]
     },
     "metadata": {},
     "output_type": "display_data"
    },
    {
     "data": {
      "text/html": [
       "<br>    <style><br>        .wandb-row {<br>            display: flex;<br>            flex-direction: row;<br>            flex-wrap: wrap;<br>            justify-content: flex-start;<br>            width: 100%;<br>        }<br>        .wandb-col {<br>            display: flex;<br>            flex-direction: column;<br>            flex-basis: 100%;<br>            flex: 1;<br>            padding: 10px;<br>        }<br>    </style><br><div class=\"wandb-row\"><div class=\"wandb-col\"><h3>Run history:</h3><br/><table class=\"wandb\"><tr><td>epoch</td><td>▁▁▂▂▂▃▃▄▄▄▅▅▅▆▆▇▇▇██</td></tr><tr><td>lr</td><td>▅████▇▇▆▆▅▄▄▃▃▂▂▁▁▁▁</td></tr><tr><td>misclassified_count</td><td>▁</td></tr><tr><td>test/acc</td><td>▁</td></tr><tr><td>test/class_acc/0</td><td>▁</td></tr><tr><td>test/class_acc/1</td><td>▁</td></tr><tr><td>test/class_acc/2</td><td>▁</td></tr><tr><td>test/class_acc/3</td><td>▁</td></tr><tr><td>test/class_acc/4</td><td>▁</td></tr><tr><td>test/class_acc/5</td><td>▁</td></tr><tr><td>+11</td><td>...</td></tr></table><br/></div><div class=\"wandb-col\"><h3>Run summary:</h3><br/><table class=\"wandb\"><tr><td>best_valid_acc</td><td>0.98779</td></tr><tr><td>epoch</td><td>20</td></tr><tr><td>lr</td><td>0.0</td></tr><tr><td>misclassified_count</td><td>16</td></tr><tr><td>param_count</td><td>1466122</td></tr><tr><td>test/acc</td><td>0.98779</td></tr><tr><td>test/class_acc/0</td><td>0.9949</td></tr><tr><td>test/class_acc/1</td><td>0.99295</td></tr><tr><td>test/class_acc/2</td><td>0.98837</td></tr><tr><td>test/class_acc/3</td><td>0.9901</td></tr><tr><td>+15</td><td>...</td></tr></table><br/></div></div>"
      ],
      "text/plain": [
       "<IPython.core.display.HTML object>"
      ]
     },
     "metadata": {},
     "output_type": "display_data"
    },
    {
     "data": {
      "text/html": [
       " View run <strong style=\"color:#cdcd00\">dandy-sweep-25</strong> at: <a href='https://wandb.ai/ericwkoch/mlp-mnist-extended/runs/sctkdwow' target=\"_blank\">https://wandb.ai/ericwkoch/mlp-mnist-extended/runs/sctkdwow</a><br> View project at: <a href='https://wandb.ai/ericwkoch/mlp-mnist-extended' target=\"_blank\">https://wandb.ai/ericwkoch/mlp-mnist-extended</a><br>Synced 5 W&B file(s), 18 media file(s), 20 artifact file(s) and 0 other file(s)"
      ],
      "text/plain": [
       "<IPython.core.display.HTML object>"
      ]
     },
     "metadata": {},
     "output_type": "display_data"
    },
    {
     "data": {
      "text/html": [
       "Find logs at: <code>./wandb/run-20251010_182050-sctkdwow/logs</code>"
      ],
      "text/plain": [
       "<IPython.core.display.HTML object>"
      ]
     },
     "metadata": {},
     "output_type": "display_data"
    },
    {
     "name": "stderr",
     "output_type": "stream",
     "text": [
      "\u001b[34m\u001b[1mwandb\u001b[0m: Agent Starting Run: arqj0f1p with config:\n",
      "\u001b[34m\u001b[1mwandb\u001b[0m: \tdropout: 0.3\n",
      "\u001b[34m\u001b[1mwandb\u001b[0m: \tmax_lr: 0.04\n",
      "\u001b[34m\u001b[1mwandb\u001b[0m: \tmixup_alpha: 0.1\n"
     ]
    },
    {
     "data": {
      "text/html": [
       "Ignoring project 'mlp-mnist-extended' when running a sweep."
      ],
      "text/plain": [
       "<IPython.core.display.HTML object>"
      ]
     },
     "metadata": {},
     "output_type": "display_data"
    },
    {
     "data": {
      "text/html": [],
      "text/plain": [
       "<IPython.core.display.HTML object>"
      ]
     },
     "metadata": {},
     "output_type": "display_data"
    },
    {
     "data": {
      "text/html": [
       "Tracking run with wandb version 0.22.2"
      ],
      "text/plain": [
       "<IPython.core.display.HTML object>"
      ]
     },
     "metadata": {},
     "output_type": "display_data"
    },
    {
     "data": {
      "text/html": [
       "Run data is saved locally in <code>/Users/ewkoch/repos/mlp/notebooks/wandb/run-20251010_182253-arqj0f1p</code>"
      ],
      "text/plain": [
       "<IPython.core.display.HTML object>"
      ]
     },
     "metadata": {},
     "output_type": "display_data"
    },
    {
     "data": {
      "text/html": [
       "Syncing run <strong><a href='https://wandb.ai/ericwkoch/mlp-mnist-extended/runs/arqj0f1p' target=\"_blank\">young-sweep-26</a></strong> to <a href='https://wandb.ai/ericwkoch/mlp-mnist-extended' target=\"_blank\">Weights & Biases</a> (<a href='https://wandb.me/developer-guide' target=\"_blank\">docs</a>)<br>Sweep page: <a href='https://wandb.ai/ericwkoch/mlp-mnist-extended/sweeps/lyhvzu53' target=\"_blank\">https://wandb.ai/ericwkoch/mlp-mnist-extended/sweeps/lyhvzu53</a>"
      ],
      "text/plain": [
       "<IPython.core.display.HTML object>"
      ]
     },
     "metadata": {},
     "output_type": "display_data"
    },
    {
     "data": {
      "text/html": [
       " View project at <a href='https://wandb.ai/ericwkoch/mlp-mnist-extended' target=\"_blank\">https://wandb.ai/ericwkoch/mlp-mnist-extended</a>"
      ],
      "text/plain": [
       "<IPython.core.display.HTML object>"
      ]
     },
     "metadata": {},
     "output_type": "display_data"
    },
    {
     "data": {
      "text/html": [
       " View sweep at <a href='https://wandb.ai/ericwkoch/mlp-mnist-extended/sweeps/lyhvzu53' target=\"_blank\">https://wandb.ai/ericwkoch/mlp-mnist-extended/sweeps/lyhvzu53</a>"
      ],
      "text/plain": [
       "<IPython.core.display.HTML object>"
      ]
     },
     "metadata": {},
     "output_type": "display_data"
    },
    {
     "data": {
      "text/html": [
       " View run at <a href='https://wandb.ai/ericwkoch/mlp-mnist-extended/runs/arqj0f1p' target=\"_blank\">https://wandb.ai/ericwkoch/mlp-mnist-extended/runs/arqj0f1p</a>"
      ],
      "text/plain": [
       "<IPython.core.display.HTML object>"
      ]
     },
     "metadata": {},
     "output_type": "display_data"
    },
    {
     "name": "stdout",
     "output_type": "stream",
     "text": [
      "Test accuracy: 0.9872\n"
     ]
    },
    {
     "data": {
      "text/html": [],
      "text/plain": [
       "<IPython.core.display.HTML object>"
      ]
     },
     "metadata": {},
     "output_type": "display_data"
    },
    {
     "data": {
      "text/html": [
       "<br>    <style><br>        .wandb-row {<br>            display: flex;<br>            flex-direction: row;<br>            flex-wrap: wrap;<br>            justify-content: flex-start;<br>            width: 100%;<br>        }<br>        .wandb-col {<br>            display: flex;<br>            flex-direction: column;<br>            flex-basis: 100%;<br>            flex: 1;<br>            padding: 10px;<br>        }<br>    </style><br><div class=\"wandb-row\"><div class=\"wandb-col\"><h3>Run history:</h3><br/><table class=\"wandb\"><tr><td>epoch</td><td>▁▁▂▂▂▃▃▄▄▄▅▅▅▆▆▇▇▇██</td></tr><tr><td>lr</td><td>▅████▇▇▆▆▅▄▄▃▃▂▂▁▁▁▁</td></tr><tr><td>misclassified_count</td><td>▁</td></tr><tr><td>test/acc</td><td>▁</td></tr><tr><td>test/class_acc/0</td><td>▁</td></tr><tr><td>test/class_acc/1</td><td>▁</td></tr><tr><td>test/class_acc/2</td><td>▁</td></tr><tr><td>test/class_acc/3</td><td>▁</td></tr><tr><td>test/class_acc/4</td><td>▁</td></tr><tr><td>test/class_acc/5</td><td>▁</td></tr><tr><td>+11</td><td>...</td></tr></table><br/></div><div class=\"wandb-col\"><h3>Run summary:</h3><br/><table class=\"wandb\"><tr><td>best_valid_acc</td><td>0.98669</td></tr><tr><td>epoch</td><td>20</td></tr><tr><td>lr</td><td>0.0</td></tr><tr><td>misclassified_count</td><td>16</td></tr><tr><td>param_count</td><td>1466122</td></tr><tr><td>test/acc</td><td>0.98721</td></tr><tr><td>test/class_acc/0</td><td>0.99286</td></tr><tr><td>test/class_acc/1</td><td>0.99207</td></tr><tr><td>test/class_acc/2</td><td>0.99031</td></tr><tr><td>test/class_acc/3</td><td>0.98812</td></tr><tr><td>+15</td><td>...</td></tr></table><br/></div></div>"
      ],
      "text/plain": [
       "<IPython.core.display.HTML object>"
      ]
     },
     "metadata": {},
     "output_type": "display_data"
    },
    {
     "data": {
      "text/html": [
       " View run <strong style=\"color:#cdcd00\">young-sweep-26</strong> at: <a href='https://wandb.ai/ericwkoch/mlp-mnist-extended/runs/arqj0f1p' target=\"_blank\">https://wandb.ai/ericwkoch/mlp-mnist-extended/runs/arqj0f1p</a><br> View project at: <a href='https://wandb.ai/ericwkoch/mlp-mnist-extended' target=\"_blank\">https://wandb.ai/ericwkoch/mlp-mnist-extended</a><br>Synced 5 W&B file(s), 18 media file(s), 20 artifact file(s) and 0 other file(s)"
      ],
      "text/plain": [
       "<IPython.core.display.HTML object>"
      ]
     },
     "metadata": {},
     "output_type": "display_data"
    },
    {
     "data": {
      "text/html": [
       "Find logs at: <code>./wandb/run-20251010_182253-arqj0f1p/logs</code>"
      ],
      "text/plain": [
       "<IPython.core.display.HTML object>"
      ]
     },
     "metadata": {},
     "output_type": "display_data"
    },
    {
     "name": "stderr",
     "output_type": "stream",
     "text": [
      "\u001b[34m\u001b[1mwandb\u001b[0m: Agent Starting Run: zlqoh9v4 with config:\n",
      "\u001b[34m\u001b[1mwandb\u001b[0m: \tdropout: 0.3\n",
      "\u001b[34m\u001b[1mwandb\u001b[0m: \tmax_lr: 0.04\n",
      "\u001b[34m\u001b[1mwandb\u001b[0m: \tmixup_alpha: 0.2\n"
     ]
    },
    {
     "data": {
      "text/html": [
       "Ignoring project 'mlp-mnist-extended' when running a sweep."
      ],
      "text/plain": [
       "<IPython.core.display.HTML object>"
      ]
     },
     "metadata": {},
     "output_type": "display_data"
    },
    {
     "data": {
      "text/html": [],
      "text/plain": [
       "<IPython.core.display.HTML object>"
      ]
     },
     "metadata": {},
     "output_type": "display_data"
    },
    {
     "data": {
      "text/html": [
       "Tracking run with wandb version 0.22.2"
      ],
      "text/plain": [
       "<IPython.core.display.HTML object>"
      ]
     },
     "metadata": {},
     "output_type": "display_data"
    },
    {
     "data": {
      "text/html": [
       "Run data is saved locally in <code>/Users/ewkoch/repos/mlp/notebooks/wandb/run-20251010_182501-zlqoh9v4</code>"
      ],
      "text/plain": [
       "<IPython.core.display.HTML object>"
      ]
     },
     "metadata": {},
     "output_type": "display_data"
    },
    {
     "data": {
      "text/html": [
       "Syncing run <strong><a href='https://wandb.ai/ericwkoch/mlp-mnist-extended/runs/zlqoh9v4' target=\"_blank\">sparkling-sweep-27</a></strong> to <a href='https://wandb.ai/ericwkoch/mlp-mnist-extended' target=\"_blank\">Weights & Biases</a> (<a href='https://wandb.me/developer-guide' target=\"_blank\">docs</a>)<br>Sweep page: <a href='https://wandb.ai/ericwkoch/mlp-mnist-extended/sweeps/lyhvzu53' target=\"_blank\">https://wandb.ai/ericwkoch/mlp-mnist-extended/sweeps/lyhvzu53</a>"
      ],
      "text/plain": [
       "<IPython.core.display.HTML object>"
      ]
     },
     "metadata": {},
     "output_type": "display_data"
    },
    {
     "data": {
      "text/html": [
       " View project at <a href='https://wandb.ai/ericwkoch/mlp-mnist-extended' target=\"_blank\">https://wandb.ai/ericwkoch/mlp-mnist-extended</a>"
      ],
      "text/plain": [
       "<IPython.core.display.HTML object>"
      ]
     },
     "metadata": {},
     "output_type": "display_data"
    },
    {
     "data": {
      "text/html": [
       " View sweep at <a href='https://wandb.ai/ericwkoch/mlp-mnist-extended/sweeps/lyhvzu53' target=\"_blank\">https://wandb.ai/ericwkoch/mlp-mnist-extended/sweeps/lyhvzu53</a>"
      ],
      "text/plain": [
       "<IPython.core.display.HTML object>"
      ]
     },
     "metadata": {},
     "output_type": "display_data"
    },
    {
     "data": {
      "text/html": [
       " View run at <a href='https://wandb.ai/ericwkoch/mlp-mnist-extended/runs/zlqoh9v4' target=\"_blank\">https://wandb.ai/ericwkoch/mlp-mnist-extended/runs/zlqoh9v4</a>"
      ],
      "text/plain": [
       "<IPython.core.display.HTML object>"
      ]
     },
     "metadata": {},
     "output_type": "display_data"
    },
    {
     "name": "stdout",
     "output_type": "stream",
     "text": [
      "Test accuracy: 0.9873\n"
     ]
    },
    {
     "data": {
      "text/html": [],
      "text/plain": [
       "<IPython.core.display.HTML object>"
      ]
     },
     "metadata": {},
     "output_type": "display_data"
    },
    {
     "data": {
      "text/html": [
       "<br>    <style><br>        .wandb-row {<br>            display: flex;<br>            flex-direction: row;<br>            flex-wrap: wrap;<br>            justify-content: flex-start;<br>            width: 100%;<br>        }<br>        .wandb-col {<br>            display: flex;<br>            flex-direction: column;<br>            flex-basis: 100%;<br>            flex: 1;<br>            padding: 10px;<br>        }<br>    </style><br><div class=\"wandb-row\"><div class=\"wandb-col\"><h3>Run history:</h3><br/><table class=\"wandb\"><tr><td>epoch</td><td>▁▁▂▂▂▃▃▄▄▄▅▅▅▆▆▇▇▇██</td></tr><tr><td>lr</td><td>▅████▇▇▆▆▅▄▄▃▃▂▂▁▁▁▁</td></tr><tr><td>misclassified_count</td><td>▁</td></tr><tr><td>test/acc</td><td>▁</td></tr><tr><td>test/class_acc/0</td><td>▁</td></tr><tr><td>test/class_acc/1</td><td>▁</td></tr><tr><td>test/class_acc/2</td><td>▁</td></tr><tr><td>test/class_acc/3</td><td>▁</td></tr><tr><td>test/class_acc/4</td><td>▁</td></tr><tr><td>test/class_acc/5</td><td>▁</td></tr><tr><td>+11</td><td>...</td></tr></table><br/></div><div class=\"wandb-col\"><h3>Run summary:</h3><br/><table class=\"wandb\"><tr><td>best_valid_acc</td><td>0.9856</td></tr><tr><td>epoch</td><td>20</td></tr><tr><td>lr</td><td>0.0</td></tr><tr><td>misclassified_count</td><td>16</td></tr><tr><td>param_count</td><td>1466122</td></tr><tr><td>test/acc</td><td>0.9873</td></tr><tr><td>test/class_acc/0</td><td>0.9949</td></tr><tr><td>test/class_acc/1</td><td>0.99559</td></tr><tr><td>test/class_acc/2</td><td>0.99128</td></tr><tr><td>test/class_acc/3</td><td>0.98812</td></tr><tr><td>+15</td><td>...</td></tr></table><br/></div></div>"
      ],
      "text/plain": [
       "<IPython.core.display.HTML object>"
      ]
     },
     "metadata": {},
     "output_type": "display_data"
    },
    {
     "data": {
      "text/html": [
       " View run <strong style=\"color:#cdcd00\">sparkling-sweep-27</strong> at: <a href='https://wandb.ai/ericwkoch/mlp-mnist-extended/runs/zlqoh9v4' target=\"_blank\">https://wandb.ai/ericwkoch/mlp-mnist-extended/runs/zlqoh9v4</a><br> View project at: <a href='https://wandb.ai/ericwkoch/mlp-mnist-extended' target=\"_blank\">https://wandb.ai/ericwkoch/mlp-mnist-extended</a><br>Synced 5 W&B file(s), 18 media file(s), 20 artifact file(s) and 0 other file(s)"
      ],
      "text/plain": [
       "<IPython.core.display.HTML object>"
      ]
     },
     "metadata": {},
     "output_type": "display_data"
    },
    {
     "data": {
      "text/html": [
       "Find logs at: <code>./wandb/run-20251010_182501-zlqoh9v4/logs</code>"
      ],
      "text/plain": [
       "<IPython.core.display.HTML object>"
      ]
     },
     "metadata": {},
     "output_type": "display_data"
    }
   ],
   "source": [
    "# Run the sweep\n",
    "wandb.agent(sweep_id, function=run_experiment, count=27)"
   ]
  },
  {
   "cell_type": "code",
   "execution_count": null,
   "id": "c6b62e68",
   "metadata": {},
   "outputs": [],
   "source": []
  },
  {
   "cell_type": "code",
   "execution_count": null,
   "id": "75dcdba2",
   "metadata": {},
   "outputs": [],
   "source": []
  }
 ],
 "metadata": {
  "kernelspec": {
   "display_name": "mlp",
   "language": "python",
   "name": "python3"
  },
  "language_info": {
   "codemirror_mode": {
    "name": "ipython",
    "version": 3
   },
   "file_extension": ".py",
   "mimetype": "text/x-python",
   "name": "python",
   "nbconvert_exporter": "python",
   "pygments_lexer": "ipython3",
   "version": "3.12.11"
  }
 },
 "nbformat": 4,
 "nbformat_minor": 5
}
